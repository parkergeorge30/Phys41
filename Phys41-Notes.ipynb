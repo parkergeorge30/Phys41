{
 "cells": [
  {
   "metadata": {},
   "cell_type": "markdown",
   "source": "# Only processes 16 digits after the decimal",
   "id": "7914b62ce8b064eb"
  },
  {
   "metadata": {
    "ExecuteTime": {
     "end_time": "2025-01-13T23:55:25.464236Z",
     "start_time": "2025-01-13T23:55:25.461739Z"
    }
   },
   "cell_type": "code",
   "source": [
    "a=1.+0.0000000000000000001\n",
    "print(a)"
   ],
   "id": "9a5db67c1c0a7185",
   "outputs": [
    {
     "name": "stdout",
     "output_type": "stream",
     "text": [
      "1.0\n"
     ]
    }
   ],
   "execution_count": 1
  },
  {
   "metadata": {
    "collapsed": true,
    "ExecuteTime": {
     "end_time": "2025-01-13T23:55:25.548017Z",
     "start_time": "2025-01-13T23:55:25.545471Z"
    }
   },
   "cell_type": "code",
   "source": "a-1",
   "id": "initial_id",
   "outputs": [
    {
     "data": {
      "text/plain": [
       "0.0"
      ]
     },
     "execution_count": 2,
     "metadata": {},
     "output_type": "execute_result"
    }
   ],
   "execution_count": 2
  },
  {
   "metadata": {},
   "cell_type": "markdown",
   "source": "# Imaginary Numbers",
   "id": "f3a947a2948261c2"
  },
  {
   "metadata": {
    "ExecuteTime": {
     "end_time": "2025-01-13T23:55:25.552136Z",
     "start_time": "2025-01-13T23:55:25.550720Z"
    }
   },
   "cell_type": "code",
   "source": "c=1j",
   "id": "b09ed894756fc5e2",
   "outputs": [],
   "execution_count": 3
  },
  {
   "metadata": {
    "ExecuteTime": {
     "end_time": "2025-01-13T23:55:25.568581Z",
     "start_time": "2025-01-13T23:55:25.566599Z"
    }
   },
   "cell_type": "code",
   "source": "c**2",
   "id": "69f24f56cb3d0d3a",
   "outputs": [
    {
     "data": {
      "text/plain": [
       "(-1+0j)"
      ]
     },
     "execution_count": 4,
     "metadata": {},
     "output_type": "execute_result"
    }
   ],
   "execution_count": 4
  },
  {
   "metadata": {
    "ExecuteTime": {
     "end_time": "2025-01-13T23:55:25.622522Z",
     "start_time": "2025-01-13T23:55:25.620977Z"
    }
   },
   "cell_type": "code",
   "source": "d=complex(1,2)",
   "id": "425d8d7ae6ba902f",
   "outputs": [],
   "execution_count": 5
  },
  {
   "metadata": {
    "ExecuteTime": {
     "end_time": "2025-01-13T23:55:25.638912Z",
     "start_time": "2025-01-13T23:55:25.637261Z"
    }
   },
   "cell_type": "code",
   "source": "print(d)",
   "id": "d5e74ea62257f32a",
   "outputs": [
    {
     "name": "stdout",
     "output_type": "stream",
     "text": [
      "(1+2j)\n"
     ]
    }
   ],
   "execution_count": 6
  },
  {
   "metadata": {},
   "cell_type": "markdown",
   "source": "# Lists",
   "id": "a9fd089f245e6fab"
  },
  {
   "metadata": {
    "ExecuteTime": {
     "end_time": "2025-01-13T23:55:25.648458Z",
     "start_time": "2025-01-13T23:55:25.646881Z"
    }
   },
   "cell_type": "code",
   "source": "L=[1,2,3,4,'No',5,6,[1,2,3]]",
   "id": "8e38601f52a1dbeb",
   "outputs": [],
   "execution_count": 7
  },
  {
   "metadata": {
    "ExecuteTime": {
     "end_time": "2025-01-13T23:55:25.656616Z",
     "start_time": "2025-01-13T23:55:25.654894Z"
    }
   },
   "cell_type": "code",
   "source": "L[4]",
   "id": "40c1bd45ff8b7963",
   "outputs": [
    {
     "data": {
      "text/plain": [
       "'No'"
      ]
     },
     "execution_count": 8,
     "metadata": {},
     "output_type": "execute_result"
    }
   ],
   "execution_count": 8
  },
  {
   "metadata": {
    "ExecuteTime": {
     "end_time": "2025-01-13T23:55:25.681662Z",
     "start_time": "2025-01-13T23:55:25.679646Z"
    }
   },
   "cell_type": "code",
   "source": "L[7]",
   "id": "2a175f85fee94d84",
   "outputs": [
    {
     "data": {
      "text/plain": [
       "[1, 2, 3]"
      ]
     },
     "execution_count": 9,
     "metadata": {},
     "output_type": "execute_result"
    }
   ],
   "execution_count": 9
  },
  {
   "metadata": {
    "ExecuteTime": {
     "end_time": "2025-01-13T23:55:25.710628Z",
     "start_time": "2025-01-13T23:55:25.708644Z"
    }
   },
   "cell_type": "code",
   "source": "L[7][0]",
   "id": "e6834c4d4ff0a1f1",
   "outputs": [
    {
     "data": {
      "text/plain": [
       "1"
      ]
     },
     "execution_count": 10,
     "metadata": {},
     "output_type": "execute_result"
    }
   ],
   "execution_count": 10
  },
  {
   "metadata": {
    "ExecuteTime": {
     "end_time": "2025-01-13T23:55:25.725143Z",
     "start_time": "2025-01-13T23:55:25.723662Z"
    }
   },
   "cell_type": "code",
   "source": "H=L",
   "id": "db9364d7dd49afc9",
   "outputs": [],
   "execution_count": 11
  },
  {
   "metadata": {
    "ExecuteTime": {
     "end_time": "2025-01-13T23:55:25.733338Z",
     "start_time": "2025-01-13T23:55:25.731725Z"
    }
   },
   "cell_type": "code",
   "source": "print(H)",
   "id": "4184e02b2b72f27c",
   "outputs": [
    {
     "name": "stdout",
     "output_type": "stream",
     "text": [
      "[1, 2, 3, 4, 'No', 5, 6, [1, 2, 3]]\n"
     ]
    }
   ],
   "execution_count": 12
  },
  {
   "metadata": {
    "ExecuteTime": {
     "end_time": "2025-01-13T23:55:25.755284Z",
     "start_time": "2025-01-13T23:55:25.753649Z"
    }
   },
   "cell_type": "code",
   "source": [
    "L[4]=8\n",
    "print(L)\n"
   ],
   "id": "ee5b357930e2afb8",
   "outputs": [
    {
     "name": "stdout",
     "output_type": "stream",
     "text": [
      "[1, 2, 3, 4, 8, 5, 6, [1, 2, 3]]\n"
     ]
    }
   ],
   "execution_count": 13
  },
  {
   "metadata": {
    "ExecuteTime": {
     "end_time": "2025-01-13T23:55:25.765025Z",
     "start_time": "2025-01-13T23:55:25.763551Z"
    }
   },
   "cell_type": "code",
   "source": "print(H)\n",
   "id": "ac900368728a3f2b",
   "outputs": [
    {
     "name": "stdout",
     "output_type": "stream",
     "text": [
      "[1, 2, 3, 4, 8, 5, 6, [1, 2, 3]]\n"
     ]
    }
   ],
   "execution_count": 14
  },
  {
   "metadata": {
    "ExecuteTime": {
     "end_time": "2025-01-13T23:55:25.775451Z",
     "start_time": "2025-01-13T23:55:25.773849Z"
    }
   },
   "cell_type": "code",
   "source": [
    "G=L.copy()\n",
    "print(G)\n"
   ],
   "id": "b7b2c8676498d8a6",
   "outputs": [
    {
     "name": "stdout",
     "output_type": "stream",
     "text": [
      "[1, 2, 3, 4, 8, 5, 6, [1, 2, 3]]\n"
     ]
    }
   ],
   "execution_count": 15
  },
  {
   "metadata": {
    "ExecuteTime": {
     "end_time": "2025-01-13T23:55:25.788349Z",
     "start_time": "2025-01-13T23:55:25.786852Z"
    }
   },
   "cell_type": "code",
   "source": "long_list=[1,2,3,4,5,6,7,8,9,11]",
   "id": "12fd5824bfcfce1d",
   "outputs": [],
   "execution_count": 16
  },
  {
   "metadata": {
    "ExecuteTime": {
     "end_time": "2025-01-13T23:55:25.797721Z",
     "start_time": "2025-01-13T23:55:25.795817Z"
    }
   },
   "cell_type": "code",
   "source": "long_list[:3]",
   "id": "8d2e5c922162af7f",
   "outputs": [
    {
     "data": {
      "text/plain": [
       "[1, 2, 3]"
      ]
     },
     "execution_count": 17,
     "metadata": {},
     "output_type": "execute_result"
    }
   ],
   "execution_count": 17
  },
  {
   "metadata": {
    "ExecuteTime": {
     "end_time": "2025-01-13T23:55:25.813575Z",
     "start_time": "2025-01-13T23:55:25.811808Z"
    }
   },
   "cell_type": "code",
   "source": "long_list[3:]",
   "id": "1f6fb8e5405ed486",
   "outputs": [
    {
     "data": {
      "text/plain": [
       "[4, 5, 6, 7, 8, 9, 11]"
      ]
     },
     "execution_count": 18,
     "metadata": {},
     "output_type": "execute_result"
    }
   ],
   "execution_count": 18
  },
  {
   "metadata": {
    "ExecuteTime": {
     "end_time": "2025-01-13T23:55:25.827223Z",
     "start_time": "2025-01-13T23:55:25.825405Z"
    }
   },
   "cell_type": "code",
   "source": "long_list[1:-1]",
   "id": "c094181f7d66fb31",
   "outputs": [
    {
     "data": {
      "text/plain": [
       "[2, 3, 4, 5, 6, 7, 8, 9]"
      ]
     },
     "execution_count": 19,
     "metadata": {},
     "output_type": "execute_result"
    }
   ],
   "execution_count": 19
  },
  {
   "metadata": {
    "ExecuteTime": {
     "end_time": "2025-01-13T23:55:25.843758Z",
     "start_time": "2025-01-13T23:55:25.841584Z"
    }
   },
   "cell_type": "code",
   "source": "long_list[1::3]",
   "id": "e8217bf008b69c93",
   "outputs": [
    {
     "data": {
      "text/plain": [
       "[2, 5, 8]"
      ]
     },
     "execution_count": 20,
     "metadata": {},
     "output_type": "execute_result"
    }
   ],
   "execution_count": 20
  },
  {
   "metadata": {
    "ExecuteTime": {
     "end_time": "2025-01-13T23:55:25.860216Z",
     "start_time": "2025-01-13T23:55:25.858192Z"
    }
   },
   "cell_type": "code",
   "source": "long_list[::-2]",
   "id": "49d6e2bf1d094004",
   "outputs": [
    {
     "data": {
      "text/plain": [
       "[11, 8, 6, 4, 2]"
      ]
     },
     "execution_count": 21,
     "metadata": {},
     "output_type": "execute_result"
    }
   ],
   "execution_count": 21
  },
  {
   "metadata": {
    "ExecuteTime": {
     "end_time": "2025-01-13T23:55:25.874976Z",
     "start_time": "2025-01-13T23:55:25.872849Z"
    }
   },
   "cell_type": "code",
   "source": "long_list[::-1]",
   "id": "c0fb5f68970e1b8",
   "outputs": [
    {
     "data": {
      "text/plain": [
       "[11, 9, 8, 7, 6, 5, 4, 3, 2, 1]"
      ]
     },
     "execution_count": 22,
     "metadata": {},
     "output_type": "execute_result"
    }
   ],
   "execution_count": 22
  },
  {
   "metadata": {},
   "cell_type": "markdown",
   "source": "# For Loop",
   "id": "360fb8b073a543c1"
  },
  {
   "metadata": {
    "ExecuteTime": {
     "end_time": "2025-01-13T23:55:25.890869Z",
     "start_time": "2025-01-13T23:55:25.889246Z"
    }
   },
   "cell_type": "code",
   "source": [
    "for i in long_list:\n",
    "    print(i)"
   ],
   "id": "2df9c1cc32734e6c",
   "outputs": [
    {
     "name": "stdout",
     "output_type": "stream",
     "text": [
      "1\n",
      "2\n",
      "3\n",
      "4\n",
      "5\n",
      "6\n",
      "7\n",
      "8\n",
      "9\n",
      "11\n"
     ]
    }
   ],
   "execution_count": 23
  },
  {
   "metadata": {
    "ExecuteTime": {
     "end_time": "2025-01-13T23:55:25.904564Z",
     "start_time": "2025-01-13T23:55:25.903123Z"
    }
   },
   "cell_type": "code",
   "source": [
    "total=0\n",
    "for i in long_list:\n",
    "    total+=i"
   ],
   "id": "b7399bca0bf96b62",
   "outputs": [],
   "execution_count": 24
  },
  {
   "metadata": {
    "ExecuteTime": {
     "end_time": "2025-01-13T23:55:25.911445Z",
     "start_time": "2025-01-13T23:55:25.909933Z"
    }
   },
   "cell_type": "code",
   "source": "print(total)",
   "id": "15798c67a99b1520",
   "outputs": [
    {
     "name": "stdout",
     "output_type": "stream",
     "text": [
      "56\n"
     ]
    }
   ],
   "execution_count": 25
  },
  {
   "metadata": {
    "ExecuteTime": {
     "end_time": "2025-01-13T23:55:25.925369Z",
     "start_time": "2025-01-13T23:55:25.923719Z"
    }
   },
   "cell_type": "code",
   "source": [
    "for i in range(10):\n",
    "    print(i)"
   ],
   "id": "bfb52423edb182ad",
   "outputs": [
    {
     "name": "stdout",
     "output_type": "stream",
     "text": [
      "0\n",
      "1\n",
      "2\n",
      "3\n",
      "4\n",
      "5\n",
      "6\n",
      "7\n",
      "8\n",
      "9\n"
     ]
    }
   ],
   "execution_count": 26
  },
  {
   "metadata": {
    "ExecuteTime": {
     "end_time": "2025-01-13T23:55:25.940295Z",
     "start_time": "2025-01-13T23:55:25.938680Z"
    }
   },
   "cell_type": "code",
   "source": [
    "for i in range(1,11):\n",
    "    print(i)"
   ],
   "id": "f891afd1c21af3fe",
   "outputs": [
    {
     "name": "stdout",
     "output_type": "stream",
     "text": [
      "1\n",
      "2\n",
      "3\n",
      "4\n",
      "5\n",
      "6\n",
      "7\n",
      "8\n",
      "9\n",
      "10\n"
     ]
    }
   ],
   "execution_count": 27
  },
  {
   "metadata": {
    "ExecuteTime": {
     "end_time": "2025-01-13T23:55:25.954185Z",
     "start_time": "2025-01-13T23:55:25.952642Z"
    }
   },
   "cell_type": "code",
   "source": "print(range(10))",
   "id": "2bd07e55f9a26299",
   "outputs": [
    {
     "name": "stdout",
     "output_type": "stream",
     "text": [
      "range(0, 10)\n"
     ]
    }
   ],
   "execution_count": 28
  },
  {
   "metadata": {
    "ExecuteTime": {
     "end_time": "2025-01-13T23:55:25.968220Z",
     "start_time": "2025-01-13T23:55:25.966701Z"
    }
   },
   "cell_type": "code",
   "source": "after_tax=long_list.copy()",
   "id": "4eb0a580edbe0b96",
   "outputs": [],
   "execution_count": 29
  },
  {
   "metadata": {
    "ExecuteTime": {
     "end_time": "2025-01-13T23:55:25.976457Z",
     "start_time": "2025-01-13T23:55:25.974820Z"
    }
   },
   "cell_type": "code",
   "source": "len(long_list)",
   "id": "c6d13955e6695f16",
   "outputs": [
    {
     "data": {
      "text/plain": [
       "10"
      ]
     },
     "execution_count": 30,
     "metadata": {},
     "output_type": "execute_result"
    }
   ],
   "execution_count": 30
  },
  {
   "metadata": {
    "ExecuteTime": {
     "end_time": "2025-01-13T23:55:25.989998Z",
     "start_time": "2025-01-13T23:55:25.988428Z"
    }
   },
   "cell_type": "code",
   "source": [
    "for i in range(len(long_list)):\n",
    "    after_tax[i]=long_list[i]*1.1"
   ],
   "id": "91606f49878521b2",
   "outputs": [],
   "execution_count": 31
  },
  {
   "metadata": {
    "ExecuteTime": {
     "end_time": "2025-01-13T23:55:25.997968Z",
     "start_time": "2025-01-13T23:55:25.996161Z"
    }
   },
   "cell_type": "code",
   "source": "after_tax",
   "id": "466c0441791e9d60",
   "outputs": [
    {
     "data": {
      "text/plain": [
       "[1.1,\n",
       " 2.2,\n",
       " 3.3000000000000003,\n",
       " 4.4,\n",
       " 5.5,\n",
       " 6.6000000000000005,\n",
       " 7.700000000000001,\n",
       " 8.8,\n",
       " 9.9,\n",
       " 12.100000000000001]"
      ]
     },
     "execution_count": 32,
     "metadata": {},
     "output_type": "execute_result"
    }
   ],
   "execution_count": 32
  },
  {
   "metadata": {
    "ExecuteTime": {
     "end_time": "2025-01-13T23:55:26.013890Z",
     "start_time": "2025-01-13T23:55:26.012211Z"
    }
   },
   "cell_type": "code",
   "source": [
    "for i,item in enumerate(long_list):\n",
    "    after_tax[i]=item*1.1\n",
    "    \n",
    "print(after_tax)"
   ],
   "id": "b1fcd75623e69c97",
   "outputs": [
    {
     "name": "stdout",
     "output_type": "stream",
     "text": [
      "[1.1, 2.2, 3.3000000000000003, 4.4, 5.5, 6.6000000000000005, 7.700000000000001, 8.8, 9.9, 12.100000000000001]\n"
     ]
    }
   ],
   "execution_count": 33
  },
  {
   "metadata": {
    "ExecuteTime": {
     "end_time": "2025-01-13T23:55:26.029511Z",
     "start_time": "2025-01-13T23:55:26.027786Z"
    }
   },
   "cell_type": "code",
   "source": [
    "for item1 in long_list:\n",
    "    for item2 in range(3):\n",
    "        print(item1,item2)"
   ],
   "id": "579702d2f6ea3da4",
   "outputs": [
    {
     "name": "stdout",
     "output_type": "stream",
     "text": [
      "1 0\n",
      "1 1\n",
      "1 2\n",
      "2 0\n",
      "2 1\n",
      "2 2\n",
      "3 0\n",
      "3 1\n",
      "3 2\n",
      "4 0\n",
      "4 1\n",
      "4 2\n",
      "5 0\n",
      "5 1\n",
      "5 2\n",
      "6 0\n",
      "6 1\n",
      "6 2\n",
      "7 0\n",
      "7 1\n",
      "7 2\n",
      "8 0\n",
      "8 1\n",
      "8 2\n",
      "9 0\n",
      "9 1\n",
      "9 2\n",
      "11 0\n",
      "11 1\n",
      "11 2\n"
     ]
    }
   ],
   "execution_count": 34
  },
  {
   "metadata": {
    "ExecuteTime": {
     "end_time": "2025-01-13T23:55:26.043187Z",
     "start_time": "2025-01-13T23:55:26.041370Z"
    }
   },
   "cell_type": "code",
   "source": [
    "\n",
    "max(long_list)"
   ],
   "id": "163eb7d2ed4d984e",
   "outputs": [
    {
     "data": {
      "text/plain": [
       "11"
      ]
     },
     "execution_count": 35,
     "metadata": {},
     "output_type": "execute_result"
    }
   ],
   "execution_count": 35
  },
  {
   "metadata": {
    "ExecuteTime": {
     "end_time": "2025-01-13T23:55:26.060770Z",
     "start_time": "2025-01-13T23:55:26.058753Z"
    }
   },
   "cell_type": "code",
   "source": "min(long_list)",
   "id": "4b07f8f0bb3fec48",
   "outputs": [
    {
     "data": {
      "text/plain": [
       "1"
      ]
     },
     "execution_count": 36,
     "metadata": {},
     "output_type": "execute_result"
    }
   ],
   "execution_count": 36
  },
  {
   "metadata": {
    "ExecuteTime": {
     "end_time": "2025-01-13T23:55:26.073160Z",
     "start_time": "2025-01-13T23:55:26.071689Z"
    }
   },
   "cell_type": "code",
   "source": "tuple1=(1,2,5,6)",
   "id": "4ccdf445372b8404",
   "outputs": [],
   "execution_count": 37
  },
  {
   "metadata": {
    "ExecuteTime": {
     "end_time": "2025-01-13T23:55:26.082532Z",
     "start_time": "2025-01-13T23:55:26.080970Z"
    }
   },
   "cell_type": "code",
   "source": "tuple1[1]",
   "id": "b506d965bda57d9",
   "outputs": [
    {
     "data": {
      "text/plain": [
       "2"
      ]
     },
     "execution_count": 38,
     "metadata": {},
     "output_type": "execute_result"
    }
   ],
   "execution_count": 38
  },
  {
   "metadata": {
    "ExecuteTime": {
     "end_time": "2025-01-13T23:55:26.094951Z",
     "start_time": "2025-01-13T23:55:26.093297Z"
    }
   },
   "cell_type": "code",
   "source": [
    "for item in tuple1:\n",
    "    print(item)"
   ],
   "id": "48c13a65a33612e",
   "outputs": [
    {
     "name": "stdout",
     "output_type": "stream",
     "text": [
      "1\n",
      "2\n",
      "5\n",
      "6\n"
     ]
    }
   ],
   "execution_count": 39
  },
  {
   "metadata": {},
   "cell_type": "code",
   "source": "tuple1[0]=5",
   "id": "a26cc2447e3a80a4",
   "outputs": [],
   "execution_count": null
  },
  {
   "metadata": {},
   "cell_type": "markdown",
   "source": [
    "# Dictionary\n",
    "### finding items with a keyword"
   ],
   "id": "5130d091475c00ae"
  },
  {
   "metadata": {
    "ExecuteTime": {
     "end_time": "2025-01-13T23:55:26.159482Z",
     "start_time": "2025-01-09T20:02:45.521138Z"
    }
   },
   "cell_type": "code",
   "source": "dict1={'alice':5,'bob':6}",
   "id": "8ae92a141d0b1d77",
   "outputs": [],
   "execution_count": 46
  },
  {
   "metadata": {
    "ExecuteTime": {
     "end_time": "2025-01-13T23:55:26.159705Z",
     "start_time": "2025-01-09T20:03:12.320081Z"
    }
   },
   "cell_type": "code",
   "source": "dict1['alice']",
   "id": "9fb97f563a530c8",
   "outputs": [
    {
     "data": {
      "text/plain": [
       "5"
      ]
     },
     "execution_count": 47,
     "metadata": {},
     "output_type": "execute_result"
    }
   ],
   "execution_count": 47
  },
  {
   "metadata": {
    "ExecuteTime": {
     "end_time": "2025-01-13T23:55:26.164601Z",
     "start_time": "2025-01-09T20:05:28.320827Z"
    }
   },
   "cell_type": "code",
   "source": "dict1['charlie']=9",
   "id": "9e6ceaf13beb3580",
   "outputs": [],
   "execution_count": 48
  },
  {
   "metadata": {
    "ExecuteTime": {
     "end_time": "2025-01-13T23:55:26.166037Z",
     "start_time": "2025-01-09T20:05:32.043102Z"
    }
   },
   "cell_type": "code",
   "source": "print(dict1)\n",
   "id": "4a54c56b2169d01f",
   "outputs": [
    {
     "name": "stdout",
     "output_type": "stream",
     "text": [
      "{'alice': 5, 'bob': 6, 'charlie': 9}\n"
     ]
    }
   ],
   "execution_count": 49
  },
  {
   "metadata": {
    "ExecuteTime": {
     "end_time": "2025-01-13T23:55:26.167108Z",
     "start_time": "2025-01-09T20:06:10.402162Z"
    }
   },
   "cell_type": "code",
   "source": "dict2={}",
   "id": "7252fe6a1d2c515a",
   "outputs": [],
   "execution_count": 50
  },
  {
   "metadata": {
    "ExecuteTime": {
     "end_time": "2025-01-13T23:55:26.167218Z",
     "start_time": "2025-01-09T20:06:29.946114Z"
    }
   },
   "cell_type": "code",
   "source": "dict2['alice']=5",
   "id": "6dbdcff5428bc44e",
   "outputs": [],
   "execution_count": 51
  },
  {
   "metadata": {
    "ExecuteTime": {
     "end_time": "2025-01-13T23:55:26.168613Z",
     "start_time": "2025-01-09T20:06:33.852414Z"
    }
   },
   "cell_type": "code",
   "source": "print(dict2)",
   "id": "2ba8e624acb5e396",
   "outputs": [
    {
     "name": "stdout",
     "output_type": "stream",
     "text": [
      "{'alice': 5}\n"
     ]
    }
   ],
   "execution_count": 52
  },
  {
   "metadata": {
    "ExecuteTime": {
     "end_time": "2025-01-13T23:55:26.168798Z",
     "start_time": "2025-01-10T21:01:41.310305Z"
    }
   },
   "cell_type": "code",
   "source": "new_list=[]",
   "id": "dce722e9cc4bfa56",
   "outputs": [],
   "execution_count": 192
  },
  {
   "metadata": {
    "ExecuteTime": {
     "end_time": "2025-01-13T23:55:26.168978Z",
     "start_time": "2025-01-10T21:01:42.999617Z"
    }
   },
   "cell_type": "code",
   "source": "new_list.append(1)",
   "id": "c48efdc081157f5",
   "outputs": [],
   "execution_count": 193
  },
  {
   "metadata": {
    "ExecuteTime": {
     "end_time": "2025-01-13T23:55:26.169209Z",
     "start_time": "2025-01-10T21:01:44.182294Z"
    }
   },
   "cell_type": "code",
   "source": "print(new_list)",
   "id": "4192c87498e248e1",
   "outputs": [
    {
     "name": "stdout",
     "output_type": "stream",
     "text": [
      "[1]\n"
     ]
    }
   ],
   "execution_count": 194
  },
  {
   "metadata": {
    "ExecuteTime": {
     "end_time": "2025-01-13T23:55:26.169336Z",
     "start_time": "2025-01-09T20:08:03.242973Z"
    }
   },
   "cell_type": "code",
   "source": "new_list.append(6)",
   "id": "e36128f884995d90",
   "outputs": [],
   "execution_count": 56
  },
  {
   "metadata": {
    "ExecuteTime": {
     "end_time": "2025-01-13T23:55:26.169476Z",
     "start_time": "2025-01-09T20:08:09.268295Z"
    }
   },
   "cell_type": "code",
   "source": "print(new_list)",
   "id": "c20d759f91525db6",
   "outputs": [
    {
     "name": "stdout",
     "output_type": "stream",
     "text": [
      "[1, 6]\n"
     ]
    }
   ],
   "execution_count": 57
  },
  {
   "metadata": {
    "ExecuteTime": {
     "end_time": "2025-01-13T23:55:26.169660Z",
     "start_time": "2025-01-09T20:08:39.262397Z"
    }
   },
   "cell_type": "code",
   "source": "new_list+=long_list",
   "id": "1fb4981c4bbc3691",
   "outputs": [],
   "execution_count": 59
  },
  {
   "metadata": {
    "ExecuteTime": {
     "end_time": "2025-01-13T23:55:26.169767Z",
     "start_time": "2025-01-09T20:08:44.749062Z"
    }
   },
   "cell_type": "code",
   "source": "print(new_list)",
   "id": "3cac3ad9999cbdfb",
   "outputs": [
    {
     "name": "stdout",
     "output_type": "stream",
     "text": [
      "[1, 6, 1, 2, 3, 4, 5, 6, 7, 8, 9, 11]\n"
     ]
    }
   ],
   "execution_count": 60
  },
  {
   "metadata": {
    "ExecuteTime": {
     "end_time": "2025-01-13T23:55:26.169856Z",
     "start_time": "2025-01-09T20:10:14.143351Z"
    }
   },
   "cell_type": "code",
   "source": "dict1.keys()",
   "id": "e958a80c939a381f",
   "outputs": [
    {
     "data": {
      "text/plain": [
       "dict_keys(['alice', 'bob', 'charlie'])"
      ]
     },
     "execution_count": 61,
     "metadata": {},
     "output_type": "execute_result"
    }
   ],
   "execution_count": 61
  },
  {
   "metadata": {
    "ExecuteTime": {
     "end_time": "2025-01-13T23:55:26.169977Z",
     "start_time": "2025-01-09T20:11:26.419390Z"
    }
   },
   "cell_type": "code",
   "source": [
    "for key in dict1.keys():\n",
    "    print(key,dict1[key])"
   ],
   "id": "fb615e3d71b766fe",
   "outputs": [
    {
     "name": "stdout",
     "output_type": "stream",
     "text": [
      "alice 5\n",
      "bob 6\n",
      "charlie 9\n"
     ]
    }
   ],
   "execution_count": 64
  },
  {
   "metadata": {},
   "cell_type": "code",
   "outputs": [],
   "execution_count": null,
   "source": "",
   "id": "7b0b3fa2b38b1c28"
  },
  {
   "metadata": {},
   "cell_type": "markdown",
   "source": "# If Statement",
   "id": "f872e9d70337bb7"
  },
  {
   "metadata": {
    "ExecuteTime": {
     "end_time": "2025-01-13T23:55:26.170170Z",
     "start_time": "2025-01-09T20:20:32.903559Z"
    }
   },
   "cell_type": "code",
   "source": [
    "for i in long_list:\n",
    "    if i > 5 in long_list:\n",
    "        print(i)\n",
    "    elif i>2:\n",
    "        print('good')\n",
    "    else:\n",
    "        print('hi')\n"
   ],
   "id": "dd9b939e37462b2a",
   "outputs": [
    {
     "name": "stdout",
     "output_type": "stream",
     "text": [
      "hi\n",
      "hi\n",
      "good\n",
      "good\n",
      "good\n",
      "6\n",
      "7\n",
      "8\n",
      "9\n",
      "11\n"
     ]
    }
   ],
   "execution_count": 109
  },
  {
   "metadata": {},
   "cell_type": "markdown",
   "source": "# Sorting",
   "id": "329de578cc7f43b5"
  },
  {
   "metadata": {
    "ExecuteTime": {
     "end_time": "2025-01-21T19:30:38.821638Z",
     "start_time": "2025-01-21T19:30:38.819290Z"
    }
   },
   "cell_type": "code",
   "source": [
    "listA = [8,7,1,11,12]\n",
    "\n",
    "def sort(list):\n",
    "    list.sort()\n",
    "    return list\n",
    "\n"
   ],
   "id": "32f37db0dce77bde",
   "outputs": [],
   "execution_count": 26
  },
  {
   "metadata": {
    "ExecuteTime": {
     "end_time": "2025-01-21T19:30:40.105970Z",
     "start_time": "2025-01-21T19:30:40.103660Z"
    }
   },
   "cell_type": "code",
   "source": "sort(listA)",
   "id": "d15e6eacfba5a8d9",
   "outputs": [
    {
     "data": {
      "text/plain": [
       "[1, 7, 8, 11, 12]"
      ]
     },
     "execution_count": 27,
     "metadata": {},
     "output_type": "execute_result"
    }
   ],
   "execution_count": 27
  },
  {
   "metadata": {
    "ExecuteTime": {
     "end_time": "2025-01-21T19:30:41.393395Z",
     "start_time": "2025-01-21T19:30:41.391101Z"
    }
   },
   "cell_type": "code",
   "source": [
    "\n",
    "def new_sort(list):\n",
    "    for i in range(0, len(list)):\n",
    "        for j in range(i+1, len(list)):\n",
    "            if list[i]<list[j]:\n",
    "                list[i], list[j] = list[j], list[i]\n",
    "    return list.copy()"
   ],
   "id": "f0892d48e01c3b8e",
   "outputs": [],
   "execution_count": 28
  },
  {
   "metadata": {
    "ExecuteTime": {
     "end_time": "2025-01-21T19:11:47.533587Z",
     "start_time": "2025-01-21T19:11:47.531569Z"
    }
   },
   "cell_type": "code",
   "source": "new_sort(listA)",
   "id": "2aa8c1df5723ca87",
   "outputs": [
    {
     "name": "stdout",
     "output_type": "stream",
     "text": [
      "[12, 11, 8, 7, 1]\n"
     ]
    }
   ],
   "execution_count": 11
  },
  {
   "metadata": {
    "ExecuteTime": {
     "end_time": "2025-01-21T19:24:34.021378Z",
     "start_time": "2025-01-21T19:24:34.018945Z"
    }
   },
   "cell_type": "code",
   "source": [
    "listnew = [8,7,1,11,12]\n",
    "def better_sort(listB):\n",
    "    out = listB.copy()\n",
    "    for marker in range(1,len(out)):\n",
    "        i  = marker\n",
    "        value = out[i]\n",
    "        while out[i]>out[i-1] and i>0:\n",
    "            out[i] = out[i-1]\n",
    "            out[i-1] = value\n",
    "            i-=1\n",
    "    return out\n"
   ],
   "id": "e60b18ab1628a589",
   "outputs": [],
   "execution_count": 22
  },
  {
   "metadata": {
    "ExecuteTime": {
     "end_time": "2025-01-21T19:24:34.831751Z",
     "start_time": "2025-01-21T19:24:34.829203Z"
    }
   },
   "cell_type": "code",
   "source": "better_sort(listnew)",
   "id": "688845a343c0c22f",
   "outputs": [
    {
     "data": {
      "text/plain": [
       "[12, 11, 8, 7, 1]"
      ]
     },
     "execution_count": 23,
     "metadata": {},
     "output_type": "execute_result"
    }
   ],
   "execution_count": 23
  },
  {
   "metadata": {
    "ExecuteTime": {
     "end_time": "2025-01-21T19:30:59.685504Z",
     "start_time": "2025-01-21T19:30:59.683399Z"
    }
   },
   "cell_type": "code",
   "source": [
    "print(listnew)\n",
    "listnew.sort()"
   ],
   "id": "346402fe7e1dd82f",
   "outputs": [
    {
     "name": "stdout",
     "output_type": "stream",
     "text": [
      "[8, 7, 1, 11, 12]\n"
     ]
    }
   ],
   "execution_count": 30
  },
  {
   "metadata": {
    "ExecuteTime": {
     "end_time": "2025-01-21T19:31:05.304353Z",
     "start_time": "2025-01-21T19:31:05.302118Z"
    }
   },
   "cell_type": "code",
   "source": "print(listnew)",
   "id": "c47007bf1248d3b6",
   "outputs": [
    {
     "name": "stdout",
     "output_type": "stream",
     "text": [
      "[1, 7, 8, 11, 12]\n"
     ]
    }
   ],
   "execution_count": 31
  },
  {
   "metadata": {},
   "cell_type": "markdown",
   "source": "# Physics",
   "id": "3cdc4ab7573656c9"
  },
  {
   "metadata": {
    "ExecuteTime": {
     "end_time": "2025-01-21T19:34:48.579356Z",
     "start_time": "2025-01-21T19:34:48.577517Z"
    }
   },
   "cell_type": "code",
   "source": [
    "def pos(t, x0,v0,a):\n",
    "    return x0+v0*t+a*t**2/2"
   ],
   "id": "b82325a599e66047",
   "outputs": [],
   "execution_count": 32
  },
  {
   "metadata": {
    "ExecuteTime": {
     "end_time": "2025-01-21T19:35:10.106087Z",
     "start_time": "2025-01-21T19:35:10.103181Z"
    }
   },
   "cell_type": "code",
   "source": "pos(10,0,5,-9.8)",
   "id": "80efcc8c47f9c5b",
   "outputs": [
    {
     "data": {
      "text/plain": [
       "-440.00000000000006"
      ]
     },
     "execution_count": 34,
     "metadata": {},
     "output_type": "execute_result"
    }
   ],
   "execution_count": 34
  },
  {
   "metadata": {
    "ExecuteTime": {
     "end_time": "2025-01-21T19:36:33.511440Z",
     "start_time": "2025-01-21T19:36:33.509647Z"
    }
   },
   "cell_type": "code",
   "source": [
    "def pos2(t, x0=100,v0=0,a=-9.8):\n",
    "    return x0+v0*t+a*t**2/2"
   ],
   "id": "da3060a0109f7f6e",
   "outputs": [],
   "execution_count": 36
  },
  {
   "metadata": {
    "ExecuteTime": {
     "end_time": "2025-01-21T19:36:42.715472Z",
     "start_time": "2025-01-21T19:36:42.712821Z"
    }
   },
   "cell_type": "code",
   "source": "pos2(10)",
   "id": "528ce640e16f1ce2",
   "outputs": [
    {
     "data": {
      "text/plain": [
       "-390.00000000000006"
      ]
     },
     "execution_count": 37,
     "metadata": {},
     "output_type": "execute_result"
    }
   ],
   "execution_count": 37
  },
  {
   "metadata": {
    "ExecuteTime": {
     "end_time": "2025-01-21T19:37:51.203274Z",
     "start_time": "2025-01-21T19:37:51.200984Z"
    }
   },
   "cell_type": "code",
   "source": "pos2(10,v0=100)",
   "id": "3775f95df9ea6dff",
   "outputs": [
    {
     "data": {
      "text/plain": [
       "610.0"
      ]
     },
     "execution_count": 38,
     "metadata": {},
     "output_type": "execute_result"
    }
   ],
   "execution_count": 38
  },
  {
   "metadata": {},
   "cell_type": "markdown",
   "source": "# Numpy",
   "id": "8fe7338c0dbf55dd"
  },
  {
   "metadata": {
    "ExecuteTime": {
     "end_time": "2025-01-21T19:48:26.502209Z",
     "start_time": "2025-01-21T19:48:26.456053Z"
    }
   },
   "cell_type": "code",
   "source": "import numpy as np",
   "id": "cd7682ef968cfc85",
   "outputs": [],
   "execution_count": 39
  },
  {
   "metadata": {
    "ExecuteTime": {
     "end_time": "2025-01-21T19:48:36.643981Z",
     "start_time": "2025-01-21T19:48:36.642060Z"
    }
   },
   "cell_type": "code",
   "source": "print(np.pi)",
   "id": "a6c76275bc33a6",
   "outputs": [
    {
     "name": "stdout",
     "output_type": "stream",
     "text": [
      "3.141592653589793\n"
     ]
    }
   ],
   "execution_count": 40
  },
  {
   "metadata": {
    "ExecuteTime": {
     "end_time": "2025-01-21T19:50:08.399891Z",
     "start_time": "2025-01-21T19:50:08.397675Z"
    }
   },
   "cell_type": "code",
   "source": [
    "pi=np.pi\n",
    "print(np.sin(pi))\n",
    "print(np.cos(pi))"
   ],
   "id": "22b5fbd5a743dde6",
   "outputs": [
    {
     "name": "stdout",
     "output_type": "stream",
     "text": [
      "1.2246467991473532e-16\n",
      "-1.0\n"
     ]
    }
   ],
   "execution_count": 47
  },
  {
   "metadata": {
    "ExecuteTime": {
     "end_time": "2025-01-21T19:51:20.550591Z",
     "start_time": "2025-01-21T19:51:20.548501Z"
    }
   },
   "cell_type": "code",
   "source": "narr1 = np.array([1,2,3,4,5,6,7,8,9,10])\n",
   "id": "e6390b6ec07ce008",
   "outputs": [],
   "execution_count": 48
  },
  {
   "metadata": {
    "ExecuteTime": {
     "end_time": "2025-01-21T19:51:23.703437Z",
     "start_time": "2025-01-21T19:51:23.701264Z"
    }
   },
   "cell_type": "code",
   "source": "print(narr1)",
   "id": "5f2451eb66d656b0",
   "outputs": [
    {
     "name": "stdout",
     "output_type": "stream",
     "text": [
      "[ 1  2  3  4  5  6  7  8  9 10]\n"
     ]
    }
   ],
   "execution_count": 49
  },
  {
   "metadata": {
    "ExecuteTime": {
     "end_time": "2025-01-21T19:51:41.002062Z",
     "start_time": "2025-01-21T19:51:40.999541Z"
    }
   },
   "cell_type": "code",
   "source": "narr1**2",
   "id": "a5836cb7068c912d",
   "outputs": [
    {
     "data": {
      "text/plain": [
       "array([  1,   4,   9,  16,  25,  36,  49,  64,  81, 100])"
      ]
     },
     "execution_count": 50,
     "metadata": {},
     "output_type": "execute_result"
    }
   ],
   "execution_count": 50
  },
  {
   "metadata": {
    "ExecuteTime": {
     "end_time": "2025-01-21T19:56:35.768108Z",
     "start_time": "2025-01-21T19:56:35.765307Z"
    }
   },
   "cell_type": "code",
   "source": "np.cos(pi*narr1)",
   "id": "de6c6f1952a3ea8c",
   "outputs": [
    {
     "data": {
      "text/plain": [
       "array([-1.,  1., -1.,  1., -1.,  1., -1.,  1., -1.,  1.])"
      ]
     },
     "execution_count": 51,
     "metadata": {},
     "output_type": "execute_result"
    }
   ],
   "execution_count": 51
  },
  {
   "metadata": {
    "ExecuteTime": {
     "end_time": "2025-01-21T20:01:50.101103Z",
     "start_time": "2025-01-21T20:01:50.099117Z"
    }
   },
   "cell_type": "code",
   "source": "narr2 = np.array([[1,2,3],[4,5,6],[7,8,9]])",
   "id": "1371f0de0d7006e3",
   "outputs": [],
   "execution_count": 52
  },
  {
   "metadata": {
    "ExecuteTime": {
     "end_time": "2025-01-21T20:01:55.354849Z",
     "start_time": "2025-01-21T20:01:55.352984Z"
    }
   },
   "cell_type": "code",
   "source": "print(narr2)",
   "id": "8b199f0382482214",
   "outputs": [
    {
     "name": "stdout",
     "output_type": "stream",
     "text": [
      "[[1 2 3]\n",
      " [4 5 6]\n",
      " [7 8 9]]\n"
     ]
    }
   ],
   "execution_count": 53
  },
  {
   "metadata": {
    "ExecuteTime": {
     "end_time": "2025-01-21T20:02:12.784686Z",
     "start_time": "2025-01-21T20:02:12.782126Z"
    }
   },
   "cell_type": "code",
   "source": "narr2[0,2]",
   "id": "17ca82b594362915",
   "outputs": [
    {
     "data": {
      "text/plain": [
       "np.int64(3)"
      ]
     },
     "execution_count": 54,
     "metadata": {},
     "output_type": "execute_result"
    }
   ],
   "execution_count": 54
  },
  {
   "metadata": {
    "ExecuteTime": {
     "end_time": "2025-01-21T20:02:34.338896Z",
     "start_time": "2025-01-21T20:02:34.336201Z"
    }
   },
   "cell_type": "code",
   "source": "narr2[:,2]",
   "id": "45a0ffe4ed9a1680",
   "outputs": [
    {
     "data": {
      "text/plain": [
       "array([3, 6, 9])"
      ]
     },
     "execution_count": 55,
     "metadata": {},
     "output_type": "execute_result"
    }
   ],
   "execution_count": 55
  },
  {
   "metadata": {
    "ExecuteTime": {
     "end_time": "2025-01-21T20:05:11.992616Z",
     "start_time": "2025-01-21T20:05:11.990720Z"
    }
   },
   "cell_type": "code",
   "source": "narr3 = np.arange(27)",
   "id": "b1b2eddaec017d02",
   "outputs": [],
   "execution_count": 60
  },
  {
   "metadata": {
    "ExecuteTime": {
     "end_time": "2025-01-21T20:05:13.518520Z",
     "start_time": "2025-01-21T20:05:13.515685Z"
    }
   },
   "cell_type": "code",
   "source": "narr3",
   "id": "52bcf527f0dd59db",
   "outputs": [
    {
     "data": {
      "text/plain": [
       "array([ 0,  1,  2,  3,  4,  5,  6,  7,  8,  9, 10, 11, 12, 13, 14, 15, 16,\n",
       "       17, 18, 19, 20, 21, 22, 23, 24, 25, 26])"
      ]
     },
     "execution_count": 61,
     "metadata": {},
     "output_type": "execute_result"
    }
   ],
   "execution_count": 61
  },
  {
   "metadata": {
    "ExecuteTime": {
     "end_time": "2025-01-21T20:05:18.402345Z",
     "start_time": "2025-01-21T20:05:18.400260Z"
    }
   },
   "cell_type": "code",
   "source": "narr4 = narr3.reshape(3,3,3)",
   "id": "7c9ca13e96a25fba",
   "outputs": [],
   "execution_count": 62
  },
  {
   "metadata": {
    "ExecuteTime": {
     "end_time": "2025-01-21T20:05:19.069861Z",
     "start_time": "2025-01-21T20:05:19.067373Z"
    }
   },
   "cell_type": "code",
   "source": "narr4",
   "id": "6df6f7bbafe667db",
   "outputs": [
    {
     "data": {
      "text/plain": [
       "array([[[ 0,  1,  2],\n",
       "        [ 3,  4,  5],\n",
       "        [ 6,  7,  8]],\n",
       "\n",
       "       [[ 9, 10, 11],\n",
       "        [12, 13, 14],\n",
       "        [15, 16, 17]],\n",
       "\n",
       "       [[18, 19, 20],\n",
       "        [21, 22, 23],\n",
       "        [24, 25, 26]]])"
      ]
     },
     "execution_count": 63,
     "metadata": {},
     "output_type": "execute_result"
    }
   ],
   "execution_count": 63
  },
  {
   "metadata": {
    "ExecuteTime": {
     "end_time": "2025-01-21T20:06:21.817349Z",
     "start_time": "2025-01-21T20:06:21.814563Z"
    }
   },
   "cell_type": "code",
   "source": "narr4[1,:,:]\n",
   "id": "7181c8279bdbd80",
   "outputs": [
    {
     "data": {
      "text/plain": [
       "array([[ 9, 10, 11],\n",
       "       [12, 13, 14],\n",
       "       [15, 16, 17]])"
      ]
     },
     "execution_count": 65,
     "metadata": {},
     "output_type": "execute_result"
    }
   ],
   "execution_count": 65
  },
  {
   "metadata": {
    "ExecuteTime": {
     "end_time": "2025-01-21T20:08:53.970858Z",
     "start_time": "2025-01-21T20:08:53.968950Z"
    }
   },
   "cell_type": "code",
   "source": "time=np.linspace(0,10,100)",
   "id": "62eb00fcca52c4e",
   "outputs": [],
   "execution_count": 66
  },
  {
   "metadata": {
    "ExecuteTime": {
     "end_time": "2025-01-21T20:08:57.004552Z",
     "start_time": "2025-01-21T20:08:57.002368Z"
    }
   },
   "cell_type": "code",
   "source": "print(time)",
   "id": "fe8ab59f6bd2d549",
   "outputs": [
    {
     "name": "stdout",
     "output_type": "stream",
     "text": [
      "[ 0.          0.1010101   0.2020202   0.3030303   0.4040404   0.50505051\n",
      "  0.60606061  0.70707071  0.80808081  0.90909091  1.01010101  1.11111111\n",
      "  1.21212121  1.31313131  1.41414141  1.51515152  1.61616162  1.71717172\n",
      "  1.81818182  1.91919192  2.02020202  2.12121212  2.22222222  2.32323232\n",
      "  2.42424242  2.52525253  2.62626263  2.72727273  2.82828283  2.92929293\n",
      "  3.03030303  3.13131313  3.23232323  3.33333333  3.43434343  3.53535354\n",
      "  3.63636364  3.73737374  3.83838384  3.93939394  4.04040404  4.14141414\n",
      "  4.24242424  4.34343434  4.44444444  4.54545455  4.64646465  4.74747475\n",
      "  4.84848485  4.94949495  5.05050505  5.15151515  5.25252525  5.35353535\n",
      "  5.45454545  5.55555556  5.65656566  5.75757576  5.85858586  5.95959596\n",
      "  6.06060606  6.16161616  6.26262626  6.36363636  6.46464646  6.56565657\n",
      "  6.66666667  6.76767677  6.86868687  6.96969697  7.07070707  7.17171717\n",
      "  7.27272727  7.37373737  7.47474747  7.57575758  7.67676768  7.77777778\n",
      "  7.87878788  7.97979798  8.08080808  8.18181818  8.28282828  8.38383838\n",
      "  8.48484848  8.58585859  8.68686869  8.78787879  8.88888889  8.98989899\n",
      "  9.09090909  9.19191919  9.29292929  9.39393939  9.49494949  9.5959596\n",
      "  9.6969697   9.7979798   9.8989899  10.        ]\n"
     ]
    }
   ],
   "execution_count": 67
  },
  {
   "metadata": {
    "ExecuteTime": {
     "end_time": "2025-01-21T20:11:50.038654Z",
     "start_time": "2025-01-21T20:11:49.861218Z"
    }
   },
   "cell_type": "code",
   "source": "import matplotlib.pyplot as plt",
   "id": "c2bc8594636be5d8",
   "outputs": [],
   "execution_count": 68
  },
  {
   "metadata": {
    "ExecuteTime": {
     "end_time": "2025-01-21T20:12:35.373650Z",
     "start_time": "2025-01-21T20:12:35.325567Z"
    }
   },
   "cell_type": "code",
   "source": [
    "x=pos2(time)\n",
    "plt.plot(time,x)"
   ],
   "id": "145b06ac80972243",
   "outputs": [
    {
     "data": {
      "text/plain": [
       "[<matplotlib.lines.Line2D at 0x10e0de990>]"
      ]
     },
     "execution_count": 69,
     "metadata": {},
     "output_type": "execute_result"
    },
    {
     "data": {
      "text/plain": [
       "<Figure size 640x480 with 1 Axes>"
      ],
      "image/png": "[encoded data removed]"
     },
     "metadata": {},
     "output_type": "display_data"
    }
   ],
   "execution_count": 69
  },
  {
   "metadata": {
    "ExecuteTime": {
     "end_time": "2025-01-21T20:13:06.839232Z",
     "start_time": "2025-01-21T20:13:06.802980Z"
    }
   },
   "cell_type": "code",
   "source": "plt.plot(time,np.cos(pi*time))",
   "id": "37d97e840dc377bb",
   "outputs": [
    {
     "data": {
      "text/plain": [
       "[<matplotlib.lines.Line2D at 0x10e456850>]"
      ]
     },
     "execution_count": 70,
     "metadata": {},
     "output_type": "execute_result"
    },
    {
     "data": {
      "text/plain": [
       "<Figure size 640x480 with 1 Axes>"
      ],
      "image/png": "[encoded data removed]"
     },
     "metadata": {},
     "output_type": "display_data"
    }
   ],
   "execution_count": 70
  },
  {
   "metadata": {
    "ExecuteTime": {
     "end_time": "2025-01-21T20:16:35.162713Z",
     "start_time": "2025-01-21T20:16:35.159896Z"
    }
   },
   "cell_type": "code",
   "source": "np.identity(2,dtype=complex)",
   "id": "87e2e7c1c800dd1a",
   "outputs": [
    {
     "data": {
      "text/plain": [
       "array([[1.+0.j, 0.+0.j],\n",
       "       [0.+0.j, 1.+0.j]])"
      ]
     },
     "execution_count": 71,
     "metadata": {},
     "output_type": "execute_result"
    }
   ],
   "execution_count": 71
  },
  {
   "metadata": {},
   "cell_type": "code",
   "outputs": [],
   "execution_count": null,
   "source": "",
   "id": "d9450a4a7df17234"
  }
 ],
 "metadata": {
  "kernelspec": {
   "display_name": "Python 3",
   "language": "python",
   "name": "python3"
  },
  "language_info": {
   "codemirror_mode": {
    "name": "ipython",
    "version": 2
   },
   "file_extension": ".py",
   "mimetype": "text/x-python",
   "name": "python",
   "nbconvert_exporter": "python",
   "pygments_lexer": "ipython2",
   "version": "2.7.6"
  }
 },
 "nbformat": 4,
 "nbformat_minor": 5
}
