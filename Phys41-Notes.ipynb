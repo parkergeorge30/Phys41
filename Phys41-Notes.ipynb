{
 "cells": [
  {
   "metadata": {},
   "cell_type": "markdown",
   "source": "# Only processes 16 digits after the decimal",
   "id": "7914b62ce8b064eb"
  },
  {
   "metadata": {
    "ExecuteTime": {
     "end_time": "2025-01-13T23:55:25.464236Z",
     "start_time": "2025-01-13T23:55:25.461739Z"
    }
   },
   "cell_type": "code",
   "source": [
    "a=1.+0.0000000000000000001\n",
    "print(a)"
   ],
   "id": "9a5db67c1c0a7185",
   "outputs": [
    {
     "name": "stdout",
     "output_type": "stream",
     "text": [
      "1.0\n"
     ]
    }
   ],
   "execution_count": 1
  },
  {
   "metadata": {
    "collapsed": true,
    "ExecuteTime": {
     "end_time": "2025-01-13T23:55:25.548017Z",
     "start_time": "2025-01-13T23:55:25.545471Z"
    }
   },
   "cell_type": "code",
   "source": "a-1",
   "id": "initial_id",
   "outputs": [
    {
     "data": {
      "text/plain": [
       "0.0"
      ]
     },
     "execution_count": 2,
     "metadata": {},
     "output_type": "execute_result"
    }
   ],
   "execution_count": 2
  },
  {
   "metadata": {},
   "cell_type": "markdown",
   "source": "# Imaginary Numbers",
   "id": "f3a947a2948261c2"
  },
  {
   "metadata": {
    "ExecuteTime": {
     "end_time": "2025-01-13T23:55:25.552136Z",
     "start_time": "2025-01-13T23:55:25.550720Z"
    }
   },
   "cell_type": "code",
   "source": "c=1j",
   "id": "b09ed894756fc5e2",
   "outputs": [],
   "execution_count": 3
  },
  {
   "metadata": {
    "ExecuteTime": {
     "end_time": "2025-01-13T23:55:25.568581Z",
     "start_time": "2025-01-13T23:55:25.566599Z"
    }
   },
   "cell_type": "code",
   "source": "c**2",
   "id": "69f24f56cb3d0d3a",
   "outputs": [
    {
     "data": {
      "text/plain": [
       "(-1+0j)"
      ]
     },
     "execution_count": 4,
     "metadata": {},
     "output_type": "execute_result"
    }
   ],
   "execution_count": 4
  },
  {
   "metadata": {
    "ExecuteTime": {
     "end_time": "2025-01-13T23:55:25.622522Z",
     "start_time": "2025-01-13T23:55:25.620977Z"
    }
   },
   "cell_type": "code",
   "source": "d=complex(1,2)",
   "id": "425d8d7ae6ba902f",
   "outputs": [],
   "execution_count": 5
  },
  {
   "metadata": {
    "ExecuteTime": {
     "end_time": "2025-01-13T23:55:25.638912Z",
     "start_time": "2025-01-13T23:55:25.637261Z"
    }
   },
   "cell_type": "code",
   "source": "print(d)",
   "id": "d5e74ea62257f32a",
   "outputs": [
    {
     "name": "stdout",
     "output_type": "stream",
     "text": [
      "(1+2j)\n"
     ]
    }
   ],
   "execution_count": 6
  },
  {
   "metadata": {},
   "cell_type": "markdown",
   "source": "# Lists",
   "id": "a9fd089f245e6fab"
  },
  {
   "metadata": {
    "ExecuteTime": {
     "end_time": "2025-01-13T23:55:25.648458Z",
     "start_time": "2025-01-13T23:55:25.646881Z"
    }
   },
   "cell_type": "code",
   "source": "L=[1,2,3,4,'No',5,6,[1,2,3]]",
   "id": "8e38601f52a1dbeb",
   "outputs": [],
   "execution_count": 7
  },
  {
   "metadata": {
    "ExecuteTime": {
     "end_time": "2025-01-13T23:55:25.656616Z",
     "start_time": "2025-01-13T23:55:25.654894Z"
    }
   },
   "cell_type": "code",
   "source": "L[4]",
   "id": "40c1bd45ff8b7963",
   "outputs": [
    {
     "data": {
      "text/plain": [
       "'No'"
      ]
     },
     "execution_count": 8,
     "metadata": {},
     "output_type": "execute_result"
    }
   ],
   "execution_count": 8
  },
  {
   "metadata": {
    "ExecuteTime": {
     "end_time": "2025-01-13T23:55:25.681662Z",
     "start_time": "2025-01-13T23:55:25.679646Z"
    }
   },
   "cell_type": "code",
   "source": "L[7]",
   "id": "2a175f85fee94d84",
   "outputs": [
    {
     "data": {
      "text/plain": [
       "[1, 2, 3]"
      ]
     },
     "execution_count": 9,
     "metadata": {},
     "output_type": "execute_result"
    }
   ],
   "execution_count": 9
  },
  {
   "metadata": {
    "ExecuteTime": {
     "end_time": "2025-01-13T23:55:25.710628Z",
     "start_time": "2025-01-13T23:55:25.708644Z"
    }
   },
   "cell_type": "code",
   "source": "L[7][0]",
   "id": "e6834c4d4ff0a1f1",
   "outputs": [
    {
     "data": {
      "text/plain": [
       "1"
      ]
     },
     "execution_count": 10,
     "metadata": {},
     "output_type": "execute_result"
    }
   ],
   "execution_count": 10
  },
  {
   "metadata": {
    "ExecuteTime": {
     "end_time": "2025-01-13T23:55:25.725143Z",
     "start_time": "2025-01-13T23:55:25.723662Z"
    }
   },
   "cell_type": "code",
   "source": "H=L",
   "id": "db9364d7dd49afc9",
   "outputs": [],
   "execution_count": 11
  },
  {
   "metadata": {
    "ExecuteTime": {
     "end_time": "2025-01-13T23:55:25.733338Z",
     "start_time": "2025-01-13T23:55:25.731725Z"
    }
   },
   "cell_type": "code",
   "source": "print(H)",
   "id": "4184e02b2b72f27c",
   "outputs": [
    {
     "name": "stdout",
     "output_type": "stream",
     "text": [
      "[1, 2, 3, 4, 'No', 5, 6, [1, 2, 3]]\n"
     ]
    }
   ],
   "execution_count": 12
  },
  {
   "metadata": {
    "ExecuteTime": {
     "end_time": "2025-01-13T23:55:25.755284Z",
     "start_time": "2025-01-13T23:55:25.753649Z"
    }
   },
   "cell_type": "code",
   "source": [
    "L[4]=8\n",
    "print(L)\n"
   ],
   "id": "ee5b357930e2afb8",
   "outputs": [
    {
     "name": "stdout",
     "output_type": "stream",
     "text": [
      "[1, 2, 3, 4, 8, 5, 6, [1, 2, 3]]\n"
     ]
    }
   ],
   "execution_count": 13
  },
  {
   "metadata": {
    "ExecuteTime": {
     "end_time": "2025-01-13T23:55:25.765025Z",
     "start_time": "2025-01-13T23:55:25.763551Z"
    }
   },
   "cell_type": "code",
   "source": "print(H)\n",
   "id": "ac900368728a3f2b",
   "outputs": [
    {
     "name": "stdout",
     "output_type": "stream",
     "text": [
      "[1, 2, 3, 4, 8, 5, 6, [1, 2, 3]]\n"
     ]
    }
   ],
   "execution_count": 14
  },
  {
   "metadata": {
    "ExecuteTime": {
     "end_time": "2025-01-13T23:55:25.775451Z",
     "start_time": "2025-01-13T23:55:25.773849Z"
    }
   },
   "cell_type": "code",
   "source": [
    "G=L.copy()\n",
    "print(G)\n"
   ],
   "id": "b7b2c8676498d8a6",
   "outputs": [
    {
     "name": "stdout",
     "output_type": "stream",
     "text": [
      "[1, 2, 3, 4, 8, 5, 6, [1, 2, 3]]\n"
     ]
    }
   ],
   "execution_count": 15
  },
  {
   "metadata": {
    "ExecuteTime": {
     "end_time": "2025-01-13T23:55:25.788349Z",
     "start_time": "2025-01-13T23:55:25.786852Z"
    }
   },
   "cell_type": "code",
   "source": "long_list=[1,2,3,4,5,6,7,8,9,11]",
   "id": "12fd5824bfcfce1d",
   "outputs": [],
   "execution_count": 16
  },
  {
   "metadata": {
    "ExecuteTime": {
     "end_time": "2025-01-13T23:55:25.797721Z",
     "start_time": "2025-01-13T23:55:25.795817Z"
    }
   },
   "cell_type": "code",
   "source": "long_list[:3]",
   "id": "8d2e5c922162af7f",
   "outputs": [
    {
     "data": {
      "text/plain": [
       "[1, 2, 3]"
      ]
     },
     "execution_count": 17,
     "metadata": {},
     "output_type": "execute_result"
    }
   ],
   "execution_count": 17
  },
  {
   "metadata": {
    "ExecuteTime": {
     "end_time": "2025-01-13T23:55:25.813575Z",
     "start_time": "2025-01-13T23:55:25.811808Z"
    }
   },
   "cell_type": "code",
   "source": "long_list[3:]",
   "id": "1f6fb8e5405ed486",
   "outputs": [
    {
     "data": {
      "text/plain": [
       "[4, 5, 6, 7, 8, 9, 11]"
      ]
     },
     "execution_count": 18,
     "metadata": {},
     "output_type": "execute_result"
    }
   ],
   "execution_count": 18
  },
  {
   "metadata": {
    "ExecuteTime": {
     "end_time": "2025-01-13T23:55:25.827223Z",
     "start_time": "2025-01-13T23:55:25.825405Z"
    }
   },
   "cell_type": "code",
   "source": "long_list[1:-1]",
   "id": "c094181f7d66fb31",
   "outputs": [
    {
     "data": {
      "text/plain": [
       "[2, 3, 4, 5, 6, 7, 8, 9]"
      ]
     },
     "execution_count": 19,
     "metadata": {},
     "output_type": "execute_result"
    }
   ],
   "execution_count": 19
  },
  {
   "metadata": {
    "ExecuteTime": {
     "end_time": "2025-01-13T23:55:25.843758Z",
     "start_time": "2025-01-13T23:55:25.841584Z"
    }
   },
   "cell_type": "code",
   "source": "long_list[1::3]",
   "id": "e8217bf008b69c93",
   "outputs": [
    {
     "data": {
      "text/plain": [
       "[2, 5, 8]"
      ]
     },
     "execution_count": 20,
     "metadata": {},
     "output_type": "execute_result"
    }
   ],
   "execution_count": 20
  },
  {
   "metadata": {
    "ExecuteTime": {
     "end_time": "2025-01-13T23:55:25.860216Z",
     "start_time": "2025-01-13T23:55:25.858192Z"
    }
   },
   "cell_type": "code",
   "source": "long_list[::-2]",
   "id": "49d6e2bf1d094004",
   "outputs": [
    {
     "data": {
      "text/plain": [
       "[11, 8, 6, 4, 2]"
      ]
     },
     "execution_count": 21,
     "metadata": {},
     "output_type": "execute_result"
    }
   ],
   "execution_count": 21
  },
  {
   "metadata": {
    "ExecuteTime": {
     "end_time": "2025-01-13T23:55:25.874976Z",
     "start_time": "2025-01-13T23:55:25.872849Z"
    }
   },
   "cell_type": "code",
   "source": "long_list[::-1]",
   "id": "c0fb5f68970e1b8",
   "outputs": [
    {
     "data": {
      "text/plain": [
       "[11, 9, 8, 7, 6, 5, 4, 3, 2, 1]"
      ]
     },
     "execution_count": 22,
     "metadata": {},
     "output_type": "execute_result"
    }
   ],
   "execution_count": 22
  },
  {
   "metadata": {},
   "cell_type": "markdown",
   "source": "# For Loop",
   "id": "360fb8b073a543c1"
  },
  {
   "metadata": {
    "ExecuteTime": {
     "end_time": "2025-01-13T23:55:25.890869Z",
     "start_time": "2025-01-13T23:55:25.889246Z"
    }
   },
   "cell_type": "code",
   "source": [
    "for i in long_list:\n",
    "    print(i)"
   ],
   "id": "2df9c1cc32734e6c",
   "outputs": [
    {
     "name": "stdout",
     "output_type": "stream",
     "text": [
      "1\n",
      "2\n",
      "3\n",
      "4\n",
      "5\n",
      "6\n",
      "7\n",
      "8\n",
      "9\n",
      "11\n"
     ]
    }
   ],
   "execution_count": 23
  },
  {
   "metadata": {
    "ExecuteTime": {
     "end_time": "2025-01-13T23:55:25.904564Z",
     "start_time": "2025-01-13T23:55:25.903123Z"
    }
   },
   "cell_type": "code",
   "source": [
    "total=0\n",
    "for i in long_list:\n",
    "    total+=i"
   ],
   "id": "b7399bca0bf96b62",
   "outputs": [],
   "execution_count": 24
  },
  {
   "metadata": {
    "ExecuteTime": {
     "end_time": "2025-01-13T23:55:25.911445Z",
     "start_time": "2025-01-13T23:55:25.909933Z"
    }
   },
   "cell_type": "code",
   "source": "print(total)",
   "id": "15798c67a99b1520",
   "outputs": [
    {
     "name": "stdout",
     "output_type": "stream",
     "text": [
      "56\n"
     ]
    }
   ],
   "execution_count": 25
  },
  {
   "metadata": {
    "ExecuteTime": {
     "end_time": "2025-01-13T23:55:25.925369Z",
     "start_time": "2025-01-13T23:55:25.923719Z"
    }
   },
   "cell_type": "code",
   "source": [
    "for i in range(10):\n",
    "    print(i)"
   ],
   "id": "bfb52423edb182ad",
   "outputs": [
    {
     "name": "stdout",
     "output_type": "stream",
     "text": [
      "0\n",
      "1\n",
      "2\n",
      "3\n",
      "4\n",
      "5\n",
      "6\n",
      "7\n",
      "8\n",
      "9\n"
     ]
    }
   ],
   "execution_count": 26
  },
  {
   "metadata": {
    "ExecuteTime": {
     "end_time": "2025-01-13T23:55:25.940295Z",
     "start_time": "2025-01-13T23:55:25.938680Z"
    }
   },
   "cell_type": "code",
   "source": [
    "for i in range(1,11):\n",
    "    print(i)"
   ],
   "id": "f891afd1c21af3fe",
   "outputs": [
    {
     "name": "stdout",
     "output_type": "stream",
     "text": [
      "1\n",
      "2\n",
      "3\n",
      "4\n",
      "5\n",
      "6\n",
      "7\n",
      "8\n",
      "9\n",
      "10\n"
     ]
    }
   ],
   "execution_count": 27
  },
  {
   "metadata": {
    "ExecuteTime": {
     "end_time": "2025-01-13T23:55:25.954185Z",
     "start_time": "2025-01-13T23:55:25.952642Z"
    }
   },
   "cell_type": "code",
   "source": "print(range(10))",
   "id": "2bd07e55f9a26299",
   "outputs": [
    {
     "name": "stdout",
     "output_type": "stream",
     "text": [
      "range(0, 10)\n"
     ]
    }
   ],
   "execution_count": 28
  },
  {
   "metadata": {
    "ExecuteTime": {
     "end_time": "2025-01-13T23:55:25.968220Z",
     "start_time": "2025-01-13T23:55:25.966701Z"
    }
   },
   "cell_type": "code",
   "source": "after_tax=long_list.copy()",
   "id": "4eb0a580edbe0b96",
   "outputs": [],
   "execution_count": 29
  },
  {
   "metadata": {
    "ExecuteTime": {
     "end_time": "2025-01-13T23:55:25.976457Z",
     "start_time": "2025-01-13T23:55:25.974820Z"
    }
   },
   "cell_type": "code",
   "source": "len(long_list)",
   "id": "c6d13955e6695f16",
   "outputs": [
    {
     "data": {
      "text/plain": [
       "10"
      ]
     },
     "execution_count": 30,
     "metadata": {},
     "output_type": "execute_result"
    }
   ],
   "execution_count": 30
  },
  {
   "metadata": {
    "ExecuteTime": {
     "end_time": "2025-01-13T23:55:25.989998Z",
     "start_time": "2025-01-13T23:55:25.988428Z"
    }
   },
   "cell_type": "code",
   "source": [
    "for i in range(len(long_list)):\n",
    "    after_tax[i]=long_list[i]*1.1"
   ],
   "id": "91606f49878521b2",
   "outputs": [],
   "execution_count": 31
  },
  {
   "metadata": {
    "ExecuteTime": {
     "end_time": "2025-01-13T23:55:25.997968Z",
     "start_time": "2025-01-13T23:55:25.996161Z"
    }
   },
   "cell_type": "code",
   "source": "after_tax",
   "id": "466c0441791e9d60",
   "outputs": [
    {
     "data": {
      "text/plain": [
       "[1.1,\n",
       " 2.2,\n",
       " 3.3000000000000003,\n",
       " 4.4,\n",
       " 5.5,\n",
       " 6.6000000000000005,\n",
       " 7.700000000000001,\n",
       " 8.8,\n",
       " 9.9,\n",
       " 12.100000000000001]"
      ]
     },
     "execution_count": 32,
     "metadata": {},
     "output_type": "execute_result"
    }
   ],
   "execution_count": 32
  },
  {
   "metadata": {
    "ExecuteTime": {
     "end_time": "2025-01-13T23:55:26.013890Z",
     "start_time": "2025-01-13T23:55:26.012211Z"
    }
   },
   "cell_type": "code",
   "source": [
    "for i,item in enumerate(long_list):\n",
    "    after_tax[i]=item*1.1\n",
    "    \n",
    "print(after_tax)"
   ],
   "id": "b1fcd75623e69c97",
   "outputs": [
    {
     "name": "stdout",
     "output_type": "stream",
     "text": [
      "[1.1, 2.2, 3.3000000000000003, 4.4, 5.5, 6.6000000000000005, 7.700000000000001, 8.8, 9.9, 12.100000000000001]\n"
     ]
    }
   ],
   "execution_count": 33
  },
  {
   "metadata": {
    "ExecuteTime": {
     "end_time": "2025-01-13T23:55:26.029511Z",
     "start_time": "2025-01-13T23:55:26.027786Z"
    }
   },
   "cell_type": "code",
   "source": [
    "for item1 in long_list:\n",
    "    for item2 in range(3):\n",
    "        print(item1,item2)"
   ],
   "id": "579702d2f6ea3da4",
   "outputs": [
    {
     "name": "stdout",
     "output_type": "stream",
     "text": [
      "1 0\n",
      "1 1\n",
      "1 2\n",
      "2 0\n",
      "2 1\n",
      "2 2\n",
      "3 0\n",
      "3 1\n",
      "3 2\n",
      "4 0\n",
      "4 1\n",
      "4 2\n",
      "5 0\n",
      "5 1\n",
      "5 2\n",
      "6 0\n",
      "6 1\n",
      "6 2\n",
      "7 0\n",
      "7 1\n",
      "7 2\n",
      "8 0\n",
      "8 1\n",
      "8 2\n",
      "9 0\n",
      "9 1\n",
      "9 2\n",
      "11 0\n",
      "11 1\n",
      "11 2\n"
     ]
    }
   ],
   "execution_count": 34
  },
  {
   "metadata": {
    "ExecuteTime": {
     "end_time": "2025-01-13T23:55:26.043187Z",
     "start_time": "2025-01-13T23:55:26.041370Z"
    }
   },
   "cell_type": "code",
   "source": [
    "\n",
    "max(long_list)"
   ],
   "id": "163eb7d2ed4d984e",
   "outputs": [
    {
     "data": {
      "text/plain": [
       "11"
      ]
     },
     "execution_count": 35,
     "metadata": {},
     "output_type": "execute_result"
    }
   ],
   "execution_count": 35
  },
  {
   "metadata": {
    "ExecuteTime": {
     "end_time": "2025-01-13T23:55:26.060770Z",
     "start_time": "2025-01-13T23:55:26.058753Z"
    }
   },
   "cell_type": "code",
   "source": "min(long_list)",
   "id": "4b07f8f0bb3fec48",
   "outputs": [
    {
     "data": {
      "text/plain": [
       "1"
      ]
     },
     "execution_count": 36,
     "metadata": {},
     "output_type": "execute_result"
    }
   ],
   "execution_count": 36
  },
  {
   "metadata": {
    "ExecuteTime": {
     "end_time": "2025-01-13T23:55:26.073160Z",
     "start_time": "2025-01-13T23:55:26.071689Z"
    }
   },
   "cell_type": "code",
   "source": "tuple1=(1,2,5,6)",
   "id": "4ccdf445372b8404",
   "outputs": [],
   "execution_count": 37
  },
  {
   "metadata": {
    "ExecuteTime": {
     "end_time": "2025-01-13T23:55:26.082532Z",
     "start_time": "2025-01-13T23:55:26.080970Z"
    }
   },
   "cell_type": "code",
   "source": "tuple1[1]",
   "id": "b506d965bda57d9",
   "outputs": [
    {
     "data": {
      "text/plain": [
       "2"
      ]
     },
     "execution_count": 38,
     "metadata": {},
     "output_type": "execute_result"
    }
   ],
   "execution_count": 38
  },
  {
   "metadata": {
    "ExecuteTime": {
     "end_time": "2025-01-13T23:55:26.094951Z",
     "start_time": "2025-01-13T23:55:26.093297Z"
    }
   },
   "cell_type": "code",
   "source": [
    "for item in tuple1:\n",
    "    print(item)"
   ],
   "id": "48c13a65a33612e",
   "outputs": [
    {
     "name": "stdout",
     "output_type": "stream",
     "text": [
      "1\n",
      "2\n",
      "5\n",
      "6\n"
     ]
    }
   ],
   "execution_count": 39
  },
  {
   "metadata": {},
   "cell_type": "code",
   "source": "tuple1[0]=5",
   "id": "a26cc2447e3a80a4",
   "outputs": [],
   "execution_count": null
  },
  {
   "metadata": {},
   "cell_type": "markdown",
   "source": [
    "# Dictionary\n",
    "### finding items with a keyword"
   ],
   "id": "5130d091475c00ae"
  },
  {
   "metadata": {
    "ExecuteTime": {
     "end_time": "2025-01-13T23:55:26.159482Z",
     "start_time": "2025-01-09T20:02:45.521138Z"
    }
   },
   "cell_type": "code",
   "source": "dict1={'alice':5,'bob':6}",
   "id": "8ae92a141d0b1d77",
   "outputs": [],
   "execution_count": 46
  },
  {
   "metadata": {
    "ExecuteTime": {
     "end_time": "2025-01-13T23:55:26.159705Z",
     "start_time": "2025-01-09T20:03:12.320081Z"
    }
   },
   "cell_type": "code",
   "source": "dict1['alice']",
   "id": "9fb97f563a530c8",
   "outputs": [
    {
     "data": {
      "text/plain": [
       "5"
      ]
     },
     "execution_count": 47,
     "metadata": {},
     "output_type": "execute_result"
    }
   ],
   "execution_count": 47
  },
  {
   "metadata": {
    "ExecuteTime": {
     "end_time": "2025-01-13T23:55:26.164601Z",
     "start_time": "2025-01-09T20:05:28.320827Z"
    }
   },
   "cell_type": "code",
   "source": "dict1['charlie']=9",
   "id": "9e6ceaf13beb3580",
   "outputs": [],
   "execution_count": 48
  },
  {
   "metadata": {
    "ExecuteTime": {
     "end_time": "2025-01-13T23:55:26.166037Z",
     "start_time": "2025-01-09T20:05:32.043102Z"
    }
   },
   "cell_type": "code",
   "source": "print(dict1)\n",
   "id": "4a54c56b2169d01f",
   "outputs": [
    {
     "name": "stdout",
     "output_type": "stream",
     "text": [
      "{'alice': 5, 'bob': 6, 'charlie': 9}\n"
     ]
    }
   ],
   "execution_count": 49
  },
  {
   "metadata": {
    "ExecuteTime": {
     "end_time": "2025-01-13T23:55:26.167108Z",
     "start_time": "2025-01-09T20:06:10.402162Z"
    }
   },
   "cell_type": "code",
   "source": "dict2={}",
   "id": "7252fe6a1d2c515a",
   "outputs": [],
   "execution_count": 50
  },
  {
   "metadata": {
    "ExecuteTime": {
     "end_time": "2025-01-13T23:55:26.167218Z",
     "start_time": "2025-01-09T20:06:29.946114Z"
    }
   },
   "cell_type": "code",
   "source": "dict2['alice']=5",
   "id": "6dbdcff5428bc44e",
   "outputs": [],
   "execution_count": 51
  },
  {
   "metadata": {
    "ExecuteTime": {
     "end_time": "2025-01-13T23:55:26.168613Z",
     "start_time": "2025-01-09T20:06:33.852414Z"
    }
   },
   "cell_type": "code",
   "source": "print(dict2)",
   "id": "2ba8e624acb5e396",
   "outputs": [
    {
     "name": "stdout",
     "output_type": "stream",
     "text": [
      "{'alice': 5}\n"
     ]
    }
   ],
   "execution_count": 52
  },
  {
   "metadata": {
    "ExecuteTime": {
     "end_time": "2025-01-13T23:55:26.168798Z",
     "start_time": "2025-01-10T21:01:41.310305Z"
    }
   },
   "cell_type": "code",
   "source": "new_list=[]",
   "id": "dce722e9cc4bfa56",
   "outputs": [],
   "execution_count": 192
  },
  {
   "metadata": {
    "ExecuteTime": {
     "end_time": "2025-01-13T23:55:26.168978Z",
     "start_time": "2025-01-10T21:01:42.999617Z"
    }
   },
   "cell_type": "code",
   "source": "new_list.append(1)",
   "id": "c48efdc081157f5",
   "outputs": [],
   "execution_count": 193
  },
  {
   "metadata": {
    "ExecuteTime": {
     "end_time": "2025-01-13T23:55:26.169209Z",
     "start_time": "2025-01-10T21:01:44.182294Z"
    }
   },
   "cell_type": "code",
   "source": "print(new_list)",
   "id": "4192c87498e248e1",
   "outputs": [
    {
     "name": "stdout",
     "output_type": "stream",
     "text": [
      "[1]\n"
     ]
    }
   ],
   "execution_count": 194
  },
  {
   "metadata": {
    "ExecuteTime": {
     "end_time": "2025-01-13T23:55:26.169336Z",
     "start_time": "2025-01-09T20:08:03.242973Z"
    }
   },
   "cell_type": "code",
   "source": "new_list.append(6)",
   "id": "e36128f884995d90",
   "outputs": [],
   "execution_count": 56
  },
  {
   "metadata": {
    "ExecuteTime": {
     "end_time": "2025-01-13T23:55:26.169476Z",
     "start_time": "2025-01-09T20:08:09.268295Z"
    }
   },
   "cell_type": "code",
   "source": "print(new_list)",
   "id": "c20d759f91525db6",
   "outputs": [
    {
     "name": "stdout",
     "output_type": "stream",
     "text": [
      "[1, 6]\n"
     ]
    }
   ],
   "execution_count": 57
  },
  {
   "metadata": {
    "ExecuteTime": {
     "end_time": "2025-01-13T23:55:26.169660Z",
     "start_time": "2025-01-09T20:08:39.262397Z"
    }
   },
   "cell_type": "code",
   "source": "new_list+=long_list",
   "id": "1fb4981c4bbc3691",
   "outputs": [],
   "execution_count": 59
  },
  {
   "metadata": {
    "ExecuteTime": {
     "end_time": "2025-01-13T23:55:26.169767Z",
     "start_time": "2025-01-09T20:08:44.749062Z"
    }
   },
   "cell_type": "code",
   "source": "print(new_list)",
   "id": "3cac3ad9999cbdfb",
   "outputs": [
    {
     "name": "stdout",
     "output_type": "stream",
     "text": [
      "[1, 6, 1, 2, 3, 4, 5, 6, 7, 8, 9, 11]\n"
     ]
    }
   ],
   "execution_count": 60
  },
  {
   "metadata": {
    "ExecuteTime": {
     "end_time": "2025-01-13T23:55:26.169856Z",
     "start_time": "2025-01-09T20:10:14.143351Z"
    }
   },
   "cell_type": "code",
   "source": "dict1.keys()",
   "id": "e958a80c939a381f",
   "outputs": [
    {
     "data": {
      "text/plain": [
       "dict_keys(['alice', 'bob', 'charlie'])"
      ]
     },
     "execution_count": 61,
     "metadata": {},
     "output_type": "execute_result"
    }
   ],
   "execution_count": 61
  },
  {
   "metadata": {
    "ExecuteTime": {
     "end_time": "2025-01-13T23:55:26.169977Z",
     "start_time": "2025-01-09T20:11:26.419390Z"
    }
   },
   "cell_type": "code",
   "source": [
    "for key in dict1.keys():\n",
    "    print(key,dict1[key])"
   ],
   "id": "fb615e3d71b766fe",
   "outputs": [
    {
     "name": "stdout",
     "output_type": "stream",
     "text": [
      "alice 5\n",
      "bob 6\n",
      "charlie 9\n"
     ]
    }
   ],
   "execution_count": 64
  },
  {
   "metadata": {},
   "cell_type": "code",
   "outputs": [],
   "execution_count": null,
   "source": "",
   "id": "7b0b3fa2b38b1c28"
  },
  {
   "metadata": {},
   "cell_type": "markdown",
   "source": "# If Statement",
   "id": "f872e9d70337bb7"
  },
  {
   "metadata": {
    "ExecuteTime": {
     "end_time": "2025-01-13T23:55:26.170170Z",
     "start_time": "2025-01-09T20:20:32.903559Z"
    }
   },
   "cell_type": "code",
   "source": [
    "for i in long_list:\n",
    "    if i > 5 in long_list:\n",
    "        print(i)\n",
    "    elif i>2:\n",
    "        print('good')\n",
    "    else:\n",
    "        print('hi')\n"
   ],
   "id": "dd9b939e37462b2a",
   "outputs": [
    {
     "name": "stdout",
     "output_type": "stream",
     "text": [
      "hi\n",
      "hi\n",
      "good\n",
      "good\n",
      "good\n",
      "6\n",
      "7\n",
      "8\n",
      "9\n",
      "11\n"
     ]
    }
   ],
   "execution_count": 109
  },
  {
   "metadata": {},
   "cell_type": "code",
   "outputs": [],
   "execution_count": null,
   "source": "",
   "id": "9618975be62a8290"
  }
 ],
 "metadata": {
  "kernelspec": {
   "display_name": "Python 3",
   "language": "python",
   "name": "python3"
  },
  "language_info": {
   "codemirror_mode": {
    "name": "ipython",
    "version": 2
   },
   "file_extension": ".py",
   "mimetype": "text/x-python",
   "name": "python",
   "nbconvert_exporter": "python",
   "pygments_lexer": "ipython2",
   "version": "2.7.6"
  }
 },
 "nbformat": 4,
 "nbformat_minor": 5
}
