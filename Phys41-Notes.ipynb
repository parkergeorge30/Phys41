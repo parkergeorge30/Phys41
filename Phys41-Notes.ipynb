{
 "cells": [
  {
   "metadata": {},
   "cell_type": "markdown",
   "source": "# Only processes 16 digits after the decimal",
   "id": "7914b62ce8b064eb"
  },
  {
   "metadata": {
    "ExecuteTime": {
     "end_time": "2025-01-30T19:15:02.959352Z",
     "start_time": "2025-01-30T19:15:02.957062Z"
    }
   },
   "cell_type": "code",
   "source": [
    "a=1.+0.0000000000000000001\n",
    "print(a)"
   ],
   "id": "9a5db67c1c0a7185",
   "outputs": [
    {
     "name": "stdout",
     "output_type": "stream",
     "text": [
      "1.0\n"
     ]
    }
   ],
   "execution_count": 48
  },
  {
   "metadata": {
    "collapsed": true,
    "ExecuteTime": {
     "end_time": "2025-01-30T19:15:02.980570Z",
     "start_time": "2025-01-30T19:15:02.978535Z"
    }
   },
   "cell_type": "code",
   "source": "a-1",
   "id": "initial_id",
   "outputs": [
    {
     "data": {
      "text/plain": [
       "0.0"
      ]
     },
     "execution_count": 49,
     "metadata": {},
     "output_type": "execute_result"
    }
   ],
   "execution_count": 49
  },
  {
   "metadata": {},
   "cell_type": "markdown",
   "source": "# Imaginary Numbers",
   "id": "f3a947a2948261c2"
  },
  {
   "metadata": {
    "ExecuteTime": {
     "end_time": "2025-01-30T19:15:02.998956Z",
     "start_time": "2025-01-30T19:15:02.997510Z"
    }
   },
   "cell_type": "code",
   "source": "c=1j",
   "id": "b09ed894756fc5e2",
   "outputs": [],
   "execution_count": 50
  },
  {
   "metadata": {
    "ExecuteTime": {
     "end_time": "2025-01-30T19:15:03.009232Z",
     "start_time": "2025-01-30T19:15:03.007309Z"
    }
   },
   "cell_type": "code",
   "source": "c**2",
   "id": "69f24f56cb3d0d3a",
   "outputs": [
    {
     "data": {
      "text/plain": [
       "(-1+0j)"
      ]
     },
     "execution_count": 51,
     "metadata": {},
     "output_type": "execute_result"
    }
   ],
   "execution_count": 51
  },
  {
   "metadata": {
    "ExecuteTime": {
     "end_time": "2025-01-30T19:15:03.017962Z",
     "start_time": "2025-01-30T19:15:03.016519Z"
    }
   },
   "cell_type": "code",
   "source": "d=complex(1,2)",
   "id": "425d8d7ae6ba902f",
   "outputs": [],
   "execution_count": 52
  },
  {
   "metadata": {
    "ExecuteTime": {
     "end_time": "2025-01-30T19:15:03.025259Z",
     "start_time": "2025-01-30T19:15:03.023980Z"
    }
   },
   "cell_type": "code",
   "source": "print(d)",
   "id": "d5e74ea62257f32a",
   "outputs": [
    {
     "name": "stdout",
     "output_type": "stream",
     "text": [
      "(1+2j)\n"
     ]
    }
   ],
   "execution_count": 53
  },
  {
   "metadata": {},
   "cell_type": "markdown",
   "source": "# Lists",
   "id": "a9fd089f245e6fab"
  },
  {
   "metadata": {
    "ExecuteTime": {
     "end_time": "2025-01-30T19:15:03.034670Z",
     "start_time": "2025-01-30T19:15:03.033283Z"
    }
   },
   "cell_type": "code",
   "source": "L=[1,2,3,4,'No',5,6,[1,2,3]]",
   "id": "8e38601f52a1dbeb",
   "outputs": [],
   "execution_count": 54
  },
  {
   "metadata": {
    "ExecuteTime": {
     "end_time": "2025-01-30T19:15:03.046140Z",
     "start_time": "2025-01-30T19:15:03.044549Z"
    }
   },
   "cell_type": "code",
   "source": "L[4]",
   "id": "40c1bd45ff8b7963",
   "outputs": [
    {
     "data": {
      "text/plain": [
       "'No'"
      ]
     },
     "execution_count": 55,
     "metadata": {},
     "output_type": "execute_result"
    }
   ],
   "execution_count": 55
  },
  {
   "metadata": {
    "ExecuteTime": {
     "end_time": "2025-01-30T19:15:03.058236Z",
     "start_time": "2025-01-30T19:15:03.056556Z"
    }
   },
   "cell_type": "code",
   "source": "L[7]",
   "id": "2a175f85fee94d84",
   "outputs": [
    {
     "data": {
      "text/plain": [
       "[1, 2, 3]"
      ]
     },
     "execution_count": 56,
     "metadata": {},
     "output_type": "execute_result"
    }
   ],
   "execution_count": 56
  },
  {
   "metadata": {
    "ExecuteTime": {
     "end_time": "2025-01-30T19:15:03.073269Z",
     "start_time": "2025-01-30T19:15:03.071350Z"
    }
   },
   "cell_type": "code",
   "source": "L[7][0]",
   "id": "e6834c4d4ff0a1f1",
   "outputs": [
    {
     "data": {
      "text/plain": [
       "1"
      ]
     },
     "execution_count": 57,
     "metadata": {},
     "output_type": "execute_result"
    }
   ],
   "execution_count": 57
  },
  {
   "metadata": {
    "ExecuteTime": {
     "end_time": "2025-01-30T19:15:03.083056Z",
     "start_time": "2025-01-30T19:15:03.081677Z"
    }
   },
   "cell_type": "code",
   "source": "H=L",
   "id": "db9364d7dd49afc9",
   "outputs": [],
   "execution_count": 58
  },
  {
   "metadata": {
    "ExecuteTime": {
     "end_time": "2025-01-30T19:15:03.090325Z",
     "start_time": "2025-01-30T19:15:03.089117Z"
    }
   },
   "cell_type": "code",
   "source": "print(H)",
   "id": "4184e02b2b72f27c",
   "outputs": [
    {
     "name": "stdout",
     "output_type": "stream",
     "text": [
      "[1, 2, 3, 4, 'No', 5, 6, [1, 2, 3]]\n"
     ]
    }
   ],
   "execution_count": 59
  },
  {
   "metadata": {
    "ExecuteTime": {
     "end_time": "2025-01-30T19:15:03.099985Z",
     "start_time": "2025-01-30T19:15:03.098703Z"
    }
   },
   "cell_type": "code",
   "source": [
    "L[4]=8\n",
    "print(L)\n"
   ],
   "id": "ee5b357930e2afb8",
   "outputs": [
    {
     "name": "stdout",
     "output_type": "stream",
     "text": [
      "[1, 2, 3, 4, 8, 5, 6, [1, 2, 3]]\n"
     ]
    }
   ],
   "execution_count": 60
  },
  {
   "metadata": {
    "ExecuteTime": {
     "end_time": "2025-01-30T19:15:03.113698Z",
     "start_time": "2025-01-30T19:15:03.112347Z"
    }
   },
   "cell_type": "code",
   "source": "print(H)\n",
   "id": "ac900368728a3f2b",
   "outputs": [
    {
     "name": "stdout",
     "output_type": "stream",
     "text": [
      "[1, 2, 3, 4, 8, 5, 6, [1, 2, 3]]\n"
     ]
    }
   ],
   "execution_count": 61
  },
  {
   "metadata": {
    "ExecuteTime": {
     "end_time": "2025-01-30T19:15:03.123524Z",
     "start_time": "2025-01-30T19:15:03.122096Z"
    }
   },
   "cell_type": "code",
   "source": [
    "G=L.copy()\n",
    "print(G)\n"
   ],
   "id": "b7b2c8676498d8a6",
   "outputs": [
    {
     "name": "stdout",
     "output_type": "stream",
     "text": [
      "[1, 2, 3, 4, 8, 5, 6, [1, 2, 3]]\n"
     ]
    }
   ],
   "execution_count": 62
  },
  {
   "metadata": {
    "ExecuteTime": {
     "end_time": "2025-01-30T19:15:03.131519Z",
     "start_time": "2025-01-30T19:15:03.130126Z"
    }
   },
   "cell_type": "code",
   "source": "long_list=[1,2,3,4,5,6,7,8,9,11]",
   "id": "12fd5824bfcfce1d",
   "outputs": [],
   "execution_count": 63
  },
  {
   "metadata": {
    "ExecuteTime": {
     "end_time": "2025-01-30T19:15:03.138480Z",
     "start_time": "2025-01-30T19:15:03.136813Z"
    }
   },
   "cell_type": "code",
   "source": "long_list[:3]",
   "id": "8d2e5c922162af7f",
   "outputs": [
    {
     "data": {
      "text/plain": [
       "[1, 2, 3]"
      ]
     },
     "execution_count": 64,
     "metadata": {},
     "output_type": "execute_result"
    }
   ],
   "execution_count": 64
  },
  {
   "metadata": {
    "ExecuteTime": {
     "end_time": "2025-01-30T19:15:03.147984Z",
     "start_time": "2025-01-30T19:15:03.146303Z"
    }
   },
   "cell_type": "code",
   "source": "long_list[3:]",
   "id": "1f6fb8e5405ed486",
   "outputs": [
    {
     "data": {
      "text/plain": [
       "[4, 5, 6, 7, 8, 9, 11]"
      ]
     },
     "execution_count": 65,
     "metadata": {},
     "output_type": "execute_result"
    }
   ],
   "execution_count": 65
  },
  {
   "metadata": {
    "ExecuteTime": {
     "end_time": "2025-01-30T19:15:03.157227Z",
     "start_time": "2025-01-30T19:15:03.155542Z"
    }
   },
   "cell_type": "code",
   "source": "long_list[1:-1]",
   "id": "c094181f7d66fb31",
   "outputs": [
    {
     "data": {
      "text/plain": [
       "[2, 3, 4, 5, 6, 7, 8, 9]"
      ]
     },
     "execution_count": 66,
     "metadata": {},
     "output_type": "execute_result"
    }
   ],
   "execution_count": 66
  },
  {
   "metadata": {
    "ExecuteTime": {
     "end_time": "2025-01-30T19:15:03.167245Z",
     "start_time": "2025-01-30T19:15:03.165576Z"
    }
   },
   "cell_type": "code",
   "source": "long_list[1::3]",
   "id": "e8217bf008b69c93",
   "outputs": [
    {
     "data": {
      "text/plain": [
       "[2, 5, 8]"
      ]
     },
     "execution_count": 67,
     "metadata": {},
     "output_type": "execute_result"
    }
   ],
   "execution_count": 67
  },
  {
   "metadata": {
    "ExecuteTime": {
     "end_time": "2025-01-30T19:15:03.178352Z",
     "start_time": "2025-01-30T19:15:03.176438Z"
    }
   },
   "cell_type": "code",
   "source": "long_list[::-2]",
   "id": "49d6e2bf1d094004",
   "outputs": [
    {
     "data": {
      "text/plain": [
       "[11, 8, 6, 4, 2]"
      ]
     },
     "execution_count": 68,
     "metadata": {},
     "output_type": "execute_result"
    }
   ],
   "execution_count": 68
  },
  {
   "metadata": {
    "ExecuteTime": {
     "end_time": "2025-01-30T19:15:03.191125Z",
     "start_time": "2025-01-30T19:15:03.189474Z"
    }
   },
   "cell_type": "code",
   "source": "long_list[::-1]",
   "id": "c0fb5f68970e1b8",
   "outputs": [
    {
     "data": {
      "text/plain": [
       "[11, 9, 8, 7, 6, 5, 4, 3, 2, 1]"
      ]
     },
     "execution_count": 69,
     "metadata": {},
     "output_type": "execute_result"
    }
   ],
   "execution_count": 69
  },
  {
   "metadata": {},
   "cell_type": "markdown",
   "source": "# For Loop",
   "id": "360fb8b073a543c1"
  },
  {
   "metadata": {
    "ExecuteTime": {
     "end_time": "2025-01-30T19:15:03.202273Z",
     "start_time": "2025-01-30T19:15:03.200746Z"
    }
   },
   "cell_type": "code",
   "source": [
    "for i in long_list:\n",
    "    print(i)"
   ],
   "id": "2df9c1cc32734e6c",
   "outputs": [
    {
     "name": "stdout",
     "output_type": "stream",
     "text": [
      "1\n",
      "2\n",
      "3\n",
      "4\n",
      "5\n",
      "6\n",
      "7\n",
      "8\n",
      "9\n",
      "11\n"
     ]
    }
   ],
   "execution_count": 70
  },
  {
   "metadata": {
    "ExecuteTime": {
     "end_time": "2025-01-30T19:15:03.211137Z",
     "start_time": "2025-01-30T19:15:03.209680Z"
    }
   },
   "cell_type": "code",
   "source": [
    "total=0\n",
    "for i in long_list:\n",
    "    total+=i"
   ],
   "id": "b7399bca0bf96b62",
   "outputs": [],
   "execution_count": 71
  },
  {
   "metadata": {
    "ExecuteTime": {
     "end_time": "2025-01-30T19:15:03.218235Z",
     "start_time": "2025-01-30T19:15:03.216901Z"
    }
   },
   "cell_type": "code",
   "source": "print(total)",
   "id": "15798c67a99b1520",
   "outputs": [
    {
     "name": "stdout",
     "output_type": "stream",
     "text": [
      "56\n"
     ]
    }
   ],
   "execution_count": 72
  },
  {
   "metadata": {
    "ExecuteTime": {
     "end_time": "2025-01-30T19:15:03.228260Z",
     "start_time": "2025-01-30T19:15:03.226736Z"
    }
   },
   "cell_type": "code",
   "source": [
    "for i in range(10):\n",
    "    print(i)"
   ],
   "id": "bfb52423edb182ad",
   "outputs": [
    {
     "name": "stdout",
     "output_type": "stream",
     "text": [
      "0\n",
      "1\n",
      "2\n",
      "3\n",
      "4\n",
      "5\n",
      "6\n",
      "7\n",
      "8\n",
      "9\n"
     ]
    }
   ],
   "execution_count": 73
  },
  {
   "metadata": {
    "ExecuteTime": {
     "end_time": "2025-01-30T19:15:03.245656Z",
     "start_time": "2025-01-30T19:15:03.244200Z"
    }
   },
   "cell_type": "code",
   "source": [
    "for i in range(1,11):\n",
    "    print(i)"
   ],
   "id": "f891afd1c21af3fe",
   "outputs": [
    {
     "name": "stdout",
     "output_type": "stream",
     "text": [
      "1\n",
      "2\n",
      "3\n",
      "4\n",
      "5\n",
      "6\n",
      "7\n",
      "8\n",
      "9\n",
      "10\n"
     ]
    }
   ],
   "execution_count": 74
  },
  {
   "metadata": {
    "ExecuteTime": {
     "end_time": "2025-01-30T19:15:03.256481Z",
     "start_time": "2025-01-30T19:15:03.254982Z"
    }
   },
   "cell_type": "code",
   "source": "print(range(10))",
   "id": "2bd07e55f9a26299",
   "outputs": [
    {
     "name": "stdout",
     "output_type": "stream",
     "text": [
      "range(0, 10)\n"
     ]
    }
   ],
   "execution_count": 75
  },
  {
   "metadata": {
    "ExecuteTime": {
     "end_time": "2025-01-30T19:15:03.267948Z",
     "start_time": "2025-01-30T19:15:03.266662Z"
    }
   },
   "cell_type": "code",
   "source": "after_tax=long_list.copy()",
   "id": "4eb0a580edbe0b96",
   "outputs": [],
   "execution_count": 76
  },
  {
   "metadata": {
    "ExecuteTime": {
     "end_time": "2025-01-30T19:15:03.279626Z",
     "start_time": "2025-01-30T19:15:03.277749Z"
    }
   },
   "cell_type": "code",
   "source": "len(long_list)",
   "id": "c6d13955e6695f16",
   "outputs": [
    {
     "data": {
      "text/plain": [
       "10"
      ]
     },
     "execution_count": 77,
     "metadata": {},
     "output_type": "execute_result"
    }
   ],
   "execution_count": 77
  },
  {
   "metadata": {
    "ExecuteTime": {
     "end_time": "2025-01-30T19:15:03.289564Z",
     "start_time": "2025-01-30T19:15:03.288087Z"
    }
   },
   "cell_type": "code",
   "source": [
    "for i in range(len(long_list)):\n",
    "    after_tax[i]=long_list[i]*1.1"
   ],
   "id": "91606f49878521b2",
   "outputs": [],
   "execution_count": 78
  },
  {
   "metadata": {
    "ExecuteTime": {
     "end_time": "2025-01-30T19:15:03.303613Z",
     "start_time": "2025-01-30T19:15:03.301693Z"
    }
   },
   "cell_type": "code",
   "source": "after_tax",
   "id": "466c0441791e9d60",
   "outputs": [
    {
     "data": {
      "text/plain": [
       "[1.1,\n",
       " 2.2,\n",
       " 3.3000000000000003,\n",
       " 4.4,\n",
       " 5.5,\n",
       " 6.6000000000000005,\n",
       " 7.700000000000001,\n",
       " 8.8,\n",
       " 9.9,\n",
       " 12.100000000000001]"
      ]
     },
     "execution_count": 79,
     "metadata": {},
     "output_type": "execute_result"
    }
   ],
   "execution_count": 79
  },
  {
   "metadata": {
    "ExecuteTime": {
     "end_time": "2025-01-30T19:15:03.315142Z",
     "start_time": "2025-01-30T19:15:03.313567Z"
    }
   },
   "cell_type": "code",
   "source": [
    "for i,item in enumerate(long_list):\n",
    "    after_tax[i]=item*1.1\n",
    "    \n",
    "print(after_tax)"
   ],
   "id": "b1fcd75623e69c97",
   "outputs": [
    {
     "name": "stdout",
     "output_type": "stream",
     "text": [
      "[1.1, 2.2, 3.3000000000000003, 4.4, 5.5, 6.6000000000000005, 7.700000000000001, 8.8, 9.9, 12.100000000000001]\n"
     ]
    }
   ],
   "execution_count": 80
  },
  {
   "metadata": {
    "ExecuteTime": {
     "end_time": "2025-01-30T19:15:03.329714Z",
     "start_time": "2025-01-30T19:15:03.327921Z"
    }
   },
   "cell_type": "code",
   "source": [
    "for item1 in long_list:\n",
    "    for item2 in range(3):\n",
    "        print(item1,item2)"
   ],
   "id": "579702d2f6ea3da4",
   "outputs": [
    {
     "name": "stdout",
     "output_type": "stream",
     "text": [
      "1 0\n",
      "1 1\n",
      "1 2\n",
      "2 0\n",
      "2 1\n",
      "2 2\n",
      "3 0\n",
      "3 1\n",
      "3 2\n",
      "4 0\n",
      "4 1\n",
      "4 2\n",
      "5 0\n",
      "5 1\n",
      "5 2\n",
      "6 0\n",
      "6 1\n",
      "6 2\n",
      "7 0\n",
      "7 1\n",
      "7 2\n",
      "8 0\n",
      "8 1\n",
      "8 2\n",
      "9 0\n",
      "9 1\n",
      "9 2\n",
      "11 0\n",
      "11 1\n",
      "11 2\n"
     ]
    }
   ],
   "execution_count": 81
  },
  {
   "metadata": {
    "ExecuteTime": {
     "end_time": "2025-01-30T19:15:03.340124Z",
     "start_time": "2025-01-30T19:15:03.338374Z"
    }
   },
   "cell_type": "code",
   "source": [
    "\n",
    "max(long_list)"
   ],
   "id": "163eb7d2ed4d984e",
   "outputs": [
    {
     "data": {
      "text/plain": [
       "11"
      ]
     },
     "execution_count": 82,
     "metadata": {},
     "output_type": "execute_result"
    }
   ],
   "execution_count": 82
  },
  {
   "metadata": {
    "ExecuteTime": {
     "end_time": "2025-01-30T19:15:03.351321Z",
     "start_time": "2025-01-30T19:15:03.349535Z"
    }
   },
   "cell_type": "code",
   "source": "min(long_list)",
   "id": "4b07f8f0bb3fec48",
   "outputs": [
    {
     "data": {
      "text/plain": [
       "1"
      ]
     },
     "execution_count": 83,
     "metadata": {},
     "output_type": "execute_result"
    }
   ],
   "execution_count": 83
  },
  {
   "metadata": {
    "ExecuteTime": {
     "end_time": "2025-01-30T19:15:03.360173Z",
     "start_time": "2025-01-30T19:15:03.358865Z"
    }
   },
   "cell_type": "code",
   "source": "tuple1=(1,2,5,6)",
   "id": "4ccdf445372b8404",
   "outputs": [],
   "execution_count": 84
  },
  {
   "metadata": {
    "ExecuteTime": {
     "end_time": "2025-01-30T19:15:03.366187Z",
     "start_time": "2025-01-30T19:15:03.364513Z"
    }
   },
   "cell_type": "code",
   "source": "tuple1[1]",
   "id": "b506d965bda57d9",
   "outputs": [
    {
     "data": {
      "text/plain": [
       "2"
      ]
     },
     "execution_count": 85,
     "metadata": {},
     "output_type": "execute_result"
    }
   ],
   "execution_count": 85
  },
  {
   "metadata": {
    "ExecuteTime": {
     "end_time": "2025-01-30T19:15:03.429687Z",
     "start_time": "2025-01-30T19:15:03.428132Z"
    }
   },
   "cell_type": "code",
   "source": [
    "for item in tuple1:\n",
    "    print(item)"
   ],
   "id": "48c13a65a33612e",
   "outputs": [
    {
     "name": "stdout",
     "output_type": "stream",
     "text": [
      "1\n",
      "2\n",
      "5\n",
      "6\n"
     ]
    }
   ],
   "execution_count": 86
  },
  {
   "metadata": {
    "ExecuteTime": {
     "end_time": "2025-01-30T19:15:03.507575Z",
     "start_time": "2025-01-30T19:15:03.506158Z"
    }
   },
   "cell_type": "code",
   "source": "#tuple1[0]=5",
   "id": "a26cc2447e3a80a4",
   "outputs": [],
   "execution_count": 87
  },
  {
   "metadata": {},
   "cell_type": "markdown",
   "source": [
    "# Dictionary\n",
    "### finding items with a keyword"
   ],
   "id": "5130d091475c00ae"
  },
  {
   "metadata": {
    "ExecuteTime": {
     "end_time": "2025-01-30T19:15:03.527817Z",
     "start_time": "2025-01-30T19:15:03.526282Z"
    }
   },
   "cell_type": "code",
   "source": "dict1={'alice':5,'bob':6}",
   "id": "8ae92a141d0b1d77",
   "outputs": [],
   "execution_count": 88
  },
  {
   "metadata": {
    "ExecuteTime": {
     "end_time": "2025-01-30T19:15:03.537854Z",
     "start_time": "2025-01-30T19:15:03.535928Z"
    }
   },
   "cell_type": "code",
   "source": "dict1['alice']",
   "id": "9fb97f563a530c8",
   "outputs": [
    {
     "data": {
      "text/plain": [
       "5"
      ]
     },
     "execution_count": 89,
     "metadata": {},
     "output_type": "execute_result"
    }
   ],
   "execution_count": 89
  },
  {
   "metadata": {
    "ExecuteTime": {
     "end_time": "2025-01-30T19:15:03.546669Z",
     "start_time": "2025-01-30T19:15:03.545323Z"
    }
   },
   "cell_type": "code",
   "source": "dict1['charlie']=9",
   "id": "9e6ceaf13beb3580",
   "outputs": [],
   "execution_count": 90
  },
  {
   "metadata": {
    "ExecuteTime": {
     "end_time": "2025-01-30T19:15:03.553749Z",
     "start_time": "2025-01-30T19:15:03.552476Z"
    }
   },
   "cell_type": "code",
   "source": "print(dict1)\n",
   "id": "4a54c56b2169d01f",
   "outputs": [
    {
     "name": "stdout",
     "output_type": "stream",
     "text": [
      "{'alice': 5, 'bob': 6, 'charlie': 9}\n"
     ]
    }
   ],
   "execution_count": 91
  },
  {
   "metadata": {
    "ExecuteTime": {
     "end_time": "2025-01-30T19:15:03.560989Z",
     "start_time": "2025-01-30T19:15:03.559699Z"
    }
   },
   "cell_type": "code",
   "source": "dict2={}",
   "id": "7252fe6a1d2c515a",
   "outputs": [],
   "execution_count": 92
  },
  {
   "metadata": {
    "ExecuteTime": {
     "end_time": "2025-01-30T19:15:03.566613Z",
     "start_time": "2025-01-30T19:15:03.565309Z"
    }
   },
   "cell_type": "code",
   "source": "dict2['alice']=5",
   "id": "6dbdcff5428bc44e",
   "outputs": [],
   "execution_count": 93
  },
  {
   "metadata": {
    "ExecuteTime": {
     "end_time": "2025-01-30T19:15:03.572287Z",
     "start_time": "2025-01-30T19:15:03.570810Z"
    }
   },
   "cell_type": "code",
   "source": "print(dict2)",
   "id": "2ba8e624acb5e396",
   "outputs": [
    {
     "name": "stdout",
     "output_type": "stream",
     "text": [
      "{'alice': 5}\n"
     ]
    }
   ],
   "execution_count": 94
  },
  {
   "metadata": {
    "ExecuteTime": {
     "end_time": "2025-01-30T19:15:03.579218Z",
     "start_time": "2025-01-30T19:15:03.577895Z"
    }
   },
   "cell_type": "code",
   "source": "new_list=[]",
   "id": "dce722e9cc4bfa56",
   "outputs": [],
   "execution_count": 95
  },
  {
   "metadata": {
    "ExecuteTime": {
     "end_time": "2025-01-30T19:15:03.585244Z",
     "start_time": "2025-01-30T19:15:03.583910Z"
    }
   },
   "cell_type": "code",
   "source": "new_list.append(1)",
   "id": "c48efdc081157f5",
   "outputs": [],
   "execution_count": 96
  },
  {
   "metadata": {
    "ExecuteTime": {
     "end_time": "2025-01-30T19:15:03.590128Z",
     "start_time": "2025-01-30T19:15:03.588787Z"
    }
   },
   "cell_type": "code",
   "source": "print(new_list)",
   "id": "4192c87498e248e1",
   "outputs": [
    {
     "name": "stdout",
     "output_type": "stream",
     "text": [
      "[1]\n"
     ]
    }
   ],
   "execution_count": 97
  },
  {
   "metadata": {
    "ExecuteTime": {
     "end_time": "2025-01-30T19:15:03.602771Z",
     "start_time": "2025-01-30T19:15:03.601275Z"
    }
   },
   "cell_type": "code",
   "source": "new_list.append(6)",
   "id": "e36128f884995d90",
   "outputs": [],
   "execution_count": 98
  },
  {
   "metadata": {
    "ExecuteTime": {
     "end_time": "2025-01-30T19:15:03.612758Z",
     "start_time": "2025-01-30T19:15:03.611321Z"
    }
   },
   "cell_type": "code",
   "source": "print(new_list)",
   "id": "c20d759f91525db6",
   "outputs": [
    {
     "name": "stdout",
     "output_type": "stream",
     "text": [
      "[1, 6]\n"
     ]
    }
   ],
   "execution_count": 99
  },
  {
   "metadata": {
    "ExecuteTime": {
     "end_time": "2025-01-30T19:15:03.622658Z",
     "start_time": "2025-01-30T19:15:03.621320Z"
    }
   },
   "cell_type": "code",
   "source": "new_list+=long_list",
   "id": "1fb4981c4bbc3691",
   "outputs": [],
   "execution_count": 100
  },
  {
   "metadata": {
    "ExecuteTime": {
     "end_time": "2025-01-30T19:15:03.629196Z",
     "start_time": "2025-01-30T19:15:03.627773Z"
    }
   },
   "cell_type": "code",
   "source": "print(new_list)",
   "id": "3cac3ad9999cbdfb",
   "outputs": [
    {
     "name": "stdout",
     "output_type": "stream",
     "text": [
      "[1, 6, 1, 2, 3, 4, 5, 6, 7, 8, 9, 11]\n"
     ]
    }
   ],
   "execution_count": 101
  },
  {
   "metadata": {
    "ExecuteTime": {
     "end_time": "2025-01-30T19:15:03.637705Z",
     "start_time": "2025-01-30T19:15:03.635984Z"
    }
   },
   "cell_type": "code",
   "source": "dict1.keys()",
   "id": "e958a80c939a381f",
   "outputs": [
    {
     "data": {
      "text/plain": [
       "dict_keys(['alice', 'bob', 'charlie'])"
      ]
     },
     "execution_count": 102,
     "metadata": {},
     "output_type": "execute_result"
    }
   ],
   "execution_count": 102
  },
  {
   "metadata": {
    "ExecuteTime": {
     "end_time": "2025-01-30T19:15:03.647280Z",
     "start_time": "2025-01-30T19:15:03.645781Z"
    }
   },
   "cell_type": "code",
   "source": [
    "for key in dict1.keys():\n",
    "    print(key,dict1[key])"
   ],
   "id": "fb615e3d71b766fe",
   "outputs": [
    {
     "name": "stdout",
     "output_type": "stream",
     "text": [
      "alice 5\n",
      "bob 6\n",
      "charlie 9\n"
     ]
    }
   ],
   "execution_count": 103
  },
  {
   "metadata": {
    "ExecuteTime": {
     "end_time": "2025-01-30T19:15:03.656099Z",
     "start_time": "2025-01-30T19:15:03.654995Z"
    }
   },
   "cell_type": "code",
   "source": "",
   "id": "7b0b3fa2b38b1c28",
   "outputs": [],
   "execution_count": null
  },
  {
   "metadata": {},
   "cell_type": "markdown",
   "source": "# If Statement",
   "id": "f872e9d70337bb7"
  },
  {
   "metadata": {
    "ExecuteTime": {
     "end_time": "2025-01-30T19:15:03.666524Z",
     "start_time": "2025-01-30T19:15:03.664950Z"
    }
   },
   "cell_type": "code",
   "source": [
    "for i in long_list:\n",
    "    if i > 5 in long_list:\n",
    "        print(i)\n",
    "    elif i>2:\n",
    "        print('good')\n",
    "    else:\n",
    "        print('hi')\n"
   ],
   "id": "dd9b939e37462b2a",
   "outputs": [
    {
     "name": "stdout",
     "output_type": "stream",
     "text": [
      "hi\n",
      "hi\n",
      "good\n",
      "good\n",
      "good\n",
      "6\n",
      "7\n",
      "8\n",
      "9\n",
      "11\n"
     ]
    }
   ],
   "execution_count": 104
  },
  {
   "metadata": {},
   "cell_type": "markdown",
   "source": "# Sorting",
   "id": "329de578cc7f43b5"
  },
  {
   "metadata": {
    "ExecuteTime": {
     "end_time": "2025-01-30T19:15:03.675765Z",
     "start_time": "2025-01-30T19:15:03.674290Z"
    }
   },
   "cell_type": "code",
   "source": [
    "listA = [8,7,1,11,12]\n",
    "\n",
    "def sort(list):\n",
    "    list.sort()\n",
    "    return list\n",
    "\n"
   ],
   "id": "32f37db0dce77bde",
   "outputs": [],
   "execution_count": 105
  },
  {
   "metadata": {
    "ExecuteTime": {
     "end_time": "2025-01-30T19:15:03.686778Z",
     "start_time": "2025-01-30T19:15:03.684904Z"
    }
   },
   "cell_type": "code",
   "source": "sort(listA)",
   "id": "d15e6eacfba5a8d9",
   "outputs": [
    {
     "data": {
      "text/plain": [
       "[1, 7, 8, 11, 12]"
      ]
     },
     "execution_count": 106,
     "metadata": {},
     "output_type": "execute_result"
    }
   ],
   "execution_count": 106
  },
  {
   "metadata": {
    "ExecuteTime": {
     "end_time": "2025-01-30T19:15:03.697636Z",
     "start_time": "2025-01-30T19:15:03.696098Z"
    }
   },
   "cell_type": "code",
   "source": [
    "\n",
    "def new_sort(list):\n",
    "    for i in range(0, len(list)):\n",
    "        for j in range(i+1, len(list)):\n",
    "            if list[i]<list[j]:\n",
    "                list[i], list[j] = list[j], list[i]\n",
    "    return list.copy()"
   ],
   "id": "f0892d48e01c3b8e",
   "outputs": [],
   "execution_count": 107
  },
  {
   "metadata": {
    "ExecuteTime": {
     "end_time": "2025-01-30T19:15:03.708872Z",
     "start_time": "2025-01-30T19:15:03.707130Z"
    }
   },
   "cell_type": "code",
   "source": "new_sort(listA)",
   "id": "2aa8c1df5723ca87",
   "outputs": [
    {
     "data": {
      "text/plain": [
       "[12, 11, 8, 7, 1]"
      ]
     },
     "execution_count": 108,
     "metadata": {},
     "output_type": "execute_result"
    }
   ],
   "execution_count": 108
  },
  {
   "metadata": {
    "ExecuteTime": {
     "end_time": "2025-01-30T19:15:03.719307Z",
     "start_time": "2025-01-30T19:15:03.717582Z"
    }
   },
   "cell_type": "code",
   "source": [
    "listnew = [8,7,1,11,12]\n",
    "def better_sort(listB):\n",
    "    out = listB.copy()\n",
    "    for marker in range(1,len(out)):\n",
    "        i  = marker\n",
    "        value = out[i]\n",
    "        while out[i]>out[i-1] and i>0:\n",
    "            out[i] = out[i-1]\n",
    "            out[i-1] = value\n",
    "            i-=1\n",
    "    return out\n"
   ],
   "id": "e60b18ab1628a589",
   "outputs": [],
   "execution_count": 109
  },
  {
   "metadata": {
    "ExecuteTime": {
     "end_time": "2025-01-30T19:15:03.730178Z",
     "start_time": "2025-01-30T19:15:03.728415Z"
    }
   },
   "cell_type": "code",
   "source": "better_sort(listnew)",
   "id": "688845a343c0c22f",
   "outputs": [
    {
     "data": {
      "text/plain": [
       "[12, 11, 8, 7, 1]"
      ]
     },
     "execution_count": 110,
     "metadata": {},
     "output_type": "execute_result"
    }
   ],
   "execution_count": 110
  },
  {
   "metadata": {
    "ExecuteTime": {
     "end_time": "2025-01-30T19:15:03.740150Z",
     "start_time": "2025-01-30T19:15:03.738789Z"
    }
   },
   "cell_type": "code",
   "source": [
    "print(listnew)\n",
    "listnew.sort()"
   ],
   "id": "346402fe7e1dd82f",
   "outputs": [
    {
     "name": "stdout",
     "output_type": "stream",
     "text": [
      "[8, 7, 1, 11, 12]\n"
     ]
    }
   ],
   "execution_count": 111
  },
  {
   "metadata": {
    "ExecuteTime": {
     "end_time": "2025-01-30T19:15:03.751265Z",
     "start_time": "2025-01-30T19:15:03.749853Z"
    }
   },
   "cell_type": "code",
   "source": "print(listnew)",
   "id": "c47007bf1248d3b6",
   "outputs": [
    {
     "name": "stdout",
     "output_type": "stream",
     "text": [
      "[1, 7, 8, 11, 12]\n"
     ]
    }
   ],
   "execution_count": 112
  },
  {
   "metadata": {},
   "cell_type": "markdown",
   "source": "# Physics",
   "id": "3cdc4ab7573656c9"
  },
  {
   "metadata": {
    "ExecuteTime": {
     "end_time": "2025-01-30T19:15:03.762116Z",
     "start_time": "2025-01-30T19:15:03.760722Z"
    }
   },
   "cell_type": "code",
   "source": [
    "def pos(t, x0,v0,a):\n",
    "    return x0+v0*t+a*t**2/2"
   ],
   "id": "b82325a599e66047",
   "outputs": [],
   "execution_count": 113
  },
  {
   "metadata": {
    "ExecuteTime": {
     "end_time": "2025-01-30T19:15:03.768654Z",
     "start_time": "2025-01-30T19:15:03.767010Z"
    }
   },
   "cell_type": "code",
   "source": "pos(10,0,5,-9.8)",
   "id": "80efcc8c47f9c5b",
   "outputs": [
    {
     "data": {
      "text/plain": [
       "-440.00000000000006"
      ]
     },
     "execution_count": 114,
     "metadata": {},
     "output_type": "execute_result"
    }
   ],
   "execution_count": 114
  },
  {
   "metadata": {
    "ExecuteTime": {
     "end_time": "2025-01-30T19:15:03.776202Z",
     "start_time": "2025-01-30T19:15:03.774762Z"
    }
   },
   "cell_type": "code",
   "source": [
    "def pos2(t, x0=100,v0=0,a=-9.8):\n",
    "    return x0+v0*t+a*t**2/2"
   ],
   "id": "da3060a0109f7f6e",
   "outputs": [],
   "execution_count": 115
  },
  {
   "metadata": {
    "ExecuteTime": {
     "end_time": "2025-01-30T19:15:03.783389Z",
     "start_time": "2025-01-30T19:15:03.781806Z"
    }
   },
   "cell_type": "code",
   "source": "pos2(10)",
   "id": "528ce640e16f1ce2",
   "outputs": [
    {
     "data": {
      "text/plain": [
       "-390.00000000000006"
      ]
     },
     "execution_count": 116,
     "metadata": {},
     "output_type": "execute_result"
    }
   ],
   "execution_count": 116
  },
  {
   "metadata": {
    "ExecuteTime": {
     "end_time": "2025-01-30T19:15:03.794340Z",
     "start_time": "2025-01-30T19:15:03.792757Z"
    }
   },
   "cell_type": "code",
   "source": "pos2(10,v0=100)",
   "id": "3775f95df9ea6dff",
   "outputs": [
    {
     "data": {
      "text/plain": [
       "610.0"
      ]
     },
     "execution_count": 117,
     "metadata": {},
     "output_type": "execute_result"
    }
   ],
   "execution_count": 117
  },
  {
   "metadata": {},
   "cell_type": "markdown",
   "source": "# Numpy",
   "id": "8fe7338c0dbf55dd"
  },
  {
   "metadata": {
    "ExecuteTime": {
     "end_time": "2025-01-30T19:15:03.842320Z",
     "start_time": "2025-01-30T19:15:03.803467Z"
    }
   },
   "cell_type": "code",
   "source": "import numpy as np",
   "id": "cd7682ef968cfc85",
   "outputs": [],
   "execution_count": 118
  },
  {
   "metadata": {
    "ExecuteTime": {
     "end_time": "2025-01-30T19:15:03.847293Z",
     "start_time": "2025-01-30T19:15:03.846043Z"
    }
   },
   "cell_type": "code",
   "source": "print(np.pi)",
   "id": "a6c76275bc33a6",
   "outputs": [
    {
     "name": "stdout",
     "output_type": "stream",
     "text": [
      "3.141592653589793\n"
     ]
    }
   ],
   "execution_count": 119
  },
  {
   "metadata": {
    "ExecuteTime": {
     "end_time": "2025-01-30T19:15:03.856676Z",
     "start_time": "2025-01-30T19:15:03.855102Z"
    }
   },
   "cell_type": "code",
   "source": [
    "pi=np.pi\n",
    "print(np.sin(pi))\n",
    "print(np.cos(pi))"
   ],
   "id": "22b5fbd5a743dde6",
   "outputs": [
    {
     "name": "stdout",
     "output_type": "stream",
     "text": [
      "1.2246467991473532e-16\n",
      "-1.0\n"
     ]
    }
   ],
   "execution_count": 120
  },
  {
   "metadata": {
    "ExecuteTime": {
     "end_time": "2025-01-30T19:15:03.865258Z",
     "start_time": "2025-01-30T19:15:03.863849Z"
    }
   },
   "cell_type": "code",
   "source": "narr1 = np.array([1,2,3,4,5,6,7,8,9,10])\n",
   "id": "e6390b6ec07ce008",
   "outputs": [],
   "execution_count": 121
  },
  {
   "metadata": {
    "ExecuteTime": {
     "end_time": "2025-01-30T19:15:03.874521Z",
     "start_time": "2025-01-30T19:15:03.873034Z"
    }
   },
   "cell_type": "code",
   "source": "print(narr1)",
   "id": "5f2451eb66d656b0",
   "outputs": [
    {
     "name": "stdout",
     "output_type": "stream",
     "text": [
      "[ 1  2  3  4  5  6  7  8  9 10]\n"
     ]
    }
   ],
   "execution_count": 122
  },
  {
   "metadata": {
    "ExecuteTime": {
     "end_time": "2025-01-30T19:15:03.884009Z",
     "start_time": "2025-01-30T19:15:03.882249Z"
    }
   },
   "cell_type": "code",
   "source": "narr1**2",
   "id": "a5836cb7068c912d",
   "outputs": [
    {
     "data": {
      "text/plain": [
       "array([  1,   4,   9,  16,  25,  36,  49,  64,  81, 100])"
      ]
     },
     "execution_count": 123,
     "metadata": {},
     "output_type": "execute_result"
    }
   ],
   "execution_count": 123
  },
  {
   "metadata": {
    "ExecuteTime": {
     "end_time": "2025-01-30T19:15:03.893031Z",
     "start_time": "2025-01-30T19:15:03.891267Z"
    }
   },
   "cell_type": "code",
   "source": "np.cos(pi*narr1)",
   "id": "de6c6f1952a3ea8c",
   "outputs": [
    {
     "data": {
      "text/plain": [
       "array([-1.,  1., -1.,  1., -1.,  1., -1.,  1., -1.,  1.])"
      ]
     },
     "execution_count": 124,
     "metadata": {},
     "output_type": "execute_result"
    }
   ],
   "execution_count": 124
  },
  {
   "metadata": {
    "ExecuteTime": {
     "end_time": "2025-01-30T19:15:03.901064Z",
     "start_time": "2025-01-30T19:15:03.899670Z"
    }
   },
   "cell_type": "code",
   "source": "narr2 = np.array([[1,2,3],[4,5,6],[7,8,9]])",
   "id": "1371f0de0d7006e3",
   "outputs": [],
   "execution_count": 125
  },
  {
   "metadata": {
    "ExecuteTime": {
     "end_time": "2025-01-30T19:15:03.906829Z",
     "start_time": "2025-01-30T19:15:03.905324Z"
    }
   },
   "cell_type": "code",
   "source": "print(narr2)",
   "id": "8b199f0382482214",
   "outputs": [
    {
     "name": "stdout",
     "output_type": "stream",
     "text": [
      "[[1 2 3]\n",
      " [4 5 6]\n",
      " [7 8 9]]\n"
     ]
    }
   ],
   "execution_count": 126
  },
  {
   "metadata": {
    "ExecuteTime": {
     "end_time": "2025-01-30T19:15:03.916280Z",
     "start_time": "2025-01-30T19:15:03.914411Z"
    }
   },
   "cell_type": "code",
   "source": "narr2[0,2]",
   "id": "17ca82b594362915",
   "outputs": [
    {
     "data": {
      "text/plain": [
       "np.int64(3)"
      ]
     },
     "execution_count": 127,
     "metadata": {},
     "output_type": "execute_result"
    }
   ],
   "execution_count": 127
  },
  {
   "metadata": {
    "ExecuteTime": {
     "end_time": "2025-01-30T19:15:03.926419Z",
     "start_time": "2025-01-30T19:15:03.924716Z"
    }
   },
   "cell_type": "code",
   "source": "narr2[:,2]",
   "id": "45a0ffe4ed9a1680",
   "outputs": [
    {
     "data": {
      "text/plain": [
       "array([3, 6, 9])"
      ]
     },
     "execution_count": 128,
     "metadata": {},
     "output_type": "execute_result"
    }
   ],
   "execution_count": 128
  },
  {
   "metadata": {
    "ExecuteTime": {
     "end_time": "2025-01-30T19:15:03.935015Z",
     "start_time": "2025-01-30T19:15:03.933686Z"
    }
   },
   "cell_type": "code",
   "source": "narr3 = np.arange(27)",
   "id": "b1b2eddaec017d02",
   "outputs": [],
   "execution_count": 129
  },
  {
   "metadata": {
    "ExecuteTime": {
     "end_time": "2025-01-30T19:15:03.940911Z",
     "start_time": "2025-01-30T19:15:03.939162Z"
    }
   },
   "cell_type": "code",
   "source": "narr3",
   "id": "52bcf527f0dd59db",
   "outputs": [
    {
     "data": {
      "text/plain": [
       "array([ 0,  1,  2,  3,  4,  5,  6,  7,  8,  9, 10, 11, 12, 13, 14, 15, 16,\n",
       "       17, 18, 19, 20, 21, 22, 23, 24, 25, 26])"
      ]
     },
     "execution_count": 130,
     "metadata": {},
     "output_type": "execute_result"
    }
   ],
   "execution_count": 130
  },
  {
   "metadata": {
    "ExecuteTime": {
     "end_time": "2025-01-30T19:15:03.951028Z",
     "start_time": "2025-01-30T19:15:03.949527Z"
    }
   },
   "cell_type": "code",
   "source": "narr4 = narr3.reshape(3,3,3)",
   "id": "7c9ca13e96a25fba",
   "outputs": [],
   "execution_count": 131
  },
  {
   "metadata": {
    "ExecuteTime": {
     "end_time": "2025-01-30T19:15:03.961680Z",
     "start_time": "2025-01-30T19:15:03.959813Z"
    }
   },
   "cell_type": "code",
   "source": "narr4",
   "id": "6df6f7bbafe667db",
   "outputs": [
    {
     "data": {
      "text/plain": [
       "array([[[ 0,  1,  2],\n",
       "        [ 3,  4,  5],\n",
       "        [ 6,  7,  8]],\n",
       "\n",
       "       [[ 9, 10, 11],\n",
       "        [12, 13, 14],\n",
       "        [15, 16, 17]],\n",
       "\n",
       "       [[18, 19, 20],\n",
       "        [21, 22, 23],\n",
       "        [24, 25, 26]]])"
      ]
     },
     "execution_count": 132,
     "metadata": {},
     "output_type": "execute_result"
    }
   ],
   "execution_count": 132
  },
  {
   "metadata": {
    "ExecuteTime": {
     "end_time": "2025-01-30T19:15:03.971952Z",
     "start_time": "2025-01-30T19:15:03.970156Z"
    }
   },
   "cell_type": "code",
   "source": "narr4[1,:,:]\n",
   "id": "7181c8279bdbd80",
   "outputs": [
    {
     "data": {
      "text/plain": [
       "array([[ 9, 10, 11],\n",
       "       [12, 13, 14],\n",
       "       [15, 16, 17]])"
      ]
     },
     "execution_count": 133,
     "metadata": {},
     "output_type": "execute_result"
    }
   ],
   "execution_count": 133
  },
  {
   "metadata": {
    "ExecuteTime": {
     "end_time": "2025-01-30T19:15:03.981055Z",
     "start_time": "2025-01-30T19:15:03.979560Z"
    }
   },
   "cell_type": "code",
   "source": "time=np.linspace(0,10,100)",
   "id": "62eb00fcca52c4e",
   "outputs": [],
   "execution_count": 134
  },
  {
   "metadata": {
    "ExecuteTime": {
     "end_time": "2025-01-30T19:15:04.002975Z",
     "start_time": "2025-01-30T19:15:04.001150Z"
    }
   },
   "cell_type": "code",
   "source": "print(time)",
   "id": "fe8ab59f6bd2d549",
   "outputs": [
    {
     "name": "stdout",
     "output_type": "stream",
     "text": [
      "[ 0.          0.1010101   0.2020202   0.3030303   0.4040404   0.50505051\n",
      "  0.60606061  0.70707071  0.80808081  0.90909091  1.01010101  1.11111111\n",
      "  1.21212121  1.31313131  1.41414141  1.51515152  1.61616162  1.71717172\n",
      "  1.81818182  1.91919192  2.02020202  2.12121212  2.22222222  2.32323232\n",
      "  2.42424242  2.52525253  2.62626263  2.72727273  2.82828283  2.92929293\n",
      "  3.03030303  3.13131313  3.23232323  3.33333333  3.43434343  3.53535354\n",
      "  3.63636364  3.73737374  3.83838384  3.93939394  4.04040404  4.14141414\n",
      "  4.24242424  4.34343434  4.44444444  4.54545455  4.64646465  4.74747475\n",
      "  4.84848485  4.94949495  5.05050505  5.15151515  5.25252525  5.35353535\n",
      "  5.45454545  5.55555556  5.65656566  5.75757576  5.85858586  5.95959596\n",
      "  6.06060606  6.16161616  6.26262626  6.36363636  6.46464646  6.56565657\n",
      "  6.66666667  6.76767677  6.86868687  6.96969697  7.07070707  7.17171717\n",
      "  7.27272727  7.37373737  7.47474747  7.57575758  7.67676768  7.77777778\n",
      "  7.87878788  7.97979798  8.08080808  8.18181818  8.28282828  8.38383838\n",
      "  8.48484848  8.58585859  8.68686869  8.78787879  8.88888889  8.98989899\n",
      "  9.09090909  9.19191919  9.29292929  9.39393939  9.49494949  9.5959596\n",
      "  9.6969697   9.7979798   9.8989899  10.        ]\n"
     ]
    }
   ],
   "execution_count": 135
  },
  {
   "metadata": {
    "ExecuteTime": {
     "end_time": "2025-01-30T19:15:04.181593Z",
     "start_time": "2025-01-30T19:15:04.023221Z"
    }
   },
   "cell_type": "code",
   "source": "import matplotlib.pyplot as plt",
   "id": "c2bc8594636be5d8",
   "outputs": [],
   "execution_count": 136
  },
  {
   "metadata": {
    "ExecuteTime": {
     "end_time": "2025-01-30T19:15:04.221262Z",
     "start_time": "2025-01-30T19:15:04.184389Z"
    }
   },
   "cell_type": "code",
   "source": [
    "x=pos2(time)\n",
    "plt.plot(time,x)"
   ],
   "id": "145b06ac80972243",
   "outputs": [
    {
     "data": {
      "text/plain": [
       "[<matplotlib.lines.Line2D at 0x116f9d6d0>]"
      ]
     },
     "execution_count": 137,
     "metadata": {},
     "output_type": "execute_result"
    },
    {
     "data": {
      "text/plain": [
       "<Figure size 640x480 with 1 Axes>"
      ],
      "image/png": "[encoded data removed]"
     },
     "metadata": {},
     "output_type": "display_data"
    }
   ],
   "execution_count": 137
  },
  {
   "metadata": {
    "ExecuteTime": {
     "end_time": "2025-01-30T19:15:04.280922Z",
     "start_time": "2025-01-30T19:15:04.228328Z"
    }
   },
   "cell_type": "code",
   "source": "plt.plot(time,np.cos(pi*time))",
   "id": "37d97e840dc377bb",
   "outputs": [
    {
     "data": {
      "text/plain": [
       "[<matplotlib.lines.Line2D at 0x117385590>]"
      ]
     },
     "execution_count": 138,
     "metadata": {},
     "output_type": "execute_result"
    },
    {
     "data": {
      "text/plain": [
       "<Figure size 640x480 with 1 Axes>"
      ],
      "image/png": "[encoded data removed]"
     },
     "metadata": {},
     "output_type": "display_data"
    }
   ],
   "execution_count": 138
  },
  {
   "metadata": {
    "ExecuteTime": {
     "end_time": "2025-01-30T19:15:04.287212Z",
     "start_time": "2025-01-30T19:15:04.285488Z"
    }
   },
   "cell_type": "code",
   "source": "np.identity(2,dtype=complex)",
   "id": "87e2e7c1c800dd1a",
   "outputs": [
    {
     "data": {
      "text/plain": [
       "array([[1.+0.j, 0.+0.j],\n",
       "       [0.+0.j, 1.+0.j]])"
      ]
     },
     "execution_count": 139,
     "metadata": {},
     "output_type": "execute_result"
    }
   ],
   "execution_count": 139
  },
  {
   "metadata": {},
   "cell_type": "markdown",
   "source": "# Numpy Cont.",
   "id": "f151fb7461aede4"
  },
  {
   "metadata": {
    "ExecuteTime": {
     "end_time": "2025-01-30T19:15:04.319379Z",
     "start_time": "2025-01-30T19:15:04.317065Z"
    }
   },
   "cell_type": "code",
   "source": "np.linspace(0,10,101)",
   "id": "f13f2512166c3cf2",
   "outputs": [
    {
     "data": {
      "text/plain": [
       "array([ 0. ,  0.1,  0.2,  0.3,  0.4,  0.5,  0.6,  0.7,  0.8,  0.9,  1. ,\n",
       "        1.1,  1.2,  1.3,  1.4,  1.5,  1.6,  1.7,  1.8,  1.9,  2. ,  2.1,\n",
       "        2.2,  2.3,  2.4,  2.5,  2.6,  2.7,  2.8,  2.9,  3. ,  3.1,  3.2,\n",
       "        3.3,  3.4,  3.5,  3.6,  3.7,  3.8,  3.9,  4. ,  4.1,  4.2,  4.3,\n",
       "        4.4,  4.5,  4.6,  4.7,  4.8,  4.9,  5. ,  5.1,  5.2,  5.3,  5.4,\n",
       "        5.5,  5.6,  5.7,  5.8,  5.9,  6. ,  6.1,  6.2,  6.3,  6.4,  6.5,\n",
       "        6.6,  6.7,  6.8,  6.9,  7. ,  7.1,  7.2,  7.3,  7.4,  7.5,  7.6,\n",
       "        7.7,  7.8,  7.9,  8. ,  8.1,  8.2,  8.3,  8.4,  8.5,  8.6,  8.7,\n",
       "        8.8,  8.9,  9. ,  9.1,  9.2,  9.3,  9.4,  9.5,  9.6,  9.7,  9.8,\n",
       "        9.9, 10. ])"
      ]
     },
     "execution_count": 140,
     "metadata": {},
     "output_type": "execute_result"
    }
   ],
   "execution_count": 140
  },
  {
   "metadata": {
    "ExecuteTime": {
     "end_time": "2025-01-30T19:15:04.347404Z",
     "start_time": "2025-01-30T19:15:04.345342Z"
    }
   },
   "cell_type": "code",
   "source": "np.arange(100,dtype=float)",
   "id": "b52a4f627e6220e4",
   "outputs": [
    {
     "data": {
      "text/plain": [
       "array([ 0.,  1.,  2.,  3.,  4.,  5.,  6.,  7.,  8.,  9., 10., 11., 12.,\n",
       "       13., 14., 15., 16., 17., 18., 19., 20., 21., 22., 23., 24., 25.,\n",
       "       26., 27., 28., 29., 30., 31., 32., 33., 34., 35., 36., 37., 38.,\n",
       "       39., 40., 41., 42., 43., 44., 45., 46., 47., 48., 49., 50., 51.,\n",
       "       52., 53., 54., 55., 56., 57., 58., 59., 60., 61., 62., 63., 64.,\n",
       "       65., 66., 67., 68., 69., 70., 71., 72., 73., 74., 75., 76., 77.,\n",
       "       78., 79., 80., 81., 82., 83., 84., 85., 86., 87., 88., 89., 90.,\n",
       "       91., 92., 93., 94., 95., 96., 97., 98., 99.])"
      ]
     },
     "execution_count": 141,
     "metadata": {},
     "output_type": "execute_result"
    }
   ],
   "execution_count": 141
  },
  {
   "metadata": {
    "ExecuteTime": {
     "end_time": "2025-01-30T19:15:04.376071Z",
     "start_time": "2025-01-30T19:15:04.374456Z"
    }
   },
   "cell_type": "code",
   "source": [
    "a=np.linspace(0,15)\n",
    "b=np.linspace(5,10)"
   ],
   "id": "e3eb12c64c3096fe",
   "outputs": [],
   "execution_count": 142
  },
  {
   "metadata": {
    "ExecuteTime": {
     "end_time": "2025-01-30T19:15:04.391855Z",
     "start_time": "2025-01-30T19:15:04.389925Z"
    }
   },
   "cell_type": "code",
   "source": "(a<b).sum() # elegant (chefs kiss)",
   "id": "359b2ac57b3fc47b",
   "outputs": [
    {
     "data": {
      "text/plain": [
       "np.int64(25)"
      ]
     },
     "execution_count": 143,
     "metadata": {},
     "output_type": "execute_result"
    }
   ],
   "execution_count": 143
  },
  {
   "metadata": {
    "ExecuteTime": {
     "end_time": "2025-01-30T19:15:04.402137Z",
     "start_time": "2025-01-30T19:15:04.400579Z"
    }
   },
   "cell_type": "code",
   "source": [
    "count=0\n",
    "for i in range(50):\n",
    "    if a[i]<b[i]:\n",
    "        count+=1\n",
    "print(count)"
   ],
   "id": "2661789006376ba6",
   "outputs": [
    {
     "name": "stdout",
     "output_type": "stream",
     "text": [
      "25\n"
     ]
    }
   ],
   "execution_count": 144
  },
  {
   "metadata": {
    "ExecuteTime": {
     "end_time": "2025-01-30T19:15:04.412762Z",
     "start_time": "2025-01-30T19:15:04.410793Z"
    }
   },
   "cell_type": "code",
   "source": "a>10",
   "id": "90046b411657b7e8",
   "outputs": [
    {
     "data": {
      "text/plain": [
       "array([False, False, False, False, False, False, False, False, False,\n",
       "       False, False, False, False, False, False, False, False, False,\n",
       "       False, False, False, False, False, False, False, False, False,\n",
       "       False, False, False, False, False, False,  True,  True,  True,\n",
       "        True,  True,  True,  True,  True,  True,  True,  True,  True,\n",
       "        True,  True,  True,  True,  True])"
      ]
     },
     "execution_count": 145,
     "metadata": {},
     "output_type": "execute_result"
    }
   ],
   "execution_count": 145
  },
  {
   "metadata": {
    "ExecuteTime": {
     "end_time": "2025-01-30T19:15:04.437373Z",
     "start_time": "2025-01-30T19:15:04.435300Z"
    }
   },
   "cell_type": "code",
   "source": "np.logical_or(a<b,a>10)",
   "id": "b4d74b2a4ddad867",
   "outputs": [
    {
     "data": {
      "text/plain": [
       "array([ True,  True,  True,  True,  True,  True,  True,  True,  True,\n",
       "        True,  True,  True,  True,  True,  True,  True,  True,  True,\n",
       "        True,  True,  True,  True,  True,  True,  True, False, False,\n",
       "       False, False, False, False, False, False,  True,  True,  True,\n",
       "        True,  True,  True,  True,  True,  True,  True,  True,  True,\n",
       "        True,  True,  True,  True,  True])"
      ]
     },
     "execution_count": 146,
     "metadata": {},
     "output_type": "execute_result"
    }
   ],
   "execution_count": 146
  },
  {
   "metadata": {
    "ExecuteTime": {
     "end_time": "2025-01-30T19:15:04.454420Z",
     "start_time": "2025-01-30T19:15:04.453216Z"
    }
   },
   "cell_type": "code",
   "source": "",
   "id": "af582b9b45217884",
   "outputs": [],
   "execution_count": null
  },
  {
   "metadata": {},
   "cell_type": "markdown",
   "source": "# Probability",
   "id": "fd7453a5947fdbe3"
  },
  {
   "metadata": {
    "ExecuteTime": {
     "end_time": "2025-01-30T19:15:04.462185Z",
     "start_time": "2025-01-30T19:15:04.460802Z"
    }
   },
   "cell_type": "code",
   "source": [
    "import numpy as np\n",
    "import matplotlib.pyplot as plt"
   ],
   "id": "ddae7a02ce57ccbf",
   "outputs": [],
   "execution_count": 147
  },
  {
   "metadata": {
    "ExecuteTime": {
     "end_time": "2025-01-30T19:15:04.477357Z",
     "start_time": "2025-01-30T19:15:04.468866Z"
    }
   },
   "cell_type": "code",
   "source": "np.random.rand(2,2)",
   "id": "eb3df363e941f1aa",
   "outputs": [
    {
     "data": {
      "text/plain": [
       "array([[0.162134  , 0.50653074],\n",
       "       [0.54690557, 0.33468588]])"
      ]
     },
     "execution_count": 148,
     "metadata": {},
     "output_type": "execute_result"
    }
   ],
   "execution_count": 148
  },
  {
   "metadata": {
    "ExecuteTime": {
     "end_time": "2025-01-30T19:15:04.518839Z",
     "start_time": "2025-01-30T19:15:04.495213Z"
    }
   },
   "cell_type": "code",
   "source": "list_rand = np.random.rand(int(1e7))",
   "id": "26a3ba1b822a2555",
   "outputs": [],
   "execution_count": 149
  },
  {
   "metadata": {
    "ExecuteTime": {
     "end_time": "2025-01-30T19:15:04.623170Z",
     "start_time": "2025-01-30T19:15:04.533181Z"
    }
   },
   "cell_type": "code",
   "source": [
    "plt.hist(list_rand,bins=100)\n",
    "plt.show()"
   ],
   "id": "300abd6918edc93a",
   "outputs": [
    {
     "data": {
      "text/plain": [
       "<Figure size 640x480 with 1 Axes>"
      ],
      "image/png": "[encoded data removed]"
     },
     "metadata": {},
     "output_type": "display_data"
    }
   ],
   "execution_count": 150
  },
  {
   "metadata": {
    "ExecuteTime": {
     "end_time": "2025-01-30T19:15:04.627085Z",
     "start_time": "2025-01-30T19:15:04.625651Z"
    }
   },
   "cell_type": "code",
   "source": [
    "def mycoin(p):\n",
    "    return 'Heads' if np.random.rand() <= p else 'Tails'"
   ],
   "id": "faac4de32bc71fd7",
   "outputs": [],
   "execution_count": 151
  },
  {
   "metadata": {
    "ExecuteTime": {
     "end_time": "2025-01-30T19:15:04.643074Z",
     "start_time": "2025-01-30T19:15:04.641165Z"
    }
   },
   "cell_type": "code",
   "source": "mycoin(0.5)",
   "id": "1457b6fa727a046a",
   "outputs": [
    {
     "data": {
      "text/plain": [
       "'Tails'"
      ]
     },
     "execution_count": 152,
     "metadata": {},
     "output_type": "execute_result"
    }
   ],
   "execution_count": 152
  },
  {
   "metadata": {
    "ExecuteTime": {
     "end_time": "2025-01-30T19:15:04.654714Z",
     "start_time": "2025-01-30T19:15:04.653232Z"
    }
   },
   "cell_type": "code",
   "source": [
    "def mycoin_N(p,N):\n",
    "    return np.random.rand(N) < p"
   ],
   "id": "6d300cfa6f4141dd",
   "outputs": [],
   "execution_count": 153
  },
  {
   "metadata": {
    "ExecuteTime": {
     "end_time": "2025-01-30T19:15:04.666856Z",
     "start_time": "2025-01-30T19:15:04.665381Z"
    }
   },
   "cell_type": "code",
   "source": "testcoin = mycoin_N(0.5,1000)",
   "id": "219e61028c99da1d",
   "outputs": [],
   "execution_count": 154
  },
  {
   "metadata": {
    "ExecuteTime": {
     "end_time": "2025-01-30T19:15:04.678747Z",
     "start_time": "2025-01-30T19:15:04.676666Z"
    }
   },
   "cell_type": "code",
   "source": "testcoin.sum()",
   "id": "ae8b3e0ff7b35986",
   "outputs": [
    {
     "data": {
      "text/plain": [
       "np.int64(500)"
      ]
     },
     "execution_count": 155,
     "metadata": {},
     "output_type": "execute_result"
    }
   ],
   "execution_count": 155
  },
  {
   "metadata": {
    "ExecuteTime": {
     "end_time": "2025-01-30T19:15:04.690932Z",
     "start_time": "2025-01-30T19:15:04.689229Z"
    }
   },
   "cell_type": "code",
   "source": [
    "def newuniform(c,d):\n",
    "    temp = np.random.rand()\n",
    "    if d-c == 1:\n",
    "        temp += c\n",
    "    else:\n",
    "        temp = temp*(d-c)+c\n",
    "    return temp\n"
   ],
   "id": "bcca4142d91941c8",
   "outputs": [],
   "execution_count": 156
  },
  {
   "metadata": {
    "ExecuteTime": {
     "end_time": "2025-01-30T19:15:04.702473Z",
     "start_time": "2025-01-30T19:15:04.700605Z"
    }
   },
   "cell_type": "code",
   "source": "newuniform(100,1000)",
   "id": "e98c733912ca34d",
   "outputs": [
    {
     "data": {
      "text/plain": [
       "571.7068181102256"
      ]
     },
     "execution_count": 157,
     "metadata": {},
     "output_type": "execute_result"
    }
   ],
   "execution_count": 157
  },
  {
   "metadata": {
    "ExecuteTime": {
     "end_time": "2025-01-30T19:15:04.714471Z",
     "start_time": "2025-01-30T19:15:04.713118Z"
    }
   },
   "cell_type": "code",
   "source": "myseed = 1010101010\n",
   "id": "378c787e8f7ea2a9",
   "outputs": [],
   "execution_count": 158
  },
  {
   "metadata": {
    "ExecuteTime": {
     "end_time": "2025-01-30T19:15:04.727078Z",
     "start_time": "2025-01-30T19:15:04.725279Z"
    }
   },
   "cell_type": "code",
   "source": [
    "np.random.seed(myseed)\n",
    "np.random.rand(3)"
   ],
   "id": "359879160379d69c",
   "outputs": [
    {
     "data": {
      "text/plain": [
       "array([0.65499971, 0.91144821, 0.53791723])"
      ]
     },
     "execution_count": 159,
     "metadata": {},
     "output_type": "execute_result"
    }
   ],
   "execution_count": 159
  },
  {
   "metadata": {
    "ExecuteTime": {
     "end_time": "2025-01-30T19:15:04.738230Z",
     "start_time": "2025-01-30T19:15:04.736814Z"
    }
   },
   "cell_type": "code",
   "source": [
    "def myuniform(seedin,a=87178291199,b=84673):\n",
    "    return (a*seedin%b)/b"
   ],
   "id": "90917f2ac8909bd3",
   "outputs": [],
   "execution_count": 160
  },
  {
   "metadata": {
    "ExecuteTime": {
     "end_time": "2025-01-30T19:15:04.757996Z",
     "start_time": "2025-01-30T19:15:04.756143Z"
    }
   },
   "cell_type": "code",
   "source": "test_myuniform = myuniform(np.arange(100,10000))",
   "id": "2b712b8e24aa245b",
   "outputs": [],
   "execution_count": 161
  },
  {
   "metadata": {
    "ExecuteTime": {
     "end_time": "2025-01-30T19:15:04.794008Z",
     "start_time": "2025-01-30T19:15:04.767985Z"
    }
   },
   "cell_type": "code",
   "source": [
    "plt.hist(test_myuniform)\n",
    "plt.show()"
   ],
   "id": "5e65b3b97419974f",
   "outputs": [
    {
     "data": {
      "text/plain": [
       "<Figure size 640x480 with 1 Axes>"
      ],
      "image/png": "[encoded data removed]"
     },
     "metadata": {},
     "output_type": "display_data"
    }
   ],
   "execution_count": 162
  },
  {
   "metadata": {
    "ExecuteTime": {
     "end_time": "2025-01-30T19:15:04.802799Z",
     "start_time": "2025-01-30T19:15:04.800883Z"
    }
   },
   "cell_type": "code",
   "source": "np.random.randn()",
   "id": "51c976cc040d9338",
   "outputs": [
    {
     "data": {
      "text/plain": [
       "0.16550316386994504"
      ]
     },
     "execution_count": 163,
     "metadata": {},
     "output_type": "execute_result"
    }
   ],
   "execution_count": 163
  },
  {
   "metadata": {
    "ExecuteTime": {
     "end_time": "2025-01-30T19:15:04.810837Z",
     "start_time": "2025-01-30T19:15:04.809317Z"
    }
   },
   "cell_type": "code",
   "source": [
    "def mynormal():\n",
    "    x = np.random.rand()*6-3\n",
    "    y = np.random.rand()\n",
    "    if np.exp(-x**2/2) > y:\n",
    "        return x"
   ],
   "id": "a5bee9212a808e9c",
   "outputs": [],
   "execution_count": 164
  },
  {
   "metadata": {
    "ExecuteTime": {
     "end_time": "2025-01-30T19:15:04.824468Z",
     "start_time": "2025-01-30T19:15:04.822899Z"
    }
   },
   "cell_type": "code",
   "source": "mynormal()",
   "id": "232e7758867beca3",
   "outputs": [],
   "execution_count": 165
  },
  {
   "metadata": {
    "ExecuteTime": {
     "end_time": "2025-01-30T19:15:04.848379Z",
     "start_time": "2025-01-30T19:15:04.846743Z"
    }
   },
   "cell_type": "code",
   "source": [
    "def loop(N):\n",
    "    out = []\n",
    "    for i in range(0,N):\n",
    "        x = np.random.rand()*6-3\n",
    "        y = np.random.rand()\n",
    "        if np.exp(-x**2/2) > y:\n",
    "            out.append(x)\n",
    "    return np.array(out)"
   ],
   "id": "5f70a13dad78b649",
   "outputs": [],
   "execution_count": 166
  },
  {
   "metadata": {
    "ExecuteTime": {
     "end_time": "2025-01-30T19:15:04.923562Z",
     "start_time": "2025-01-30T19:15:04.857718Z"
    }
   },
   "cell_type": "code",
   "source": "normallist = loop(100000)",
   "id": "933c94d82869ae1c",
   "outputs": [],
   "execution_count": 167
  },
  {
   "metadata": {
    "ExecuteTime": {
     "end_time": "2025-01-30T19:15:04.932019Z",
     "start_time": "2025-01-30T19:15:04.929991Z"
    }
   },
   "cell_type": "code",
   "source": "len(normallist)",
   "id": "e5438a8c941d5969",
   "outputs": [
    {
     "data": {
      "text/plain": [
       "41444"
      ]
     },
     "execution_count": 168,
     "metadata": {},
     "output_type": "execute_result"
    }
   ],
   "execution_count": 168
  },
  {
   "metadata": {
    "ExecuteTime": {
     "end_time": "2025-01-30T19:15:04.999554Z",
     "start_time": "2025-01-30T19:15:04.954326Z"
    }
   },
   "cell_type": "code",
   "source": "plt.hist(normallist, bins = 50)",
   "id": "322581de4c98bdec",
   "outputs": [
    {
     "data": {
      "text/plain": [
       "(array([  39.,   35.,   51.,   75.,  112.,  138.,  176.,  229.,  295.,\n",
       "         338.,  461.,  562.,  649.,  790.,  931., 1058., 1206., 1290.,\n",
       "        1497., 1570., 1651., 1895., 1861., 1927., 1882., 2008., 1919.,\n",
       "        1848., 1966., 1752., 1528., 1445., 1319., 1224., 1040.,  915.,\n",
       "         739.,  621.,  546.,  453.,  335.,  281.,  209.,  159.,  126.,\n",
       "          98.,   82.,   53.,   34.,   26.]),\n",
       " array([-2.99661204e+00, -2.87671391e+00, -2.75681578e+00, -2.63691765e+00,\n",
       "        -2.51701952e+00, -2.39712139e+00, -2.27722326e+00, -2.15732513e+00,\n",
       "        -2.03742700e+00, -1.91752887e+00, -1.79763074e+00, -1.67773260e+00,\n",
       "        -1.55783447e+00, -1.43793634e+00, -1.31803821e+00, -1.19814008e+00,\n",
       "        -1.07824195e+00, -9.58343819e-01, -8.38445688e-01, -7.18547557e-01,\n",
       "        -5.98649426e-01, -4.78751295e-01, -3.58853164e-01, -2.38955033e-01,\n",
       "        -1.19056902e-01,  8.41228987e-04,  1.20739360e-01,  2.40637491e-01,\n",
       "         3.60535622e-01,  4.80433753e-01,  6.00331884e-01,  7.20230015e-01,\n",
       "         8.40128146e-01,  9.60026277e-01,  1.07992441e+00,  1.19982254e+00,\n",
       "         1.31972067e+00,  1.43961880e+00,  1.55951693e+00,  1.67941506e+00,\n",
       "         1.79931319e+00,  1.91921132e+00,  2.03910945e+00,  2.15900759e+00,\n",
       "         2.27890572e+00,  2.39880385e+00,  2.51870198e+00,  2.63860011e+00,\n",
       "         2.75849824e+00,  2.87839637e+00,  2.99829450e+00]),\n",
       " <BarContainer object of 50 artists>)"
      ]
     },
     "execution_count": 169,
     "metadata": {},
     "output_type": "execute_result"
    },
    {
     "data": {
      "text/plain": [
       "<Figure size 640x480 with 1 Axes>"
      ],
      "image/png": "[encoded data removed]"
     },
     "metadata": {},
     "output_type": "display_data"
    }
   ],
   "execution_count": 169
  },
  {
   "metadata": {
    "ExecuteTime": {
     "end_time": "2025-01-30T19:15:05.007179Z",
     "start_time": "2025-01-30T19:15:05.005626Z"
    }
   },
   "cell_type": "code",
   "source": [
    "def mypi(N):\n",
    "    x = np.random.rand(N)*2-1\n",
    "    y = np.random.rand(N)*2-1\n",
    "\n",
    "    temp = (x**2+y**2)<=1\n",
    "\n",
    "    return temp.sum()*4/N"
   ],
   "id": "6eb715394dab8606",
   "outputs": [],
   "execution_count": 170
  },
  {
   "metadata": {
    "ExecuteTime": {
     "end_time": "2025-01-30T19:15:06.363149Z",
     "start_time": "2025-01-30T19:15:05.019884Z"
    }
   },
   "cell_type": "code",
   "source": "mypi(int(1e8))",
   "id": "3c2cffc3fdb4bbc7",
   "outputs": [
    {
     "data": {
      "text/plain": [
       "np.float64(3.14133136)"
      ]
     },
     "execution_count": 171,
     "metadata": {},
     "output_type": "execute_result"
    }
   ],
   "execution_count": 171
  },
  {
   "metadata": {},
   "cell_type": "markdown",
   "source": "# Arguments",
   "id": "fe7e1de0081b4142"
  },
  {
   "metadata": {
    "ExecuteTime": {
     "end_time": "2025-01-30T19:15:06.371684Z",
     "start_time": "2025-01-30T19:15:06.370284Z"
    }
   },
   "cell_type": "code",
   "source": [
    "def func1(x,y):\n",
    "    return x+y"
   ],
   "id": "bd53cbe1c86a7e88",
   "outputs": [],
   "execution_count": 172
  },
  {
   "metadata": {
    "ExecuteTime": {
     "end_time": "2025-01-30T19:15:06.390820Z",
     "start_time": "2025-01-30T19:15:06.389219Z"
    }
   },
   "cell_type": "code",
   "source": [
    "def func2(*args):\n",
    "    for i in args:\n",
    "        print(i)\n",
    "    return 1"
   ],
   "id": "8101ae673ed22db3",
   "outputs": [],
   "execution_count": 173
  },
  {
   "metadata": {
    "ExecuteTime": {
     "end_time": "2025-01-30T19:15:06.405907Z",
     "start_time": "2025-01-30T19:15:06.403826Z"
    }
   },
   "cell_type": "code",
   "source": "func2(1,2,3)",
   "id": "5398b986db1cdfef",
   "outputs": [
    {
     "name": "stdout",
     "output_type": "stream",
     "text": [
      "1\n",
      "2\n",
      "3\n"
     ]
    },
    {
     "data": {
      "text/plain": [
       "1"
      ]
     },
     "execution_count": 174,
     "metadata": {},
     "output_type": "execute_result"
    }
   ],
   "execution_count": 174
  },
  {
   "metadata": {
    "ExecuteTime": {
     "end_time": "2025-01-30T19:15:06.423633Z",
     "start_time": "2025-01-30T19:15:06.422126Z"
    }
   },
   "cell_type": "code",
   "source": [
    "def times2(f,*args):\n",
    "    return 2*f(*args)"
   ],
   "id": "6540928cfe823e8d",
   "outputs": [],
   "execution_count": 175
  },
  {
   "metadata": {
    "ExecuteTime": {
     "end_time": "2025-01-30T19:15:06.437022Z",
     "start_time": "2025-01-30T19:15:06.435721Z"
    }
   },
   "cell_type": "code",
   "source": [
    "def f(x):\n",
    "    return x**2"
   ],
   "id": "d535e4401fa62eb7",
   "outputs": [],
   "execution_count": 176
  },
  {
   "metadata": {
    "ExecuteTime": {
     "end_time": "2025-01-30T19:15:06.452944Z",
     "start_time": "2025-01-30T19:15:06.451066Z"
    }
   },
   "cell_type": "code",
   "source": "times2(f,1)",
   "id": "9365deb6e8adc29c",
   "outputs": [
    {
     "data": {
      "text/plain": [
       "2"
      ]
     },
     "execution_count": 177,
     "metadata": {},
     "output_type": "execute_result"
    }
   ],
   "execution_count": 177
  },
  {
   "metadata": {
    "ExecuteTime": {
     "end_time": "2025-01-30T19:15:06.473874Z",
     "start_time": "2025-01-30T19:15:06.472455Z"
    }
   },
   "cell_type": "code",
   "source": "",
   "id": "dacc59a0da9b3048",
   "outputs": [],
   "execution_count": null
  }
 ],
 "metadata": {
  "kernelspec": {
   "display_name": "Python 3",
   "language": "python",
   "name": "python3"
  },
  "language_info": {
   "codemirror_mode": {
    "name": "ipython",
    "version": 2
   },
   "file_extension": ".py",
   "mimetype": "text/x-python",
   "name": "python",
   "nbconvert_exporter": "python",
   "pygments_lexer": "ipython2",
   "version": "2.7.6"
  }
 },
 "nbformat": 4,
 "nbformat_minor": 5
}
