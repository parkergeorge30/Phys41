{
 "cells": [
  {
   "metadata": {},
   "cell_type": "markdown",
   "source": "# Only processes 16 digits after the decimal",
   "id": "a061e67222e04a73"
  },
  {
   "metadata": {},
   "cell_type": "markdown",
   "source": "",
   "id": "f5cf503e30831a62"
  }
 ],
 "metadata": {
  "kernelspec": {
   "display_name": "Python 3",
   "language": "python",
   "name": "python3"
  },
  "language_info": {
   "codemirror_mode": {
    "name": "ipython",
    "version": 2
   },
   "file_extension": ".py",
   "mimetype": "text/x-python",
   "name": "python",
   "nbconvert_exporter": "python",
   "pygments_lexer": "ipython2",
   "version": "2.7.6"
  }
 },
 "nbformat": 4,
 "nbformat_minor": 5
}
