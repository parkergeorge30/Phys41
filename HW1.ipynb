{
 "cells": [
  {
   "metadata": {},
   "cell_type": "markdown",
   "source": [
    "## Parker George\n",
    "### Jan 17, 2025\n"
   ],
   "id": "9baab6e2380a0d88"
  },
  {
   "metadata": {
    "ExecuteTime": {
     "end_time": "2025-01-14T01:53:58.246555Z",
     "start_time": "2025-01-14T01:53:58.244583Z"
    }
   },
   "cell_type": "code",
   "source": [
    "from idlelib.editor import keynames\n",
    "\n",
    "a = 5\n",
    "b = 7\n",
    "c = 3.14\n",
    "d = 99.2\n"
   ],
   "id": "be3349e1291ac066",
   "outputs": [],
   "execution_count": 1
  },
  {
   "metadata": {
    "ExecuteTime": {
     "end_time": "2025-01-14T02:13:21.732654Z",
     "start_time": "2025-01-14T02:13:21.722048Z"
    }
   },
   "cell_type": "code",
   "source": "a^c",
   "id": "63002cedb3e6f081",
   "outputs": [
    {
     "ename": "TypeError",
     "evalue": "unsupported operand type(s) for ^: 'int' and 'float'",
     "output_type": "error",
     "traceback": [
      "\u001B[0;31m---------------------------------------------------------------------------\u001B[0m",
      "\u001B[0;31mTypeError\u001B[0m                                 Traceback (most recent call last)",
      "Cell \u001B[0;32mIn[11], line 1\u001B[0m\n\u001B[0;32m----> 1\u001B[0m \u001B[43ma\u001B[49m\u001B[38;5;241;43m^\u001B[39;49m\u001B[43mc\u001B[49m\n",
      "\u001B[0;31mTypeError\u001B[0m: unsupported operand type(s) for ^: 'int' and 'float'"
     ]
    }
   ],
   "execution_count": 11
  },
  {
   "metadata": {
    "ExecuteTime": {
     "end_time": "2025-01-14T02:24:52.656364Z",
     "start_time": "2025-01-14T02:24:52.653194Z"
    }
   },
   "cell_type": "code",
   "source": "(a+b)*c+d",
   "id": "93b4e62675b5a283",
   "outputs": [
    {
     "data": {
      "text/plain": [
       "136.88"
      ]
     },
     "execution_count": 17,
     "metadata": {},
     "output_type": "execute_result"
    }
   ],
   "execution_count": 17
  },
  {
   "metadata": {
    "ExecuteTime": {
     "end_time": "2025-01-14T02:24:06.342386Z",
     "start_time": "2025-01-14T02:24:06.339593Z"
    }
   },
   "cell_type": "code",
   "source": "a/b+c/d",
   "id": "6f4c8671cebf19ab",
   "outputs": [
    {
     "data": {
      "text/plain": [
       "0.7459389400921659"
      ]
     },
     "execution_count": 14,
     "metadata": {},
     "output_type": "execute_result"
    }
   ],
   "execution_count": 14
  },
  {
   "metadata": {
    "ExecuteTime": {
     "end_time": "2025-01-14T02:25:18.980130Z",
     "start_time": "2025-01-14T02:25:18.977869Z"
    }
   },
   "cell_type": "code",
   "source": [
    "list1=[1,2,3]\n",
    "list2=[4,5,6]"
   ],
   "id": "3c83b48d76244149",
   "outputs": [],
   "execution_count": 18
  },
  {
   "metadata": {
    "ExecuteTime": {
     "end_time": "2025-01-14T02:25:27.321812Z",
     "start_time": "2025-01-14T02:25:27.318264Z"
    }
   },
   "cell_type": "code",
   "source": "list1+list2\n",
   "id": "2419397ffd40509",
   "outputs": [
    {
     "data": {
      "text/plain": [
       "[1, 2, 3, 4, 5, 6]"
      ]
     },
     "execution_count": 19,
     "metadata": {},
     "output_type": "execute_result"
    }
   ],
   "execution_count": 19
  },
  {
   "metadata": {
    "ExecuteTime": {
     "end_time": "2025-01-14T02:27:02.397657Z",
     "start_time": "2025-01-14T02:27:02.395507Z"
    }
   },
   "cell_type": "code",
   "source": "dict1={'a':5,'b':7,'c':3.14,'d':99.2}",
   "id": "a4deff5387b761be",
   "outputs": [],
   "execution_count": 21
  },
  {
   "metadata": {
    "ExecuteTime": {
     "end_time": "2025-01-14T02:35:56.579604Z",
     "start_time": "2025-01-14T02:35:56.577469Z"
    }
   },
   "cell_type": "code",
   "source": "print(dict1['c'])",
   "id": "6de0fff4b23e179",
   "outputs": [
    {
     "name": "stdout",
     "output_type": "stream",
     "text": [
      "3.14\n"
     ]
    }
   ],
   "execution_count": 26
  },
  {
   "metadata": {
    "ExecuteTime": {
     "end_time": "2025-01-14T02:47:35.701713Z",
     "start_time": "2025-01-14T02:47:35.697754Z"
    }
   },
   "cell_type": "code",
   "source": [
    "my_list=['cat','dog',1,2,'bear',2,4,1]\n",
    "\n",
    "def list_func(list, x):\n",
    "    total = 0\n",
    "    for i in range(len(list)):\n",
    "        if list[i] == x:\n",
    "            total += 1\n",
    "    return total\n",
    "\n",
    "\n",
    "print(list_func(my_list, 'cat'))\n",
    "print(list_func(my_list,2))\n",
    "print(list_func(my_list,3))\n"
   ],
   "id": "223fc5ebb017e91f",
   "outputs": [
    {
     "name": "stdout",
     "output_type": "stream",
     "text": [
      "1\n",
      "2\n",
      "0\n"
     ]
    }
   ],
   "execution_count": 37
  },
  {
   "metadata": {
    "ExecuteTime": {
     "end_time": "2025-01-14T04:15:52.813029Z",
     "start_time": "2025-01-14T04:15:52.809106Z"
    }
   },
   "cell_type": "code",
   "source": [
    "num_list=[1.1,2.1,3.1,4.4,1.4,1.9,100,12.]\n",
    "\n",
    "def sum_func(list):\n",
    "    total_sum = 0\n",
    "    total_pdt = 1\n",
    "    for i in range(len(list)):\n",
    "        total_sum += list[i]\n",
    "\n",
    "    for j in range(len(list)):\n",
    "        total_pdt = total_pdt * list[j]\n",
    "   #     return total_pdt\n",
    "    print(total_sum, total_pdt)\n",
    "\n",
    "\n",
    "sum_func(num_list)"
   ],
   "id": "20da9506bfa20ebc",
   "outputs": [
    {
     "name": "stdout",
     "output_type": "stream",
     "text": [
      "126.0 100574.81280000001\n"
     ]
    }
   ],
   "execution_count": 45
  },
  {
   "metadata": {
    "ExecuteTime": {
     "end_time": "2025-01-14T04:19:34.260703Z",
     "start_time": "2025-01-14T04:19:34.257444Z"
    }
   },
   "cell_type": "code",
   "source": [
    "num_list=[1.1,2.1,3.1,4.4,1.4,1.9,100,12.,'str',5,'str']\n",
    "\n",
    "def sum_func(list):\n",
    "    total_sum = 0\n",
    "    total_pdt = 1\n",
    "    for i in range(len(list)):\n",
    "        if type(list[i]) == str:\n",
    "            print(\"error log(%d): value is neither a float nor int\",)\n",
    "        else:\n",
    "            total_sum += list[i]\n",
    "\n",
    "    for j in range(len(list)):\n",
    "        if type(list[j]) == str:\n",
    "            print(\"error log(%d): value is neither a float nor int\")\n",
    "        else:\n",
    "            total_pdt = total_pdt * list[j]\n",
    "   #     return total_pdt\n",
    "    print(total_sum, total_pdt)\n",
    "\n",
    "\n",
    "sum_func(num_list)"
   ],
   "id": "9a6b5d74e7c111a4",
   "outputs": [
    {
     "name": "stdout",
     "output_type": "stream",
     "text": [
      "error: value is neither a float nor int\n",
      "error: value is neither a float nor int\n",
      "error: value is neither a float nor int\n",
      "error: value is neither a float nor int\n",
      "131.0 502874.0640000001\n"
     ]
    }
   ],
   "execution_count": 47
  },
  {
   "metadata": {
    "ExecuteTime": {
     "end_time": "2025-01-14T05:15:32.842898Z",
     "start_time": "2025-01-14T05:15:32.840160Z"
    }
   },
   "cell_type": "code",
   "source": [
    "dict_grd={'Montana':{'Physics':'A','Writing':'A','Theology':'A'},'Parker':{'Phys 161':'A', 'Phys 140A':'B-','Phys 130B':'A'},'Jim':{'Biology':'C+','Dancing':'A+','US History':'B-'}}\n",
    "\n",
    "def get_grd(dict,key):\n",
    "    grd = {}\n",
    "    for k,v in dict.items():\n",
    "        if k == key:\n",
    "            grd[k] = v\n",
    "            return v\n",
    "        #else:\n",
    "           # print('error: class not taken by student')\n",
    "\n",
    "\n",
    "\n",
    "\n",
    "get_grd(dict_grd['Parker'],'Phys 140A')"
   ],
   "id": "198602c3b1fdea69",
   "outputs": [
    {
     "data": {
      "text/plain": [
       "'B-'"
      ]
     },
     "execution_count": 85,
     "metadata": {},
     "output_type": "execute_result"
    }
   ],
   "execution_count": 85
  },
  {
   "metadata": {},
   "cell_type": "code",
   "outputs": [],
   "execution_count": null,
   "source": "",
   "id": "d1f51980cc5072ef"
  }
 ],
 "metadata": {
  "kernelspec": {
   "display_name": "Python 3",
   "language": "python",
   "name": "python3"
  },
  "language_info": {
   "codemirror_mode": {
    "name": "ipython",
    "version": 2
   },
   "file_extension": ".py",
   "mimetype": "text/x-python",
   "name": "python",
   "nbconvert_exporter": "python",
   "pygments_lexer": "ipython2",
   "version": "2.7.6"
  }
 },
 "nbformat": 4,
 "nbformat_minor": 5
}
