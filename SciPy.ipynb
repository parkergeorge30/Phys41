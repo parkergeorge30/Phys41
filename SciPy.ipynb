{
 "cells": [
  {
   "metadata": {},
   "cell_type": "markdown",
   "source": "# SciPy",
   "id": "e141cfc951a2729c"
  },
  {
   "metadata": {
    "ExecuteTime": {
     "end_time": "2025-02-06T19:55:03.681996Z",
     "start_time": "2025-02-06T19:54:57.467514Z"
    }
   },
   "cell_type": "code",
   "source": [
    "import numpy as np\n",
    "import matplotlib.pyplot as plt\n",
    "from scipy import optimize as op"
   ],
   "id": "c3ef961902587a99",
   "outputs": [],
   "execution_count": 15
  },
  {
   "metadata": {
    "ExecuteTime": {
     "end_time": "2025-02-06T19:49:55.365919Z",
     "start_time": "2025-02-06T19:49:55.363709Z"
    }
   },
   "cell_type": "code",
   "source": [
    "def fnc(x):\n",
    "    return x**2-2"
   ],
   "id": "3907a546d9389990",
   "outputs": [],
   "execution_count": 2
  },
  {
   "metadata": {
    "ExecuteTime": {
     "end_time": "2025-02-06T19:50:16.545597Z",
     "start_time": "2025-02-06T19:50:16.542459Z"
    }
   },
   "cell_type": "code",
   "source": "fnc(1)",
   "id": "58f038923ca3dcb3",
   "outputs": [
    {
     "data": {
      "text/plain": [
       "-1"
      ]
     },
     "execution_count": 6,
     "metadata": {},
     "output_type": "execute_result"
    }
   ],
   "execution_count": 6
  },
  {
   "metadata": {
    "ExecuteTime": {
     "end_time": "2025-02-06T19:51:48.521172Z",
     "start_time": "2025-02-06T19:51:48.518298Z"
    }
   },
   "cell_type": "code",
   "source": "(lambda x:x**2-2)(1)",
   "id": "561ceeff36121d8f",
   "outputs": [
    {
     "data": {
      "text/plain": [
       "-1"
      ]
     },
     "execution_count": 7,
     "metadata": {},
     "output_type": "execute_result"
    }
   ],
   "execution_count": 7
  },
  {
   "metadata": {
    "ExecuteTime": {
     "end_time": "2025-02-06T19:52:08.102658Z",
     "start_time": "2025-02-06T19:52:08.100198Z"
    }
   },
   "cell_type": "code",
   "source": [
    "def evalf(fname):\n",
    "    return fname(100)"
   ],
   "id": "a6ed9657b02c1595",
   "outputs": [],
   "execution_count": 8
  },
  {
   "metadata": {
    "ExecuteTime": {
     "end_time": "2025-02-06T19:52:17.117768Z",
     "start_time": "2025-02-06T19:52:17.115180Z"
    }
   },
   "cell_type": "code",
   "source": "evalf(fnc)",
   "id": "52859ef9e26ddb5b",
   "outputs": [
    {
     "data": {
      "text/plain": [
       "9998"
      ]
     },
     "execution_count": 9,
     "metadata": {},
     "output_type": "execute_result"
    }
   ],
   "execution_count": 9
  },
  {
   "metadata": {
    "ExecuteTime": {
     "end_time": "2025-02-06T19:52:50.098487Z",
     "start_time": "2025-02-06T19:52:50.095880Z"
    }
   },
   "cell_type": "code",
   "source": "evalf(lambda x:x**3-2)",
   "id": "bf6fb0457db49ad2",
   "outputs": [
    {
     "data": {
      "text/plain": [
       "999998"
      ]
     },
     "execution_count": 12,
     "metadata": {},
     "output_type": "execute_result"
    }
   ],
   "execution_count": 12
  },
  {
   "metadata": {
    "ExecuteTime": {
     "end_time": "2025-02-06T19:53:29.607947Z",
     "start_time": "2025-02-06T19:53:29.605986Z"
    }
   },
   "cell_type": "code",
   "source": "(lambda x,y:x**2+y**2)(2,2)",
   "id": "75f6701a6d2442d0",
   "outputs": [
    {
     "data": {
      "text/plain": [
       "8"
      ]
     },
     "execution_count": 14,
     "metadata": {},
     "output_type": "execute_result"
    }
   ],
   "execution_count": 14
  },
  {
   "metadata": {
    "ExecuteTime": {
     "end_time": "2025-02-06T19:56:00.370324Z",
     "start_time": "2025-02-06T19:56:00.368277Z"
    }
   },
   "cell_type": "code",
   "source": "op.newton(fnc,-0.1)",
   "id": "b6f7852d29dabc34",
   "outputs": [
    {
     "data": {
      "text/plain": [
       "np.float64(-1.4142135623730823)"
      ]
     },
     "execution_count": 17,
     "metadata": {},
     "output_type": "execute_result"
    }
   ],
   "execution_count": 17
  },
  {
   "metadata": {
    "ExecuteTime": {
     "end_time": "2025-02-06T20:10:41.104415Z",
     "start_time": "2025-02-06T20:10:41.102611Z"
    }
   },
   "cell_type": "code",
   "source": [
    "def myenwton(f,df,x0,err=1e-4,maxiter=100):\n",
    "    value = f(x0)\n",
    "    xG=x0\n",
    "    i=0\n",
    "    while value**2 > err and i < maxiter:\n",
    "        xG+=-f(xG)/df(xG)\n",
    "        value=f(xG)\n",
    "        i+=1\n",
    "        if i == maxiter:\n",
    "            print(xG)\n",
    "            raise Exception('Maximum number of iterations reached')\n",
    "    return xG"
   ],
   "id": "67279fa98c2b8585",
   "outputs": [],
   "execution_count": 25
  },
  {
   "metadata": {
    "ExecuteTime": {
     "end_time": "2025-02-06T20:12:05.896838Z",
     "start_time": "2025-02-06T20:12:05.894808Z"
    }
   },
   "cell_type": "code",
   "source": "myenwton(lambda x:x**2-2,lambda x:2*x,0.00000001)",
   "id": "3e70706b8e430e12",
   "outputs": [
    {
     "data": {
      "text/plain": [
       "1.4156404265389317"
      ]
     },
     "execution_count": 27,
     "metadata": {},
     "output_type": "execute_result"
    }
   ],
   "execution_count": 27
  },
  {
   "metadata": {
    "ExecuteTime": {
     "end_time": "2025-02-06T20:17:01.791957Z",
     "start_time": "2025-02-06T20:17:01.789326Z"
    }
   },
   "cell_type": "code",
   "source": [
    "def deriv(f,x,dx=0.01):\n",
    "    return (f(x+dx) - f(x-dx))/2*dx"
   ],
   "id": "35c931bf089a0b4",
   "outputs": [],
   "execution_count": 28
  },
  {
   "metadata": {},
   "cell_type": "code",
   "outputs": [],
   "execution_count": null,
   "source": "\n",
   "id": "6e5ba9a737cc8943"
  }
 ],
 "metadata": {
  "kernelspec": {
   "display_name": "Python 3",
   "language": "python",
   "name": "python3"
  },
  "language_info": {
   "codemirror_mode": {
    "name": "ipython",
    "version": 2
   },
   "file_extension": ".py",
   "mimetype": "text/x-python",
   "name": "python",
   "nbconvert_exporter": "python",
   "pygments_lexer": "ipython2",
   "version": "2.7.6"
  }
 },
 "nbformat": 4,
 "nbformat_minor": 5
}
