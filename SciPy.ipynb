{
 "cells": [
  {
   "metadata": {},
   "cell_type": "markdown",
   "source": "# SciPy",
   "id": "e141cfc951a2729c"
  },
  {
   "metadata": {
    "ExecuteTime": {
     "end_time": "2025-02-11T19:01:27.083410Z",
     "start_time": "2025-02-11T19:01:26.592226Z"
    }
   },
   "cell_type": "code",
   "source": [
    "import numpy as np\n",
    "import matplotlib.pyplot as plt\n",
    "from scipy import optimize as op"
   ],
   "id": "c3ef961902587a99",
   "outputs": [],
   "execution_count": 1
  },
  {
   "metadata": {
    "ExecuteTime": {
     "end_time": "2025-02-11T19:01:27.091004Z",
     "start_time": "2025-02-11T19:01:27.089546Z"
    }
   },
   "cell_type": "code",
   "source": [
    "def fnc(x):\n",
    "    return x**2-2"
   ],
   "id": "3907a546d9389990",
   "outputs": [],
   "execution_count": 2
  },
  {
   "metadata": {
    "ExecuteTime": {
     "end_time": "2025-02-11T19:01:27.098278Z",
     "start_time": "2025-02-11T19:01:27.095580Z"
    }
   },
   "cell_type": "code",
   "source": "fnc(1)",
   "id": "58f038923ca3dcb3",
   "outputs": [
    {
     "data": {
      "text/plain": [
       "-1"
      ]
     },
     "execution_count": 3,
     "metadata": {},
     "output_type": "execute_result"
    }
   ],
   "execution_count": 3
  },
  {
   "metadata": {
    "ExecuteTime": {
     "end_time": "2025-02-11T19:01:27.156754Z",
     "start_time": "2025-02-11T19:01:27.155091Z"
    }
   },
   "cell_type": "code",
   "source": "(lambda x:x**2-2)(1)",
   "id": "561ceeff36121d8f",
   "outputs": [
    {
     "data": {
      "text/plain": [
       "-1"
      ]
     },
     "execution_count": 4,
     "metadata": {},
     "output_type": "execute_result"
    }
   ],
   "execution_count": 4
  },
  {
   "metadata": {
    "ExecuteTime": {
     "end_time": "2025-02-11T19:01:27.161803Z",
     "start_time": "2025-02-11T19:01:27.160404Z"
    }
   },
   "cell_type": "code",
   "source": [
    "def evalf(fname):\n",
    "    return fname(100)"
   ],
   "id": "a6ed9657b02c1595",
   "outputs": [],
   "execution_count": 5
  },
  {
   "metadata": {
    "ExecuteTime": {
     "end_time": "2025-02-11T19:01:27.171358Z",
     "start_time": "2025-02-11T19:01:27.169722Z"
    }
   },
   "cell_type": "code",
   "source": "evalf(fnc)",
   "id": "52859ef9e26ddb5b",
   "outputs": [
    {
     "data": {
      "text/plain": [
       "9998"
      ]
     },
     "execution_count": 6,
     "metadata": {},
     "output_type": "execute_result"
    }
   ],
   "execution_count": 6
  },
  {
   "metadata": {
    "ExecuteTime": {
     "end_time": "2025-02-11T19:01:27.209216Z",
     "start_time": "2025-02-11T19:01:27.207263Z"
    }
   },
   "cell_type": "code",
   "source": "evalf(lambda x:x**3-2)",
   "id": "bf6fb0457db49ad2",
   "outputs": [
    {
     "data": {
      "text/plain": [
       "999998"
      ]
     },
     "execution_count": 7,
     "metadata": {},
     "output_type": "execute_result"
    }
   ],
   "execution_count": 7
  },
  {
   "metadata": {
    "ExecuteTime": {
     "end_time": "2025-02-11T19:01:27.223359Z",
     "start_time": "2025-02-11T19:01:27.221211Z"
    }
   },
   "cell_type": "code",
   "source": "(lambda x,y:x**2+y**2)(2,2)",
   "id": "75f6701a6d2442d0",
   "outputs": [
    {
     "data": {
      "text/plain": [
       "8"
      ]
     },
     "execution_count": 8,
     "metadata": {},
     "output_type": "execute_result"
    }
   ],
   "execution_count": 8
  },
  {
   "metadata": {
    "ExecuteTime": {
     "end_time": "2025-02-11T19:01:27.241193Z",
     "start_time": "2025-02-11T19:01:27.238698Z"
    }
   },
   "cell_type": "code",
   "source": "op.newton(fnc,-0.1)",
   "id": "b6f7852d29dabc34",
   "outputs": [
    {
     "data": {
      "text/plain": [
       "np.float64(-1.4142135623730823)"
      ]
     },
     "execution_count": 9,
     "metadata": {},
     "output_type": "execute_result"
    }
   ],
   "execution_count": 9
  },
  {
   "metadata": {
    "ExecuteTime": {
     "end_time": "2025-02-11T19:01:27.257320Z",
     "start_time": "2025-02-11T19:01:27.255437Z"
    }
   },
   "cell_type": "code",
   "source": [
    "def myenwton(f,df,x0,err=1e-4,maxiter=100):\n",
    "    value = f(x0)\n",
    "    xG=x0\n",
    "    i=0\n",
    "    while value**2 > err and i < maxiter:\n",
    "        xG+=-f(xG)/df(xG)\n",
    "        value=f(xG)\n",
    "        i+=1\n",
    "        if i == maxiter:\n",
    "            print(xG)\n",
    "            raise Exception('Maximum number of iterations reached')\n",
    "    return xG"
   ],
   "id": "67279fa98c2b8585",
   "outputs": [],
   "execution_count": 10
  },
  {
   "metadata": {
    "ExecuteTime": {
     "end_time": "2025-02-11T19:01:27.264780Z",
     "start_time": "2025-02-11T19:01:27.262752Z"
    }
   },
   "cell_type": "code",
   "source": "myenwton(lambda x:x**2-2,lambda x:2*x,0.00000001)",
   "id": "3e70706b8e430e12",
   "outputs": [
    {
     "data": {
      "text/plain": [
       "1.4156404265389317"
      ]
     },
     "execution_count": 11,
     "metadata": {},
     "output_type": "execute_result"
    }
   ],
   "execution_count": 11
  },
  {
   "metadata": {
    "ExecuteTime": {
     "end_time": "2025-02-11T19:01:27.336764Z",
     "start_time": "2025-02-11T19:01:27.335087Z"
    }
   },
   "cell_type": "code",
   "source": [
    "def deriv(f,x,dx=0.01):\n",
    "    return (f(x+dx) - f(x-dx))/2*dx"
   ],
   "id": "35c931bf089a0b4",
   "outputs": [],
   "execution_count": 12
  },
  {
   "metadata": {
    "ExecuteTime": {
     "end_time": "2025-02-11T19:02:32.731992Z",
     "start_time": "2025-02-11T19:02:32.728521Z"
    }
   },
   "cell_type": "code",
   "source": "op.newton(lambda x:x**2+2*x+1,2)\n",
   "id": "6e5ba9a737cc8943",
   "outputs": [
    {
     "data": {
      "text/plain": [
       "np.float64(-0.9999999821812959)"
      ]
     },
     "execution_count": 14,
     "metadata": {},
     "output_type": "execute_result"
    }
   ],
   "execution_count": 14
  },
  {
   "metadata": {},
   "cell_type": "code",
   "outputs": [],
   "execution_count": null,
   "source": "",
   "id": "a9225cbbd8da56a8"
  }
 ],
 "metadata": {
  "kernelspec": {
   "display_name": "Python 3",
   "language": "python",
   "name": "python3"
  },
  "language_info": {
   "codemirror_mode": {
    "name": "ipython",
    "version": 2
   },
   "file_extension": ".py",
   "mimetype": "text/x-python",
   "name": "python",
   "nbconvert_exporter": "python",
   "pygments_lexer": "ipython2",
   "version": "2.7.6"
  }
 },
 "nbformat": 4,
 "nbformat_minor": 5
}
