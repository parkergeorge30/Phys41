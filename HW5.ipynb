{
 "cells": [
  {
   "metadata": {},
   "cell_type": "markdown",
   "source": [
    "# Homework 5\n",
    "## Parker George\n",
    "### February 21, 2025"
   ],
   "id": "7e0b081ca9a005ca"
  },
  {
   "metadata": {},
   "cell_type": "markdown",
   "source": "# Problem 1",
   "id": "e81f5559a58538a3"
  },
  {
   "metadata": {
    "ExecuteTime": {
     "end_time": "2025-02-21T01:05:28.405099Z",
     "start_time": "2025-02-21T01:05:27.953287Z"
    }
   },
   "cell_type": "code",
   "source": [
    "import numpy as np\n",
    "import matplotlib.pyplot as plt\n",
    "from scipy.integrate import quad\n",
    "from scipy.optimize import minimize\n",
    "from scipy import stats"
   ],
   "id": "cd8bb5e4ead3f8e2",
   "outputs": [],
   "execution_count": 1
  },
  {
   "metadata": {
    "ExecuteTime": {
     "end_time": "2025-02-21T01:05:28.411198Z",
     "start_time": "2025-02-21T01:05:28.408536Z"
    }
   },
   "cell_type": "code",
   "source": [
    "# Problem 1(a)\n",
    "quad(lambda x: (1+x**2)/x, 1, 20)"
   ],
   "id": "9916a7991b0e0f74",
   "outputs": [
    {
     "data": {
      "text/plain": [
       "(202.495732273554, 1.3443696573563126e-08)"
      ]
     },
     "execution_count": 2,
     "metadata": {},
     "output_type": "execute_result"
    }
   ],
   "execution_count": 2
  },
  {
   "metadata": {
    "ExecuteTime": {
     "end_time": "2025-02-21T01:05:28.466976Z",
     "start_time": "2025-02-21T01:05:28.464791Z"
    }
   },
   "cell_type": "code",
   "source": [
    "# Problem 1(b)\n",
    "quad(lambda x: (np.sin(x)*np.exp(-x))/x, 1, np.inf)"
   ],
   "id": "8dfde6d91e8ad2fc",
   "outputs": [
    {
     "data": {
      "text/plain": [
       "(0.1793245350394128, 7.620675259521867e-09)"
      ]
     },
     "execution_count": 3,
     "metadata": {},
     "output_type": "execute_result"
    }
   ],
   "execution_count": 3
  },
  {
   "metadata": {
    "ExecuteTime": {
     "end_time": "2025-02-21T01:05:28.472379Z",
     "start_time": "2025-02-21T01:05:28.470180Z"
    }
   },
   "cell_type": "code",
   "source": [
    "# Problem 1(c)\n",
    "quad(lambda x: np.sin(x)/x, 0 , 1)"
   ],
   "id": "6082261276855baa",
   "outputs": [
    {
     "data": {
      "text/plain": [
       "(0.946083070367183, 1.0503632079297087e-14)"
      ]
     },
     "execution_count": 4,
     "metadata": {},
     "output_type": "execute_result"
    }
   ],
   "execution_count": 4
  },
  {
   "metadata": {
    "ExecuteTime": {
     "end_time": "2025-02-21T01:05:28.480821Z",
     "start_time": "2025-02-21T01:05:28.476127Z"
    }
   },
   "cell_type": "code",
   "source": [
    "# Problem 1(d)\n",
    "# Doesn't work great for the sin functions and the recursions exceed the maximum but for simple functions it works well.\n",
    "def riemann(f, a, b, tol=1e-6):\n",
    "\n",
    "    def integrate_recursive(a, b, tol):\n",
    "\n",
    "        mid = (a + b) / 2\n",
    "\n",
    "        # Midpoint rule\n",
    "        I_mid = (b - a) * f(mid)\n",
    "\n",
    "        # Trapezoidal rule\n",
    "        I_trap = (b - a) * (f(a) + f(b)) / 2\n",
    "\n",
    "        # Error estimation\n",
    "        error = abs(I_trap - I_mid)\n",
    "\n",
    "        if error < tol:\n",
    "            return I_mid  # Accept the midpoint approximation\n",
    "        else:\n",
    "            # Subdivide interval and integrate recursively\n",
    "            left = integrate_recursive(a, mid, tol / 2)\n",
    "            right = integrate_recursive(mid, b, tol / 2)\n",
    "            return left + right\n",
    "\n",
    "    return integrate_recursive(a, b, tol)\n",
    "\n",
    "print(riemann(lambda x: (1+x**2)/x, 1, 20, tol=1e-6))\n"
   ],
   "id": "6f5ce55b9eb6c212",
   "outputs": [
    {
     "name": "stdout",
     "output_type": "stream",
     "text": [
      "202.4957320940254\n"
     ]
    }
   ],
   "execution_count": 5
  },
  {
   "metadata": {},
   "cell_type": "markdown",
   "source": "# Problem 2",
   "id": "d780c4a78797bf1d"
  },
  {
   "metadata": {
    "ExecuteTime": {
     "end_time": "2025-02-21T01:05:28.485545Z",
     "start_time": "2025-02-21T01:05:28.483896Z"
    }
   },
   "cell_type": "code",
   "source": [
    "student_number=16132043  # your student number goes here\n",
    "np.random.seed(student_number)\n",
    "s=np.random.uniform(1,10)\n",
    "np.random.seed(student_number)\n",
    "a=np.random.randn()\n",
    "print(s,a) # these numbers will be different for each of you"
   ],
   "id": "daf5f71b28f11ab4",
   "outputs": [
    {
     "name": "stdout",
     "output_type": "stream",
     "text": [
      "6.153541811268258 0.5859045966451093\n"
     ]
    }
   ],
   "execution_count": 6
  },
  {
   "metadata": {
    "ExecuteTime": {
     "end_time": "2025-02-21T01:05:28.493246Z",
     "start_time": "2025-02-21T01:05:28.491880Z"
    }
   },
   "cell_type": "code",
   "source": "noise = np.random.randn()*s",
   "id": "daf400c7f91d848b",
   "outputs": [],
   "execution_count": 7
  },
  {
   "metadata": {
    "ExecuteTime": {
     "end_time": "2025-02-21T01:05:28.499996Z",
     "start_time": "2025-02-21T01:05:28.498664Z"
    }
   },
   "cell_type": "code",
   "source": [
    "N=100\n",
    "t=np.linspace(0,10,N)\n",
    "signal=a*t"
   ],
   "id": "dd0e8c564b1f4b7a",
   "outputs": [],
   "execution_count": 8
  },
  {
   "metadata": {
    "ExecuteTime": {
     "end_time": "2025-02-21T02:20:15.521647Z",
     "start_time": "2025-02-21T02:20:15.478694Z"
    }
   },
   "cell_type": "code",
   "source": [
    "def problem2a(n, signal, noise):\n",
    "    tot = np.zeros(n, dtype=float)\n",
    "    for i in range(n):\n",
    "        tot[i] = signal[i] + noise\n",
    "    return tot\n",
    "\n",
    "data = problem2a(N, np.random.randn()*t, np.random.randn()*s)\n",
    "print(np.shape(data))\n",
    "plt.scatter(t, data)\n",
    "plt.title(\"Problem 2a: Data vs. Time\")\n",
    "plt.xlabel(\"Time\")\n",
    "plt.ylabel(\"Data\")\n",
    "plt.grid()\n",
    "plt.show()"
   ],
   "id": "93389f1ae92d7b5e",
   "outputs": [
    {
     "name": "stdout",
     "output_type": "stream",
     "text": [
      "(100,)\n"
     ]
    },
    {
     "data": {
      "text/plain": [
       "<Figure size 640x480 with 1 Axes>"
      ],
      "image/png": "[encoded data removed]"
     },
     "metadata": {},
     "output_type": "display_data"
    }
   ],
   "execution_count": 47
  },
  {
   "metadata": {
    "ExecuteTime": {
     "end_time": "2025-02-21T02:20:18.380169Z",
     "start_time": "2025-02-21T02:20:18.327380Z"
    }
   },
   "cell_type": "code",
   "source": [
    "slope1, intercept, r_value, p_value, std_err = stats.linregress(t, data)\n",
    "print(slope1, intercept, r_value, p_value, std_err)\n",
    "\n",
    "slope = minimize(lambda x: np.sum((data - x*t)**2), 0.1,method=\"Nelder-mead\", tol=1e-6)['x']\n",
    "print(slope)\n",
    "\n",
    "def best_fit(t,data):\n",
    "    return np.sum(t*data)/np.sum(t**2)\n",
    "best_fit = best_fit(t,data)\n",
    "print(best_fit)\n",
    "\n",
    "plt.scatter(t, data, label=\"Data\")\n",
    "plt.plot(t, slope1*t+intercept, label=f\"Best Fit\", color=\"darkorange\", linewidth=2)\n",
    "plt.title(\"Problem 2a: Data vs. Time with best fit line\")\n",
    "plt.xlabel(\"Time\")\n",
    "plt.ylabel(\"Data\")\n",
    "plt.grid()\n",
    "plt.legend()\n",
    "plt.show()"
   ],
   "id": "13b12bdc987f5e83",
   "outputs": [
    {
     "name": "stdout",
     "output_type": "stream",
     "text": [
      "-0.18620581884666837 3.1401291217630156 -0.9999999999999999 0.0 2.8028530138491104e-10\n",
      "[0.2824469]\n",
      "0.28244661791896764\n"
     ]
    },
    {
     "data": {
      "text/plain": [
       "<Figure size 640x480 with 1 Axes>"
      ],
      "image/png": "[encoded data removed]"
     },
     "metadata": {},
     "output_type": "display_data"
    }
   ],
   "execution_count": 48
  },
  {
   "metadata": {
    "ExecuteTime": {
     "end_time": "2025-02-21T02:19:49.082020Z",
     "start_time": "2025-02-21T02:19:49.038417Z"
    }
   },
   "cell_type": "code",
   "source": [
    "n=1000\n",
    "tot_data = []\n",
    "\n",
    "for i in range(0, n):\n",
    "    tot_data.append(problem2a(N, np.random.randn()*t, np.random.randn()*s))\n",
    "\n",
    "print(np.shape(tot_data))\n",
    "slopes = np.zeros(len(tot_data), dtype=float)\n",
    "for i in range(len(tot_data)):\n",
    "    result = stats.linregress(t, tot_data[i])\n",
    "    slopes[i] = result.slope\n",
    "print(slopes)"
   ],
   "id": "f8f59a9f4a28f7f1",
   "outputs": [
    {
     "name": "stdout",
     "output_type": "stream",
     "text": [
      "(1000, 100)\n",
      "[ 1.26341035e+00  1.55918833e+00  3.88934393e-01 -7.42097264e-01\n",
      "  1.32991674e-01 -1.33375300e-02  3.42789898e-01  1.64450206e-01\n",
      "  7.26617971e-01  6.80330191e-02  2.00064107e+00 -1.15409263e+00\n",
      "  8.28637037e-01  3.78773066e-01 -4.38542827e-01 -2.03861591e+00\n",
      "  1.35702006e+00  9.53841133e-01  2.17883634e-01  1.01650024e+00\n",
      "  5.98877855e-01  1.64651636e-02 -8.37999793e-01  1.10159363e+00\n",
      "  1.13925637e+00 -6.36855055e-01  6.36133327e-01 -3.10215259e-01\n",
      " -2.80824847e+00  1.87668736e+00 -4.66075345e-01 -4.02799136e-01\n",
      " -1.58468383e-01 -1.20517566e+00  8.19669999e-02  1.33371891e+00\n",
      " -1.14930094e+00 -4.23842986e-01  8.63767594e-01  1.38029770e+00\n",
      "  2.17188014e-01 -1.49000007e+00 -1.51006061e+00 -1.69757121e+00\n",
      " -1.35315546e-01 -1.24858924e-01 -8.01206468e-01  9.87144060e-01\n",
      "  1.10566326e+00 -1.75949006e+00  8.54607018e-01  2.53670336e+00\n",
      " -1.19540862e-01  3.01150747e-01 -8.60443064e-01 -9.99808637e-01\n",
      "  8.91936703e-01 -7.97084846e-01 -3.26793264e-01 -3.44826938e-01\n",
      " -1.84728805e-01 -5.04572750e-01  1.65664359e+00  1.58430948e+00\n",
      " -3.27718190e-01 -1.47820045e+00  3.15791620e+00 -1.32035368e+00\n",
      " -3.85600548e-01 -1.14094931e+00  7.30228626e-01  8.51751601e-01\n",
      " -1.18088424e-01 -1.36010608e+00 -6.87996734e-01  1.05230492e+00\n",
      " -7.62995957e-01 -2.04195372e+00 -3.24067875e-01  1.01800211e+00\n",
      " -9.49292103e-01 -2.74102420e+00  6.35937308e-01  2.28330010e+00\n",
      "  1.53788245e+00 -1.03993560e+00  2.40292050e-01 -1.28103304e+00\n",
      " -8.60617043e-01 -3.53853509e-01 -1.69481820e-01 -1.23786178e+00\n",
      " -1.79868422e-02  5.84958229e-01 -5.50665124e-01  8.22583262e-01\n",
      " -3.63648283e-02  1.85193947e+00  2.19722343e+00  3.62538784e-02\n",
      " -6.49727701e-01 -1.16027125e+00 -5.58280293e-01 -7.36778181e-01\n",
      "  8.72652491e-01  3.06015312e-01  1.03543880e+00  1.79197333e-01\n",
      "  7.01854751e-01 -1.33637157e-01  6.47442603e-01  1.82163099e+00\n",
      " -1.36731417e-01  4.03991800e-01  9.20262290e-01 -1.78901155e+00\n",
      " -1.02829063e+00  9.79022144e-01 -1.27310911e-01  1.83830236e+00\n",
      " -1.45391698e+00 -4.97721197e-02 -3.75140453e-01  1.08192017e-01\n",
      " -1.47717439e+00 -1.01281446e+00 -8.20451560e-01  1.31528164e-01\n",
      " -8.35817725e-01 -7.05449921e-01 -5.66301180e-01 -1.22283826e+00\n",
      " -3.66997829e-01  6.57923477e-02 -1.42286972e-01  1.72993180e-01\n",
      "  1.58185186e+00 -8.06824353e-01 -2.61203009e-01  7.67299576e-01\n",
      "  9.26790774e-01 -6.65731566e-01 -1.57139480e-01 -4.95607633e-01\n",
      " -1.26527736e+00 -7.59344443e-01  1.18461674e+00  1.05552157e+00\n",
      " -2.53481611e-01  1.16653818e+00  2.45027799e-01 -6.37612957e-01\n",
      " -1.69664865e+00  8.15272273e-01  1.99638253e+00  5.77158898e-01\n",
      " -2.04081282e-01  7.73068700e-01 -5.29961562e-01 -1.64791140e-01\n",
      " -5.26570390e-01  7.82979693e-01  8.99308442e-02 -7.46377711e-01\n",
      "  2.38698876e-01 -2.71391923e-01  3.66280387e-01  1.29480329e-01\n",
      " -8.93803226e-01 -4.95734009e-01 -1.94591049e+00 -5.27016044e-01\n",
      "  2.58588697e-02  1.39457565e+00  1.04669513e+00  2.10006097e+00\n",
      "  3.46823007e-02 -9.69280142e-01 -2.53979544e-01 -5.91010536e-01\n",
      "  3.51906045e-02 -3.45883359e-01 -1.83309502e+00 -2.21700917e-03\n",
      "  1.26560405e-01 -1.96348415e+00  1.46156345e+00  3.07590527e-01\n",
      " -2.01918438e+00 -2.28072566e-01  2.87357483e-01  1.44000189e+00\n",
      " -9.53218444e-01 -2.79246358e-01 -1.32609362e+00  3.26261709e-03\n",
      " -2.82308277e+00  1.11111045e-01  3.63370149e-01  1.06264469e+00\n",
      " -6.13039704e-01 -5.56270310e-01 -1.47480316e+00 -2.61339027e-02\n",
      "  1.56332028e-01  3.19100815e-01 -1.03638105e+00 -1.86730287e-01\n",
      "  2.84065151e-02  1.16556424e+00 -1.61605199e+00 -1.95319208e+00\n",
      "  1.76554573e+00  1.00190298e+00  2.28761748e+00  2.07117385e-01\n",
      "  3.35162595e-01  8.51560218e-01  2.01351185e+00  2.52828985e-01\n",
      " -9.15757802e-01 -6.15882769e-01 -5.68427851e-01 -1.33813250e+00\n",
      "  3.44454328e-01  1.85493547e+00  9.23894063e-01 -7.07993606e-01\n",
      " -1.47686053e-01  7.95670965e-01 -1.18503123e+00  7.23967573e-01\n",
      " -7.27714972e-01  6.56416753e-01 -3.81881477e-01 -2.09231690e+00\n",
      " -5.13328594e-01 -1.27898999e+00 -3.16805385e-01  2.97766980e+00\n",
      " -9.42669663e-01 -1.35346060e+00 -2.29534477e-01  1.65662900e+00\n",
      " -6.16977081e-01 -6.65067893e-01 -4.72377285e-01 -7.62976049e-01\n",
      "  9.94909127e-01  7.28867471e-01 -6.50110460e-01 -1.84882224e-01\n",
      " -1.70960009e+00 -3.80701384e-02 -3.83383717e-01  4.87793964e-02\n",
      "  1.90632664e+00  3.87618352e-01  6.08085592e-01  1.39286528e+00\n",
      "  7.85848743e-01 -4.29600946e-01 -9.50909618e-01  4.55679749e-01\n",
      "  3.43634410e-01  9.31680641e-02 -4.66263887e-01 -1.16947106e+00\n",
      " -1.70854246e-01  1.37586532e+00  5.70173450e-01 -2.22799976e+00\n",
      "  6.34381592e-01 -5.21478496e-01  7.25003316e-01 -2.05518297e-01\n",
      "  6.42608225e-01 -8.18402175e-02  7.61166485e-01 -3.97769271e-01\n",
      "  6.94230596e-01 -6.56189908e-01 -1.11089344e-01 -1.37283603e+00\n",
      " -3.43925613e-02 -1.52767478e-01 -2.62461575e-01  9.30037812e-01\n",
      "  6.76588182e-01 -1.08950732e-01 -4.12148166e-02 -1.69677869e-01\n",
      "  7.99733523e-01 -2.28031552e+00 -8.66249969e-01 -9.12682451e-01\n",
      "  3.66770961e-01  9.05098096e-01 -8.14220823e-01 -8.07186446e-01\n",
      " -5.10226560e-01  1.25812736e+00 -1.61201755e+00  5.38881088e-03\n",
      " -1.12342964e+00  7.13414857e-01  1.08377646e+00  8.73152392e-03\n",
      "  1.15861799e+00  1.84257641e+00 -1.19864869e+00  4.16375827e-01\n",
      "  1.57801014e+00  3.91251660e-01 -1.13645077e+00  7.24020603e-01\n",
      " -1.06373368e-01  6.29151132e-01 -2.27560269e+00 -9.30317125e-01\n",
      "  1.50056329e+00  2.52035552e-01 -9.10065025e-01 -3.69065630e-03\n",
      " -5.16186927e-01 -8.51770254e-01  3.57837602e-01 -1.52863815e+00\n",
      "  6.20065398e-02 -1.37376984e-01  5.15549571e-01 -7.37673001e-01\n",
      "  5.61150464e-01  8.65549934e-01 -6.82944800e-01 -2.11012963e-01\n",
      "  9.96380535e-02 -2.17541423e-01 -1.20205947e+00 -1.63315844e-01\n",
      " -3.80125909e-01 -8.19896782e-01  1.12619329e+00 -7.72061833e-01\n",
      " -1.58026509e+00  2.77869360e-01 -1.62422335e+00  1.16669734e+00\n",
      " -1.82064778e+00  4.81829236e-01  3.71858123e-01  1.19509576e+00\n",
      "  7.76699353e-01  1.18700816e+00  3.64214097e-01  9.51277210e-01\n",
      " -2.18381179e+00  6.29384019e-01 -2.49548384e-01  5.98733229e-01\n",
      " -5.99730688e-01 -1.32096831e+00 -4.59658948e-01 -9.82955959e-01\n",
      "  6.40091101e-01 -5.70458725e-02 -8.21752827e-01  1.81365841e+00\n",
      "  2.33839202e-01  3.39426204e-01 -2.63884698e-01  1.42768548e-01\n",
      "  1.47850090e+00  1.48486987e+00  1.47836990e+00  2.88234081e-02\n",
      " -6.58547664e-02 -6.40732943e-01 -4.40618550e-01 -5.15537416e-01\n",
      " -5.01500742e-01 -1.25472953e+00  1.99371724e-01 -1.18858464e+00\n",
      " -1.26396569e+00 -8.95521899e-01 -6.46588275e-01 -2.09997135e+00\n",
      "  1.54968889e+00  3.63339626e-01  1.88095900e+00  9.60125298e-01\n",
      "  9.42933794e-01 -9.55191383e-01 -1.19535131e+00  4.64269443e-01\n",
      " -5.06131500e-02 -1.04458928e+00  1.08314286e+00 -7.25393528e-01\n",
      "  1.15204975e+00  1.60475258e-01 -5.29326310e-01 -2.46944767e+00\n",
      " -1.13982099e+00  5.56650468e-01  1.39659090e-01 -1.38226354e+00\n",
      " -1.12775337e+00  2.34029858e-01  1.73002367e+00  8.06445603e-02\n",
      "  7.44358150e-01 -5.48213896e-01 -1.10589332e+00 -4.10324025e-02\n",
      "  3.01847788e+00  9.49221343e-02  1.03380182e-01 -5.35081678e-01\n",
      "  1.56836568e+00  2.84084855e-01 -3.86550015e-03  2.19205356e-01\n",
      " -5.26078997e-01  1.70441054e+00  4.54369996e-01  1.28129686e+00\n",
      "  1.97065088e+00  5.82087167e-01  6.54310822e-01  1.74555715e+00\n",
      " -6.20929141e-01 -7.29353496e-01  1.20759102e+00 -5.47727005e-01\n",
      "  5.08335293e-01  1.27552921e+00  1.47311442e+00  5.94741429e-01\n",
      " -7.94662692e-01 -1.24946078e+00 -8.20806534e-01 -5.58402720e-01\n",
      " -1.58102960e+00 -1.82125438e+00  3.73202605e-01  5.33297022e-01\n",
      " -1.01588680e+00 -1.42439298e+00  4.12527245e-01  1.43341144e+00\n",
      " -6.07055298e-01  5.15895467e-01  7.43011564e-01  8.29803236e-01\n",
      " -5.87201600e-01  9.97730632e-01  3.37188097e-02  2.03470075e+00\n",
      "  9.55688953e-01  1.69181502e+00  1.58610127e+00  6.28198632e-01\n",
      "  9.84178050e-01 -5.69879945e-01 -1.74054620e-01  1.44635662e+00\n",
      "  1.72302657e-01  1.02514644e+00 -9.16128605e-01  6.04679885e-01\n",
      "  8.02567397e-01  1.10796977e+00 -2.06589176e+00 -1.70761675e+00\n",
      "  1.08451838e-01  3.84857457e-01 -1.28427314e+00  4.53273040e-01\n",
      "  7.77966803e-01  8.94623267e-02  1.00558931e+00  1.76638641e+00\n",
      "  3.33355673e-01  4.50930737e-01 -2.21303219e-01  2.04655871e+00\n",
      "  1.89624540e+00  4.31200959e-01  2.52279421e-01 -1.61416538e+00\n",
      " -2.91349124e-01  2.95638784e-01  1.90366125e-01 -1.05338738e+00\n",
      " -8.81856350e-01  3.42227116e-01 -1.00399858e-01 -3.70762363e-01\n",
      "  2.73006966e-01 -9.65712419e-01  9.73549984e-01 -4.44683232e-01\n",
      "  2.06400279e+00 -5.40781302e-01 -9.89584085e-01  8.49724711e-01\n",
      "  1.17385275e+00 -3.93104525e-01 -1.04752706e+00 -1.79044787e+00\n",
      " -3.43478467e-01  5.74267377e-01  2.65958416e-01  1.17175859e+00\n",
      " -1.79488701e+00  1.92737321e+00 -6.08377250e-01 -6.83404619e-01\n",
      "  1.18448077e-01 -2.63111258e-01 -7.50497645e-01 -2.90450409e-01\n",
      "  5.34269458e-01 -1.00319772e+00  8.71365194e-01  3.17918334e-01\n",
      " -7.35475088e-01  1.30909462e+00  3.86565444e-01 -5.02986156e-01\n",
      " -6.09642851e-03 -1.90836410e-01  1.72984221e+00  9.51461620e-02\n",
      "  6.64947069e-01 -7.19291563e-01 -6.78349268e-01 -2.01826227e-02\n",
      " -7.03648768e-02 -2.07525628e-01  4.25044985e-01 -7.91966175e-01\n",
      " -3.76414736e-02  4.60621969e-01  6.31341837e-01  1.24731261e+00\n",
      " -7.95504254e-01 -4.04072131e-01  5.70352123e-01  1.78330988e+00\n",
      "  1.00629866e+00  2.20899837e+00 -6.92657459e-02  4.66611904e-01\n",
      " -8.13067635e-02  1.52712025e+00 -5.64799497e-01 -1.42303052e-01\n",
      " -1.95937699e-01 -1.68920083e-01 -2.21561609e-01 -4.41906480e-01\n",
      "  8.43986683e-01  7.48690234e-02 -1.22365852e+00 -4.67863981e-01\n",
      "  1.55266095e+00  1.39176661e+00 -9.15559622e-01  4.04152515e-01\n",
      "  6.63512982e-01 -3.99388960e-01 -9.32416931e-01  2.26553209e-01\n",
      " -7.43683396e-01 -4.41876786e-01  4.03567453e-01 -7.61925523e-02\n",
      " -2.34184492e-01 -6.80070541e-01 -4.75240516e-01 -1.12294129e+00\n",
      "  6.81421486e-01 -3.82640114e-01 -1.28248856e+00  5.63274148e-01\n",
      " -2.17598918e+00 -1.53743995e-01 -7.08547765e-01 -2.23197309e-01\n",
      "  6.51212853e-02 -3.46222162e-01 -1.21057452e+00  1.46555222e+00\n",
      "  9.30421843e-01 -4.43082233e-01 -4.52562928e-02 -1.01299209e+00\n",
      " -8.81237378e-01 -6.73792703e-01 -1.55031937e+00 -1.78329936e+00\n",
      " -4.48692250e-01  2.04163131e+00  7.16492965e-01 -7.08658820e-02\n",
      "  7.18605469e-01  2.25925313e-03  9.35462622e-01  5.70579996e-01\n",
      " -4.49655985e-01 -1.35386818e-01  7.51191520e-01 -1.46504813e+00\n",
      "  4.61033464e-01 -1.12695559e+00 -3.36536730e-02  8.29505129e-01\n",
      "  1.77091835e-01 -1.19592622e-02 -1.46441544e+00  4.17501174e-01\n",
      "  2.25413004e-01  6.63210553e-01 -1.37236805e+00 -1.44846544e-01\n",
      " -1.50422842e+00  3.95927337e-01  7.03435255e-01  9.54300599e-03\n",
      " -2.18923374e+00  1.45401121e+00  1.00935378e+00  1.53848596e+00\n",
      "  6.07531509e-01  1.08217181e+00  1.35651720e+00  2.75805646e-01\n",
      "  1.67821983e+00  1.77362408e+00  3.87448531e-01  4.19687133e-01\n",
      " -9.59364535e-02 -3.93544956e-01  9.42114831e-01  4.07553950e-01\n",
      " -1.12306826e+00  6.94637878e-02 -1.70084148e-01 -3.25681341e-02\n",
      "  8.88317757e-01  1.52292574e+00  1.26316093e+00 -1.10659742e-01\n",
      "  5.22201000e-01  8.27955370e-01 -6.51614072e-01 -1.27178082e+00\n",
      " -1.44449047e+00  1.37078385e+00 -5.31907981e-01 -2.43019696e-02\n",
      " -1.10475033e-01 -3.23430084e-01  8.02242862e-01 -2.49241951e+00\n",
      " -8.88870895e-01 -1.09900665e+00  7.90767156e-01 -1.10486652e-01\n",
      " -6.25547422e-01 -1.05710171e+00  3.99353198e-01 -8.69282197e-02\n",
      " -1.37340318e+00  8.91748424e-01 -3.57437063e-01  1.59514835e-01\n",
      "  5.74363334e-01 -5.27517476e-01  1.44335908e+00  1.60958813e-01\n",
      " -7.51655417e-01  3.03830697e-01  4.39111362e-01  1.62357375e-01\n",
      "  1.99671771e-01 -8.14215726e-01  6.67958647e-01 -6.24316978e-01\n",
      "  6.25599953e-01  1.03847749e-01 -7.78446804e-01  4.30061914e-01\n",
      " -1.61987570e-01 -1.40469988e-02  2.31630992e-01 -6.25791952e-01\n",
      " -9.94550682e-02  3.59280453e-01  5.62732091e-01  2.01308952e+00\n",
      "  4.50053072e-01 -2.19554952e-01 -6.55810002e-01  1.56195390e+00\n",
      "  7.73032884e-02 -5.13608628e-01 -3.83240089e-01 -6.16573772e-01\n",
      " -3.97291828e-01  5.31867755e-01  1.84077990e+00  9.65013214e-01\n",
      "  4.90077298e-01  1.65114425e-02  1.68044399e+00 -1.91303962e+00\n",
      " -1.38086660e+00  1.57587567e+00  4.78170091e-01 -1.18246856e+00\n",
      "  1.42262461e+00  6.93915050e-02  1.11753247e+00  8.16086638e-01\n",
      "  6.42906744e-01 -7.17615117e-02  1.21958306e+00 -9.91682599e-02\n",
      "  3.27181235e-01 -3.14099754e-01  1.19045443e+00 -4.14669045e-01\n",
      " -8.74390830e-01 -1.73561538e-01  1.48114176e+00  1.93020336e+00\n",
      "  4.25131453e-01 -5.88081985e-01 -1.69559649e+00  1.24185987e+00\n",
      " -1.65980540e-01 -3.87029984e-01  1.31253676e-01 -6.57761793e-01\n",
      " -6.07863411e-01  3.27851303e-01  8.38707087e-01  9.10046500e-01\n",
      " -1.83965011e+00  1.70071691e+00  2.23940250e+00  7.59805955e-02\n",
      "  1.26092795e+00 -1.17453770e+00 -1.55276675e+00  1.23549822e+00\n",
      "  3.14424556e-01  6.89783653e-01 -6.77484001e-01 -2.20053622e-01\n",
      "  6.43624479e-01  3.97286500e-01 -1.39470949e+00 -1.03887306e+00\n",
      "  4.79159224e-01  8.76584191e-01  9.49533943e-01 -4.34054511e-01\n",
      " -1.46603147e+00 -1.47861488e+00 -4.46291876e-02 -2.00761760e-01\n",
      " -1.07857308e+00 -1.20849769e+00  1.28914124e+00  9.87988113e-01\n",
      "  5.12507428e-01  1.45277267e+00 -9.77070886e-01  1.88605744e-01\n",
      " -1.36563169e-01  1.44625847e+00 -9.70351847e-01 -6.19043606e-01\n",
      "  7.20317411e-01 -8.11676078e-01 -1.41138368e+00 -3.47282239e-01\n",
      "  1.17539501e-01  1.18769427e+00 -9.49035125e-01  3.13030803e-01\n",
      "  6.90815378e-01  5.51151217e-01 -5.26590175e-02 -1.66765360e+00\n",
      " -2.48934883e-01  1.56823938e-01  1.69223346e-02  1.76662620e+00\n",
      " -3.99908544e-02  3.19997706e-02 -3.85158106e-01 -1.07328779e+00\n",
      " -5.10173524e-01  4.77663084e-01  9.02373113e-01 -3.16432753e-01\n",
      " -4.65427975e-01 -2.30860385e-01 -2.24788439e+00  3.94067692e-01\n",
      " -9.89880855e-01 -1.92338381e+00 -1.35738717e+00  2.14493131e-02\n",
      " -6.06504364e-01 -2.12734661e+00 -1.44979870e+00  1.77808466e+00\n",
      " -3.30305501e-01 -1.05668277e+00  8.04459462e-01 -1.01201783e+00\n",
      "  1.16149733e+00  1.73306871e+00  1.52331362e+00  1.18882580e-01\n",
      "  2.42342833e+00 -1.28585569e+00 -1.04620959e+00 -5.71012345e-02\n",
      " -3.62867017e-01  5.75294995e-01 -4.33189325e-01  1.27317924e-01\n",
      " -1.34433626e+00 -6.29065886e-02  9.41010730e-01 -2.52061490e-01\n",
      "  1.16727492e+00  3.54021734e-01 -5.30479560e-04  1.37531865e+00\n",
      "  1.06765631e+00 -5.06283119e-01 -4.05685860e-01  6.88080863e-01\n",
      "  4.45166087e-01  9.64402610e-01 -6.55865328e-01  2.02742240e+00\n",
      "  9.94384373e-01 -1.68193995e+00  7.24561665e-01 -1.17269356e+00\n",
      "  1.12318582e+00 -1.55383620e-01  2.28733453e+00 -1.38035586e+00\n",
      "  3.27536944e-01  4.36486407e-01  1.24501294e+00 -9.84683875e-01\n",
      " -1.89131434e+00  3.35041290e-01 -7.79518830e-01  5.57923704e-01\n",
      "  3.38474748e-01 -1.22018991e-01 -4.05186830e-01  7.26003101e-01\n",
      "  8.75064110e-01  1.42063308e+00  1.14687905e-01  1.01815750e+00\n",
      " -8.60107314e-01  8.88231671e-01 -5.17183447e-01  4.66900342e-01\n",
      "  7.11688943e-01 -2.62173878e+00  6.13601844e-01 -3.47955000e-01\n",
      "  4.75873256e-01  1.09936545e+00 -5.17564879e-01  9.54686067e-01\n",
      " -1.40451839e+00 -7.13025685e-01 -1.52007519e-01 -2.07764525e-01\n",
      "  1.34230729e+00 -8.71505271e-01 -2.36825335e+00 -1.80803998e+00\n",
      " -5.70874176e-01  1.39822745e+00 -1.18837033e-01 -4.13911763e-02\n",
      "  1.31626989e+00  5.88939239e-01  9.75825023e-02  1.86866263e+00\n",
      "  7.93575487e-01  2.27738137e-01 -2.91788153e-01 -5.32447296e-01\n",
      " -5.42486728e-01  1.11179647e+00  1.50138289e+00 -1.81982051e+00\n",
      " -6.43420549e-01 -1.94931138e+00  1.06662692e+00  1.37277483e+00\n",
      " -1.24237191e-01  1.81472636e+00  9.01463076e-01  1.01417164e+00\n",
      "  6.35908079e-01  2.10142634e-01 -1.26417487e+00 -1.31864284e+00\n",
      " -1.17709648e+00 -7.54284549e-01  2.03819643e-01  5.10296259e-01\n",
      " -3.41196670e-01 -3.71430378e-01  4.45964708e-01  7.06324009e-01\n",
      " -1.69344616e+00  1.54016960e+00 -5.02792482e-01 -8.00268241e-01\n",
      " -1.46654951e+00  3.18363869e-01 -3.21503058e-01 -1.46755629e+00\n",
      "  5.40959406e-01 -1.42774617e+00 -2.06584909e-01  1.06927433e+00\n",
      "  2.03334071e-01  1.12603330e-01  8.57323206e-01 -2.89009505e+00\n",
      " -8.19534886e-01  1.01163678e+00 -7.04656844e-01 -2.83348303e-01\n",
      "  6.71160327e-02 -1.21553607e+00  2.12597878e-01 -8.03193396e-01\n",
      "  9.51771122e-02 -8.13044705e-01  5.05848677e-01 -2.73772535e-01\n",
      " -2.08717397e-01  3.23458595e+00  2.09091429e-02 -9.89913018e-01\n",
      "  9.95447912e-01  1.60577217e+00 -6.78599598e-01 -1.38772806e+00\n",
      "  7.22042388e-01  9.21131572e-01  8.15385362e-01  2.67399952e-01\n",
      " -9.42644841e-01 -9.81257714e-01  1.65023894e-01  1.35567972e-01\n",
      " -7.60881694e-01  2.48494094e-02  1.64384737e+00  3.09269773e-01\n",
      " -1.06571072e+00  1.43772370e+00  8.89982056e-02  1.59228729e+00\n",
      " -2.32684965e-01  1.03549024e+00  7.24299478e-01  3.21006442e-01\n",
      " -6.07504662e-01 -6.04722743e-01  3.18505601e-01 -2.52770592e+00\n",
      " -1.80158472e-01 -3.71451697e-01 -1.56125780e+00 -7.48565912e-01]\n"
     ]
    }
   ],
   "execution_count": 41
  },
  {
   "metadata": {
    "ExecuteTime": {
     "end_time": "2025-02-21T02:19:50.555221Z",
     "start_time": "2025-02-21T02:19:50.518473Z"
    }
   },
   "cell_type": "code",
   "source": [
    "plt.hist(slopes)\n",
    "plt.show()"
   ],
   "id": "5d823379eeaf15b8",
   "outputs": [
    {
     "data": {
      "text/plain": [
       "<Figure size 640x480 with 1 Axes>"
      ],
      "image/png": "[encoded data removed]"
     },
     "metadata": {},
     "output_type": "display_data"
    }
   ],
   "execution_count": 42
  },
  {
   "metadata": {},
   "cell_type": "code",
   "outputs": [],
   "execution_count": null,
   "source": "",
   "id": "108c7855886bc3e6"
  }
 ],
 "metadata": {
  "kernelspec": {
   "display_name": "Python 3",
   "language": "python",
   "name": "python3"
  },
  "language_info": {
   "codemirror_mode": {
    "name": "ipython",
    "version": 2
   },
   "file_extension": ".py",
   "mimetype": "text/x-python",
   "name": "python",
   "nbconvert_exporter": "python",
   "pygments_lexer": "ipython2",
   "version": "2.7.6"
  }
 },
 "nbformat": 4,
 "nbformat_minor": 5
}
