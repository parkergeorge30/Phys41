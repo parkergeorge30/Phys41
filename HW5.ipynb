{
 "cells": [
  {
   "metadata": {},
   "cell_type": "markdown",
   "source": [
    "# Homework 5\n",
    "## Parker George\n",
    "### February 21, 2025"
   ],
   "id": "7e0b081ca9a005ca"
  },
  {
   "metadata": {},
   "cell_type": "markdown",
   "source": "# Problem 1",
   "id": "e81f5559a58538a3"
  },
  {
   "metadata": {
    "ExecuteTime": {
     "end_time": "2025-02-21T20:48:10.086856Z",
     "start_time": "2025-02-21T20:48:09.526804Z"
    }
   },
   "cell_type": "code",
   "source": [
    "import numpy as np\n",
    "import matplotlib.pyplot as plt\n",
    "from scipy.integrate import quad\n",
    "from scipy.optimize import minimize\n",
    "from scipy import stats"
   ],
   "id": "cd8bb5e4ead3f8e2",
   "outputs": [],
   "execution_count": 2
  },
  {
   "metadata": {
    "ExecuteTime": {
     "end_time": "2025-02-21T20:48:10.095347Z",
     "start_time": "2025-02-21T20:48:10.091844Z"
    }
   },
   "cell_type": "code",
   "source": [
    "# Problem 1(a)\n",
    "quad(lambda x: (1+x**2)/x, 1, 20)"
   ],
   "id": "9916a7991b0e0f74",
   "outputs": [
    {
     "data": {
      "text/plain": [
       "(202.495732273554, 1.3443696573563126e-08)"
      ]
     },
     "execution_count": 3,
     "metadata": {},
     "output_type": "execute_result"
    }
   ],
   "execution_count": 3
  },
  {
   "metadata": {
    "ExecuteTime": {
     "end_time": "2025-02-21T20:48:10.108617Z",
     "start_time": "2025-02-21T20:48:10.106656Z"
    }
   },
   "cell_type": "code",
   "source": [
    "# Problem 1(b)\n",
    "quad(lambda x: (np.sin(x)*np.exp(-x))/x, 1, np.inf)"
   ],
   "id": "8dfde6d91e8ad2fc",
   "outputs": [
    {
     "data": {
      "text/plain": [
       "(0.1793245350394128, 7.620675259521867e-09)"
      ]
     },
     "execution_count": 4,
     "metadata": {},
     "output_type": "execute_result"
    }
   ],
   "execution_count": 4
  },
  {
   "metadata": {
    "ExecuteTime": {
     "end_time": "2025-02-21T20:48:10.118912Z",
     "start_time": "2025-02-21T20:48:10.116831Z"
    }
   },
   "cell_type": "code",
   "source": [
    "# Problem 1(c)\n",
    "quad(lambda x: np.sin(x)/x, 0 , 1)"
   ],
   "id": "6082261276855baa",
   "outputs": [
    {
     "data": {
      "text/plain": [
       "(0.946083070367183, 1.0503632079297087e-14)"
      ]
     },
     "execution_count": 5,
     "metadata": {},
     "output_type": "execute_result"
    }
   ],
   "execution_count": 5
  },
  {
   "metadata": {
    "ExecuteTime": {
     "end_time": "2025-02-21T20:48:10.134477Z",
     "start_time": "2025-02-21T20:48:10.129099Z"
    }
   },
   "cell_type": "code",
   "source": [
    "# Problem 1(d)\n",
    "# Doesn't work great for the sin functions and the recursions exceed the maximum but for simple functions it works well.\n",
    "def riemann(f, a, b, tol=1e-6):\n",
    "\n",
    "    def integrate_recursive(a, b, tol):\n",
    "\n",
    "        mid = (a + b) / 2\n",
    "\n",
    "        # Midpoint rule\n",
    "        I_mid = (b - a) * f(mid)\n",
    "\n",
    "        # Trapezoidal rule\n",
    "        I_trap = (b - a) * (f(a) + f(b)) / 2\n",
    "\n",
    "        # Error estimation\n",
    "        error = abs(I_trap - I_mid)\n",
    "\n",
    "        if error < tol:\n",
    "            return I_mid  # Accept the midpoint approximation\n",
    "        else:\n",
    "            # Subdivide interval and integrate recursively\n",
    "            left = integrate_recursive(a, mid, tol / 2)\n",
    "            right = integrate_recursive(mid, b, tol / 2)\n",
    "            return left + right\n",
    "\n",
    "    return integrate_recursive(a, b, tol)\n",
    "\n",
    "print(riemann(lambda x: (1+x**2)/x, 1, 20, tol=1e-6))\n"
   ],
   "id": "6f5ce55b9eb6c212",
   "outputs": [
    {
     "name": "stdout",
     "output_type": "stream",
     "text": [
      "202.4957320940254\n"
     ]
    }
   ],
   "execution_count": 6
  },
  {
   "metadata": {},
   "cell_type": "markdown",
   "source": "# Problem 2",
   "id": "d780c4a78797bf1d"
  },
  {
   "metadata": {
    "ExecuteTime": {
     "end_time": "2025-02-21T20:48:10.147941Z",
     "start_time": "2025-02-21T20:48:10.145620Z"
    }
   },
   "cell_type": "code",
   "source": [
    "student_number=16132043  # your student number goes here\n",
    "np.random.seed(student_number)\n",
    "s=np.random.uniform(1,10)\n",
    "np.random.seed(student_number)\n",
    "a=np.random.randn()\n",
    "print(s,a) # these numbers will be different for each of you"
   ],
   "id": "daf5f71b28f11ab4",
   "outputs": [
    {
     "name": "stdout",
     "output_type": "stream",
     "text": [
      "6.153541811268258 0.5859045966451093\n"
     ]
    }
   ],
   "execution_count": 7
  },
  {
   "metadata": {
    "ExecuteTime": {
     "end_time": "2025-02-21T20:48:10.160179Z",
     "start_time": "2025-02-21T20:48:10.158717Z"
    }
   },
   "cell_type": "code",
   "source": "noise = np.random.randn()*s",
   "id": "daf400c7f91d848b",
   "outputs": [],
   "execution_count": 8
  },
  {
   "metadata": {
    "ExecuteTime": {
     "end_time": "2025-02-21T20:48:10.167678Z",
     "start_time": "2025-02-21T20:48:10.166424Z"
    }
   },
   "cell_type": "code",
   "source": [
    "N=100\n",
    "t=np.linspace(0,10,N)\n",
    "signal=a*t"
   ],
   "id": "dd0e8c564b1f4b7a",
   "outputs": [],
   "execution_count": 9
  },
  {
   "metadata": {
    "ExecuteTime": {
     "end_time": "2025-02-21T20:48:10.213019Z",
     "start_time": "2025-02-21T20:48:10.171183Z"
    }
   },
   "cell_type": "code",
   "source": [
    "def problem2a(n, signal, noise):\n",
    "    tot = np.zeros(n, dtype=float)\n",
    "    for i in range(n):\n",
    "        tot[i] = signal[i] + noise\n",
    "    return tot\n",
    "\n",
    "data = problem2a(N, np.random.randn()*t, np.random.randn()*s)\n",
    "print(np.shape(data))\n",
    "plt.scatter(t, data)\n",
    "plt.title(\"Problem 2a: Data vs. Time\")\n",
    "plt.xlabel(\"Time\")\n",
    "plt.ylabel(\"Data\")\n",
    "plt.grid()\n",
    "plt.show()"
   ],
   "id": "93389f1ae92d7b5e",
   "outputs": [
    {
     "name": "stdout",
     "output_type": "stream",
     "text": [
      "(100,)\n"
     ]
    },
    {
     "data": {
      "text/plain": [
       "<Figure size 640x480 with 1 Axes>"
      ],
      "image/png": "[encoded data removed]"
     },
     "metadata": {},
     "output_type": "display_data"
    }
   ],
   "execution_count": 10
  },
  {
   "metadata": {},
   "cell_type": "markdown",
   "source": "Trying to write my own slope function I kept getting different results than linregress, so I know I'm doing something wrong, but I don't know exactly what that is. So I just used the slopes of linregress for the last part of the problem as well.",
   "id": "9ebb27e8579c52d8"
  },
  {
   "metadata": {
    "ExecuteTime": {
     "end_time": "2025-02-21T20:48:10.256840Z",
     "start_time": "2025-02-21T20:48:10.217210Z"
    }
   },
   "cell_type": "code",
   "source": [
    "slope1, intercept, r_value, p_value, std_err = stats.linregress(t, data)\n",
    "print(slope1, intercept, r_value, p_value, std_err)\n",
    "\n",
    "slope = minimize(lambda x: np.sum((data - x*t)**2), 0.1,method=\"Nelder-mead\", tol=1e-6)['x']\n",
    "print(slope)\n",
    "\n",
    "def best_fit(t,data):\n",
    "    return np.sum(t*data)/np.sum(t**2)\n",
    "best_fit = best_fit(t,data)\n",
    "print(best_fit)\n",
    "\n",
    "plt.scatter(t, data, label=\"Data\")\n",
    "plt.plot(t, slope1*t+intercept, label=f\"Best Fit\", color=\"darkorange\", linewidth=2)\n",
    "plt.title(\"Problem 2a: Data vs. Time with best fit line\")\n",
    "plt.xlabel(\"Time\")\n",
    "plt.ylabel(\"Data\")\n",
    "plt.grid()\n",
    "plt.legend()\n",
    "plt.show()"
   ],
   "id": "13b12bdc987f5e83",
   "outputs": [
    {
     "name": "stdout",
     "output_type": "stream",
     "text": [
      "0.24615975944228563 4.723071763032724 1.0 0.0 0.0\n",
      "[0.95106018]\n",
      "0.9510604195532\n"
     ]
    },
    {
     "data": {
      "text/plain": [
       "<Figure size 640x480 with 1 Axes>"
      ],
      "image/png": "[encoded data removed]"
     },
     "metadata": {},
     "output_type": "display_data"
    }
   ],
   "execution_count": 11
  },
  {
   "metadata": {
    "ExecuteTime": {
     "end_time": "2025-02-21T20:48:10.295677Z",
     "start_time": "2025-02-21T20:48:10.260860Z"
    }
   },
   "cell_type": "code",
   "source": [
    "n=1000\n",
    "tot_data = []\n",
    "\n",
    "for i in range(0, n):\n",
    "    tot_data.append(problem2a(N, np.random.randn()*t, np.random.randn()*s))\n",
    "\n",
    "print(np.shape(tot_data))\n",
    "slopes = np.zeros(len(tot_data), dtype=float)\n",
    "for i in range(len(tot_data)):\n",
    "    result = stats.linregress(t, tot_data[i])\n",
    "    slopes[i] = result.slope\n",
    "print(slopes)"
   ],
   "id": "f8f59a9f4a28f7f1",
   "outputs": [
    {
     "name": "stdout",
     "output_type": "stream",
     "text": [
      "(1000, 100)\n",
      "[ 7.66462045e-01 -4.92038988e-01  6.25328895e-01  8.88204693e-01\n",
      "  3.35965676e-01 -1.32679775e+00 -1.43562100e+00 -1.92417556e+00\n",
      " -8.18356082e-01 -8.69226434e-01 -1.64270298e+00  3.39437400e-01\n",
      " -9.11854520e-02  4.98170336e-01 -2.66107130e-01  1.96559460e-01\n",
      "  6.24586079e-01 -7.84076591e-01  3.93322136e-01 -3.03952930e-01\n",
      " -1.00801396e-01 -1.01572241e+00 -2.38842088e+00  1.51652968e+00\n",
      " -1.52629937e+00  1.85519479e-01 -1.80706838e+00  1.22876341e+00\n",
      "  1.27981704e+00 -2.39630285e-01 -2.65794076e-01 -1.68511490e+00\n",
      "  2.07044097e-01 -2.33643654e+00  1.28923284e+00 -4.84703422e-01\n",
      " -1.05589482e+00  2.46309649e-01  1.70470948e-01  2.67559655e-01\n",
      " -1.13594700e+00  8.32803799e-02 -3.30288087e-01 -8.74866155e-01\n",
      "  1.56916154e-01 -1.66000826e+00 -2.72649252e+00 -1.02621268e+00\n",
      "  1.31230450e+00 -3.51035731e-01  1.05147630e+00 -2.85056815e+00\n",
      " -8.52724280e-01 -7.02435774e-01 -1.46996484e+00  2.04877187e+00\n",
      " -6.45493839e-01  5.52638305e-01 -1.78238686e+00  6.76572333e-02\n",
      " -1.50821789e+00  5.29688335e-01 -9.08564052e-02  2.46503354e-01\n",
      "  1.76296373e+00  1.43112953e+00  1.44701549e-01 -9.75615872e-01\n",
      " -1.56457207e-02  1.74485315e-01  1.38446718e+00 -1.59572882e+00\n",
      " -4.71081849e-01 -4.73991179e-01  3.66554591e-01 -3.04382042e-01\n",
      "  4.62673953e-01 -6.91050215e-01 -4.25974279e-02 -5.93003452e-01\n",
      "  7.95043706e-01  1.29248233e+00 -5.40493265e-01  1.16221952e+00\n",
      "  1.63768060e+00  3.97654641e-01 -3.06932803e-01  8.81252863e-01\n",
      "  7.71254034e-03  1.75598319e+00  4.83996082e-01 -5.30251417e-02\n",
      " -1.53789073e+00  7.26234829e-01 -3.39123437e-01  6.14673012e-01\n",
      "  3.84291793e-01 -6.77980983e-01  5.26155088e-01  6.41506138e-01\n",
      " -1.08187128e-01  1.54810365e+00  9.54201562e-01  1.16746500e-01\n",
      " -1.59543087e-01 -1.53105773e+00 -3.07100892e-01 -2.99344310e-01\n",
      "  7.85872767e-01  1.26138560e-01  8.57118346e-01 -1.24578581e+00\n",
      "  5.84067102e-01  1.67781227e+00 -4.53950336e-01 -5.56155190e-01\n",
      " -6.79592841e-01  3.58033753e-01  7.41574543e-02  8.73263457e-01\n",
      "  9.65797497e-02 -6.24745886e-01  1.22290375e+00  1.82990963e-01\n",
      " -2.78569181e-01  1.65177998e+00 -4.77349142e-01 -2.18787840e-03\n",
      " -3.90587843e-01  3.42489570e-01 -9.60917041e-01 -1.24433387e-01\n",
      " -6.71021839e-01 -1.15863459e-01 -8.49508398e-01 -1.90735798e-01\n",
      " -5.45133517e-02 -3.41612184e+00 -7.10901690e-01  3.80783460e-01\n",
      " -3.52788275e-01  8.21517973e-01  3.58631656e-01 -1.29237806e+00\n",
      "  1.03827108e-01  2.25009711e-01  1.26236784e+00 -1.98436484e+00\n",
      "  6.80615515e-01 -3.34592762e-01 -1.55507095e+00  5.70347019e-01\n",
      "  5.88919147e-01 -2.33205588e-01  2.71794198e-01  6.29792027e-01\n",
      " -4.91810773e-01  9.81667871e-01  1.23944361e+00  4.18537840e-01\n",
      " -1.18264447e+00 -2.75820195e-01  6.38317816e-01  4.81206031e-03\n",
      "  5.85781377e-01  5.20131894e-01  1.42220944e-01 -4.36805791e-01\n",
      " -6.17805539e-01  2.00480750e+00 -8.62981877e-01  1.10661118e+00\n",
      " -4.91337394e-01 -4.87336133e-01  6.42341909e-01 -1.63325581e+00\n",
      "  3.06424179e+00 -5.62160724e-02 -3.28928223e-01 -6.75184347e-01\n",
      "  8.01997991e-01 -6.20738890e-01  1.15901469e+00  7.87184003e-01\n",
      "  2.04298788e+00  4.62523336e-01  6.50480411e-01 -1.42699046e-01\n",
      " -4.55651564e-01  6.32105500e-01 -1.16991253e+00  1.89143694e+00\n",
      " -1.52815311e+00  3.57261812e-01  3.79662820e-01 -6.92721128e-01\n",
      " -1.96374429e-01 -8.66220453e-01 -1.19050875e+00 -1.60846907e-01\n",
      " -6.69830849e-01  3.37406768e-01  1.83890718e+00  1.14598767e+00\n",
      "  8.30992075e-01 -1.36086806e+00  8.75136765e-01 -6.18780293e-01\n",
      " -5.62147694e-01  2.19616545e+00  6.23477267e-01  2.28663209e-02\n",
      " -7.43885401e-01  7.76007992e-01  3.13428088e-01 -1.84483081e-01\n",
      "  8.40750604e-01 -6.37665281e-01  2.98702841e-02 -1.44684504e+00\n",
      "  1.92531023e+00 -4.99897736e-01  5.16663831e-01 -5.04792834e-02\n",
      "  1.98784251e+00  1.13901581e-01 -3.42735812e-02 -7.48389642e-01\n",
      "  3.30308211e-01  1.70133310e-01  8.06534085e-01  1.40097259e+00\n",
      "  1.85514946e-01 -3.08285490e-01  1.14123089e+00  1.09211354e-01\n",
      " -6.29227098e-01  1.56183482e-03 -1.24108383e+00 -1.30115459e+00\n",
      "  4.87867074e-02 -1.39019926e+00  1.34736994e+00  5.50220224e-01\n",
      " -2.04177727e+00 -2.36604639e+00  7.31847089e-01  3.42748734e-01\n",
      " -2.55163952e-01  2.26703297e+00 -3.84683478e-01 -1.23213540e+00\n",
      "  3.11926837e+00 -2.49649523e-01 -9.65588203e-01  4.92646462e-01\n",
      "  1.37019820e-01 -3.71753760e-01 -7.04537498e-01 -1.08424378e+00\n",
      "  9.78176467e-01 -1.22984730e+00  8.10154515e-01 -5.83629570e-01\n",
      " -5.34642161e-01  1.47807658e+00  3.82566895e-01 -5.09615930e-01\n",
      "  5.01778190e-01  8.67034867e-01 -1.35502314e+00 -9.42566644e-01\n",
      " -6.18810550e-01  4.75263093e-01 -1.37307911e+00 -1.64014743e+00\n",
      "  9.74215669e-01  9.68152509e-01  9.51265023e-01  1.05955440e+00\n",
      " -2.34842523e-01  5.51772128e-01  1.17160421e+00 -3.83706754e-01\n",
      "  9.98532243e-02 -1.20494395e+00 -7.36263637e-01 -1.00996425e+00\n",
      "  8.41407801e-03  8.76284392e-01  1.57283275e-01  1.46815387e+00\n",
      " -5.23931846e-01  5.27967542e-01  1.16804602e-01  2.00598908e-01\n",
      " -8.10741500e-01 -2.78815948e-01  1.89666711e-01  7.77595196e-02\n",
      "  4.87728286e-01  3.87806285e-01  5.35173630e-01 -6.94178659e-01\n",
      "  1.80514876e+00 -6.84684242e-01 -1.37262748e+00  8.20133671e-01\n",
      " -3.67908502e-01  7.05663150e-01  3.65388071e-01  8.45657474e-01\n",
      "  1.72962387e+00 -8.22768507e-01  3.21891971e-01  2.75062531e-01\n",
      "  6.07231352e-01  1.29980990e+00 -6.28043909e-02 -3.99465213e-01\n",
      "  9.59159844e-01 -6.48617082e-01  6.41579169e-01 -1.26801860e+00\n",
      " -1.13486845e+00 -5.56425585e-01  1.11843574e+00 -1.94231004e-01\n",
      " -1.50145338e+00 -7.61132643e-01  2.00498992e+00  7.46900989e-01\n",
      "  9.55737700e-01 -2.81065856e-01 -8.00084938e-01 -2.91470337e-02\n",
      " -4.50090865e-01 -1.04026699e+00 -7.09566380e-01  4.18771068e-01\n",
      "  7.24168375e-01 -1.21156129e+00  8.30454598e-01 -1.73579841e-01\n",
      "  5.39741349e-01 -1.82783937e+00  8.37699389e-01  4.40776726e-02\n",
      "  4.74188440e-01 -8.50801092e-02  5.53817129e-01 -1.08832628e+00\n",
      " -5.33154165e-01 -4.64555396e-01  2.26359330e+00  1.22851910e+00\n",
      "  4.34149452e-01 -1.31112930e-01 -1.76819402e+00  4.96895051e-01\n",
      " -5.51336359e-01 -1.58249411e+00 -7.49684312e-01  1.06613541e+00\n",
      " -1.31114283e+00  2.52264725e-01  1.75827812e-01 -1.52615408e-01\n",
      " -1.48014763e+00 -5.25878213e-01  9.71648457e-01  4.63101141e-01\n",
      "  2.73025863e+00  1.05260437e+00 -5.88417950e-01 -8.23108744e-02\n",
      "  1.26017652e+00 -2.52939046e-01 -1.61732830e+00  6.55802921e-02\n",
      " -6.92861406e-01  8.74955052e-01  9.79805394e-01  3.52626822e-01\n",
      "  1.12749401e+00  1.06419683e-01 -1.04677666e+00  5.23577372e-01\n",
      "  4.94476642e-01  1.03156799e+00 -7.49042734e-01 -3.34595069e-01\n",
      "  2.11521098e+00  1.02663907e-01 -4.94696921e-01 -1.42711861e-02\n",
      "  1.61665249e-01  8.45419149e-01 -2.93217806e+00 -5.82081178e-01\n",
      "  3.07859959e-01 -9.98200178e-02  7.13095957e-01 -7.77163502e-01\n",
      " -1.06719465e+00  4.81074424e-01  2.99358994e-02  2.45699562e-01\n",
      " -6.42356660e-01  3.10932895e-01 -1.19074272e+00  5.13056565e-01\n",
      " -7.95376772e-01  5.99458870e-01  1.93003630e-01  1.28249774e+00\n",
      " -9.47635071e-01  1.24211082e-01  6.02880971e-01 -1.98111201e+00\n",
      " -5.97419021e-01  1.26383002e+00  3.23362766e-01  9.28742403e-02\n",
      " -1.25631665e+00 -2.40303283e-02  1.08126905e+00 -1.15903009e+00\n",
      "  1.69493096e+00  7.48741691e-01  6.73563455e-01  1.52699423e+00\n",
      " -7.07917693e-01 -7.58302424e-01 -7.24675147e-01  1.08045279e+00\n",
      "  9.32744481e-01  3.64309390e-01  8.50200691e-01 -2.92136316e-01\n",
      "  6.98069819e-01  9.72610218e-02  1.12009072e+00  8.49846419e-02\n",
      " -2.95278524e-01  6.38026499e-01 -4.38521903e-01  1.06082730e+00\n",
      "  1.29431934e-01  1.48594431e+00 -2.10757856e-01 -5.33035816e-01\n",
      "  9.63874698e-01  4.43555191e-01  3.13698424e-01  1.43608343e-01\n",
      "  1.32367636e-01 -8.15373038e-02 -6.12539386e-01 -1.09125957e+00\n",
      "  1.43151079e+00 -1.19667244e-01  1.35573773e+00 -7.29796800e-01\n",
      "  1.46829634e+00 -4.20693263e-01 -5.21625001e-01 -4.02395569e-01\n",
      "  1.80322910e-01 -9.38467698e-01 -7.24888768e-01 -7.79459187e-01\n",
      "  3.96626408e-01 -6.91762334e-01  2.38408322e-01  3.95957108e-01\n",
      " -5.36555020e-01 -1.93819550e-02 -1.46823793e+00  1.86197178e+00\n",
      " -4.51648696e-01 -2.74342307e-01 -1.14127466e+00  2.72157694e+00\n",
      "  1.02485554e-01  1.28559457e+00  4.52662740e-01  1.36032014e+00\n",
      " -8.74710724e-01  1.30505298e-01  2.32482000e+00  1.15744652e-01\n",
      " -1.41173660e-03  1.58092583e+00 -8.12683326e-01 -1.12298851e+00\n",
      "  7.65100512e-01  5.98230643e-01  1.12292823e+00  4.65342892e-01\n",
      " -5.69859993e-01  4.98668641e-01  9.74558493e-01  1.30544554e+00\n",
      " -3.22503279e-01  1.05348744e+00  9.08485945e-01  7.82900277e-01\n",
      " -2.75559630e-01  1.98834697e-01 -9.38959591e-01 -2.62362339e+00\n",
      "  4.18557177e-01  8.69404405e-01 -1.06862398e+00  4.21928559e-01\n",
      " -1.42889404e+00 -9.54136678e-02 -8.67106857e-02 -3.68843395e-01\n",
      " -1.32664445e+00  2.49482763e-01  1.11455612e-01 -6.68050942e-01\n",
      " -3.92316118e-01 -3.59551526e-01 -3.81707317e-01 -1.88524955e+00\n",
      "  6.32216623e-01 -6.47931927e-01  1.58422587e-01 -2.61929344e-01\n",
      " -7.05082642e-01 -1.23317285e+00  1.13341070e+00  1.49784462e+00\n",
      " -5.02480812e-01  1.30140270e+00  6.86537623e-01 -3.48433537e+00\n",
      "  9.78709655e-01 -2.27536731e-01  2.45776913e-01  1.79903420e+00\n",
      "  6.99613817e-01 -1.18711058e+00 -9.19820361e-01  1.19970140e+00\n",
      " -6.76070170e-01  4.54946099e-02  6.22824416e-01  1.41995823e+00\n",
      " -8.48810433e-01  2.39354868e+00 -5.95446347e-01 -3.11448540e-02\n",
      " -5.54107900e-02  1.10650088e+00 -5.25091155e-01 -2.07129587e-01\n",
      " -1.02983294e+00  1.68804691e+00  1.58271865e+00  2.94700310e-01\n",
      "  1.46593207e-01 -4.56129211e-01 -3.00458663e-02  4.90428860e-01\n",
      " -7.33967822e-01  8.08547817e-01  8.60557679e-03  1.09122683e+00\n",
      " -3.19541500e-02  7.20116770e-01  7.95385616e-01 -6.01430273e-01\n",
      "  9.91072447e-01  1.13897929e+00 -1.26600661e+00  1.28128325e+00\n",
      " -2.13176209e+00 -2.91531194e-01 -1.49997830e+00  8.15023611e-01\n",
      " -9.64584723e-01  1.97673128e-01 -7.41811970e-02  2.67079644e+00\n",
      " -5.57339869e-01 -3.16790446e-01  6.50948069e-01  9.13365407e-01\n",
      " -1.70534618e-01  3.09681936e-02  1.93222935e-01 -1.69313948e+00\n",
      "  4.46779996e-01  1.28669414e+00  1.00042913e+00  9.86566546e-02\n",
      "  1.59147211e-01  2.99878366e-01 -1.00867381e+00 -1.19948578e-01\n",
      " -5.21689873e-01 -6.39934295e-01  3.42060142e-01  3.20014512e+00\n",
      "  2.27018596e-02  5.17034114e-01 -2.39201940e-01  3.96272473e-01\n",
      "  9.09418576e-01  1.48312262e+00 -4.82038883e-01  6.12992267e-01\n",
      " -1.00560838e+00  3.54549119e-02  7.94216103e-01 -7.56223384e-02\n",
      " -1.20843619e+00  1.64731153e+00  1.83492984e-01 -5.58333447e-01\n",
      " -2.09481361e+00 -6.76183321e-01 -1.23409349e+00  2.67064026e-01\n",
      " -1.16081073e+00 -1.29572801e+00 -1.69294676e+00  8.34003210e-01\n",
      "  1.67354294e+00  5.20085460e-01  6.34259533e-02 -8.19297998e-01\n",
      " -1.55297327e+00 -1.49362511e+00  7.46691856e-01  6.32653751e-01\n",
      "  1.27445264e+00 -6.34558080e-01 -2.97832662e-01  1.80838852e+00\n",
      " -6.88671220e-01 -7.14459334e-01  8.10085017e-01  1.17832119e+00\n",
      " -3.56670134e-01  2.43609039e-01 -1.02275679e+00 -7.26728956e-01\n",
      "  2.49310231e+00  1.04206348e-01 -5.48613473e-01 -1.16170669e+00\n",
      " -8.94938104e-01  8.07547340e-01  6.54046065e-01 -4.58099652e-01\n",
      "  1.51740978e-01 -1.38691013e-01  5.62877010e-01 -5.50431356e-02\n",
      " -7.83789245e-01 -2.25959470e-01  8.12682615e-01  7.03374730e-01\n",
      " -6.87201604e-01 -3.27511338e-02  2.18181660e-02 -1.19556772e-01\n",
      " -1.07584069e+00  4.81658407e-02 -1.16320674e+00 -7.33908281e-01\n",
      "  2.29971940e+00  4.59456261e-01  2.25661510e-01  2.21379345e+00\n",
      " -1.87009498e+00  1.43671556e+00 -1.75538104e+00  3.08693481e+00\n",
      "  4.41390698e-01 -1.69206044e+00 -9.99434268e-01 -4.96479596e-01\n",
      "  1.15259366e+00  2.69284006e-01  1.32575278e+00  1.16100159e+00\n",
      "  1.90391773e-01 -8.12932390e-02  6.36557035e-01  3.79165918e-01\n",
      "  1.69521846e+00 -4.73199080e-01 -1.81695273e+00  1.32439890e+00\n",
      "  5.95273190e-02  9.31175619e-01 -8.73916396e-01 -5.73951719e-01\n",
      "  2.39338051e-01  8.55196794e-01  8.66305614e-01 -7.85609951e-01\n",
      " -8.62271053e-02  1.24863869e-01 -2.26415052e-01  1.62916524e+00\n",
      "  6.61156301e-01  6.42085904e-02  2.59871221e-01 -8.49361210e-01\n",
      "  4.97553015e-01 -2.12900193e+00 -1.74062579e+00  6.13534103e-01\n",
      "  1.53176949e+00 -1.34836756e+00  1.77233503e-01 -1.10533612e+00\n",
      "  9.03668940e-01 -3.75416063e-01  1.34685167e+00  1.47997741e+00\n",
      " -1.70380793e-01  1.03494749e+00  7.50011596e-01 -3.88407531e-01\n",
      "  1.28608959e+00  4.62036462e-01  2.28248127e+00 -2.48366575e+00\n",
      " -5.59538609e-01  6.88673266e-01 -1.44182002e-01  5.86277525e-01\n",
      " -3.22726600e-01  3.11993745e-01  1.10231494e+00 -1.47527223e+00\n",
      "  3.49374012e-01 -1.13231249e+00  3.81144563e-01 -5.07608048e-01\n",
      " -1.77878512e-01 -1.31388128e+00 -5.57578981e-01  5.89493331e-01\n",
      "  8.69424198e-01  5.03497281e-02 -1.40791362e+00 -7.44653797e-03\n",
      "  6.53134673e-01  1.12385675e+00 -2.71882440e-02 -7.00297492e-01\n",
      "  3.24950171e-01 -2.16817931e+00  1.05646195e+00  3.53938969e-01\n",
      "  5.51296793e-01 -2.53292446e+00 -9.75742810e-02  1.24355705e+00\n",
      "  1.45365464e+00 -1.29707688e+00  2.81681348e-01 -1.68545554e+00\n",
      " -6.63164528e-01 -8.66491308e-01 -1.37486762e-01  7.66311448e-01\n",
      " -1.24521885e+00  6.64189064e-01 -4.61655787e-01  7.88708666e-01\n",
      "  2.66105746e-01 -3.68349234e-01  1.04682347e+00 -1.81293162e-01\n",
      " -8.63649292e-01 -9.52304231e-01  1.69534611e+00  5.47733164e-01\n",
      "  2.75525030e-01  3.04401059e-01  1.13282159e+00 -1.75979017e+00\n",
      " -1.35155142e-01  9.41106589e-02  8.77188321e-01  1.60657248e-01\n",
      "  1.27080696e+00  6.93108953e-01  6.60490504e-01  6.32063719e-01\n",
      " -2.39880331e-01 -4.20368695e-01  1.37453097e-01 -5.77802552e-01\n",
      "  1.57272092e+00  4.39699294e-02  7.98010994e-01 -1.48234143e-01\n",
      "  1.03370042e+00 -6.75612238e-01 -4.27336579e-01  2.40416814e-01\n",
      " -7.24299136e-01 -1.28115072e+00  7.29875670e-01  1.73259040e+00\n",
      " -1.95270338e+00  2.25267574e-01 -1.05158519e+00 -1.87655420e-01\n",
      " -2.16935347e-01 -3.15927901e-01  8.57272359e-01 -2.31490789e-02\n",
      " -4.29710534e-01  7.85721643e-01  5.24632354e-01 -8.11862247e-01\n",
      "  1.08198651e+00 -5.83859545e-01  6.18369117e-01  1.04056451e+00\n",
      "  4.14896453e-01  7.46810739e-02  1.97251584e+00 -2.41236235e+00\n",
      " -7.64031163e-02  9.00503512e-02  1.35885240e+00  2.87369461e-01\n",
      "  4.44382308e-01 -8.91136684e-01  6.76479779e-01  1.10867311e+00\n",
      " -6.64944397e-01  2.24693684e+00  8.37634296e-01 -7.43190889e-03\n",
      "  7.45897543e-01  1.95961507e-01 -6.51920393e-02 -7.51050917e-01\n",
      "  3.30418531e-01 -1.99754327e+00 -2.35756706e+00 -1.54214848e+00\n",
      " -4.17269354e-01  2.04276711e+00 -5.42265492e-01  9.68983996e-01\n",
      "  3.08922368e-02  3.49573451e-02 -3.40204233e-01  1.15491643e+00\n",
      " -8.07382855e-01  8.52484454e-01 -4.15998836e-01 -1.66578974e+00\n",
      "  2.56755706e-01 -1.36388903e+00  1.13018751e+00 -1.86572054e+00\n",
      " -1.90469219e+00  5.42291388e-01 -1.09912309e+00 -4.33320819e-01\n",
      " -1.78615401e+00 -1.14901379e+00  5.35695772e-01  1.54828331e+00\n",
      " -4.76553499e-01  2.12302122e+00  5.45131605e-01  1.12034332e+00\n",
      " -2.43349115e+00  9.91737652e-01 -1.33286087e+00  1.01079038e+00\n",
      " -4.02855733e-01 -5.16609228e-01 -4.95087617e-01  7.02874662e-01\n",
      " -1.58319875e-01  1.35235548e+00 -1.12047801e+00 -1.09598109e+00\n",
      "  1.77516595e+00 -3.77144913e-02 -6.43712315e-01 -2.29632017e-01\n",
      "  1.08452933e-01  3.01091204e-01  5.96372654e-01  1.60213834e+00\n",
      " -1.78963953e-01 -4.18526104e-01 -1.86689573e-01  3.53641059e-01\n",
      "  3.00639539e-01  1.25903032e-01  7.59344269e-02  1.06881632e-01\n",
      " -4.62932305e-01  3.45987500e-02 -1.62121617e+00  6.90381766e-01\n",
      " -8.13448053e-01  1.60929088e+00 -1.64570693e+00  2.08005550e+00\n",
      " -1.13959601e+00 -4.36401862e-01  2.37133421e+00 -1.01492186e+00\n",
      "  1.07253661e+00 -3.68531123e-01 -1.00905677e+00 -1.95902269e+00\n",
      " -2.65343621e-01  2.38447397e-01  8.22794949e-01 -5.50605099e-01\n",
      "  4.57785762e-01  5.38149652e-01 -6.43579903e-01 -2.68788977e+00\n",
      "  7.25057113e-01 -6.65396546e-01  5.90800869e-01  3.82100837e-01\n",
      "  7.30399397e-01 -5.04186102e-01 -1.34734438e+00 -8.65017656e-01\n",
      " -1.03245186e+00 -1.96621209e-02  1.72522535e+00 -9.43216514e-02\n",
      "  3.56159971e-01  1.07692588e+00 -2.11630790e-01 -8.06872984e-01\n",
      " -9.19824957e-01  1.64877532e+00 -5.96072038e-01 -1.18053473e-01\n",
      " -1.80120795e-01  5.70224322e-01 -1.28305894e+00 -1.17982843e-01\n",
      "  5.21641717e-01 -2.54657015e-01 -6.74773842e-01 -7.19154663e-01\n",
      " -6.89056766e-01 -1.95087899e+00  9.85673942e-01 -1.06002073e+00\n",
      "  1.12160968e+00 -1.57991079e+00 -1.40708994e+00  1.54767938e+00\n",
      " -9.45569572e-01 -1.06357427e+00 -9.72552403e-01 -2.46519968e-01\n",
      " -7.08643479e-01 -4.59931908e-01 -8.88685083e-01 -1.57491850e+00\n",
      "  1.21486495e+00 -8.52655048e-01  1.10414679e+00 -4.34659957e-01\n",
      " -6.75205594e-01 -3.65701835e-01 -8.23932593e-01 -1.18843766e-01\n",
      " -3.25727208e-02 -8.90485301e-02 -7.72042730e-01  1.23450053e+00\n",
      " -3.56539392e-01  1.55439923e+00 -3.71709806e-01 -4.44989336e-01\n",
      " -9.14086575e-01  1.82708731e-01 -1.16116468e+00  1.00466618e-01]\n"
     ]
    }
   ],
   "execution_count": 12
  },
  {
   "metadata": {
    "ExecuteTime": {
     "end_time": "2025-02-21T20:48:10.335977Z",
     "start_time": "2025-02-21T20:48:10.311747Z"
    }
   },
   "cell_type": "code",
   "source": [
    "plt.hist(slopes)\n",
    "plt.show()"
   ],
   "id": "5d823379eeaf15b8",
   "outputs": [
    {
     "data": {
      "text/plain": [
       "<Figure size 640x480 with 1 Axes>"
      ],
      "image/png": "[encoded data removed]"
     },
     "metadata": {},
     "output_type": "display_data"
    }
   ],
   "execution_count": 13
  },
  {
   "metadata": {
    "ExecuteTime": {
     "end_time": "2025-02-21T20:48:10.342754Z",
     "start_time": "2025-02-21T20:48:10.341513Z"
    }
   },
   "cell_type": "code",
   "source": "",
   "id": "108c7855886bc3e6",
   "outputs": [],
   "execution_count": null
  }
 ],
 "metadata": {
  "kernelspec": {
   "display_name": "Python 3",
   "language": "python",
   "name": "python3"
  },
  "language_info": {
   "codemirror_mode": {
    "name": "ipython",
    "version": 2
   },
   "file_extension": ".py",
   "mimetype": "text/x-python",
   "name": "python",
   "nbconvert_exporter": "python",
   "pygments_lexer": "ipython2",
   "version": "2.7.6"
  }
 },
 "nbformat": 4,
 "nbformat_minor": 9
}
