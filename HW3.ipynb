{
 "cells": [
  {
   "metadata": {},
   "cell_type": "markdown",
   "source": [
    "# Homework 3\n",
    "## Parker George\n",
    "### Jan 31, 2025"
   ],
   "id": "650624521ed3aacc"
  },
  {
   "metadata": {},
   "cell_type": "markdown",
   "source": "# Problem 1",
   "id": "62b7cb3da0a0feb1"
  },
  {
   "metadata": {
    "ExecuteTime": {
     "end_time": "2025-01-28T19:05:59.062994Z",
     "start_time": "2025-01-28T19:05:58.889738Z"
    }
   },
   "cell_type": "code",
   "source": [
    "import numpy as np\n",
    "import matplotlib.pyplot as plt"
   ],
   "id": "403a1f8d0af496fd",
   "outputs": [],
   "execution_count": 3
  },
  {
   "metadata": {
    "ExecuteTime": {
     "end_time": "2025-01-27T03:43:32.740727Z",
     "start_time": "2025-01-26T22:56:32.542054Z"
    }
   },
   "cell_type": "code",
   "source": [
    "def func1(x):\n",
    "    if np.iterable(x): # checks wether or not the input is an array or a single number\n",
    "        for i in range(0,len(x)):\n",
    "            return np.max(x**2) # returns the max number in the array squared\n",
    "    else:\n",
    "        return x**2 # returns the number squared"
   ],
   "id": "2ef7380b4f467461",
   "outputs": [],
   "execution_count": 5
  },
  {
   "metadata": {
    "ExecuteTime": {
     "end_time": "2025-01-27T03:43:32.740845Z",
     "start_time": "2025-01-26T22:59:14.505395Z"
    }
   },
   "cell_type": "code",
   "source": [
    "x = np.array([13,1,2,3,4,5,15,6,7,8,9,12])\n",
    "print(func1(x))\n",
    "print(func1(10))"
   ],
   "id": "ac7acc46e5da91a5",
   "outputs": [
    {
     "name": "stdout",
     "output_type": "stream",
     "text": [
      "225\n",
      "100\n"
     ]
    }
   ],
   "execution_count": 9
  },
  {
   "metadata": {
    "ExecuteTime": {
     "end_time": "2025-01-27T03:43:32.741018Z",
     "start_time": "2025-01-26T23:32:57.786802Z"
    }
   },
   "cell_type": "code",
   "source": [
    "def func2(a,b,c):\n",
    "    result = np.where(np.logical_and(a+b>c,a+b<2*(c**2)),a+b,-c)\n",
    "    return result\n"
   ],
   "id": "9a8e39645f559b76",
   "outputs": [],
   "execution_count": 16
  },
  {
   "metadata": {
    "ExecuteTime": {
     "end_time": "2025-01-27T03:43:32.741178Z",
     "start_time": "2025-01-26T23:35:24.122631Z"
    }
   },
   "cell_type": "code",
   "source": [
    "A = np.array([1,2,3,4,5,6,7,8,9])\n",
    "B = np.array([2,4,6,8,10,12,14,16,18])\n",
    "C = np.array([0,9,1,8,2,7,3,6,4])\n",
    "print(func2(A,B,C))"
   ],
   "id": "237f500702628c5e",
   "outputs": [
    {
     "name": "stdout",
     "output_type": "stream",
     "text": [
      "[ 0 -9 -1 12 -2 18 -3 24 27]\n"
     ]
    }
   ],
   "execution_count": 23
  },
  {
   "metadata": {},
   "cell_type": "markdown",
   "source": "# Problem 2",
   "id": "7ac5a99a8803784c"
  },
  {
   "metadata": {
    "ExecuteTime": {
     "end_time": "2025-01-28T19:31:11.505058Z",
     "start_time": "2025-01-28T19:31:11.502715Z"
    }
   },
   "cell_type": "code",
   "source": [
    "def coin_flip(p):\n",
    "    #if np.random.rand() > p:\n",
    "      #  return 'Heads'\n",
    "   # else:\n",
    "     #   return 'Tails'\n",
    "    return 'Heads' if np.random.rand() <= p else 'Tails'\n"
   ],
   "id": "c7448ae8679752f3",
   "outputs": [],
   "execution_count": 260
  },
  {
   "metadata": {
    "ExecuteTime": {
     "end_time": "2025-01-28T19:34:13.181480Z",
     "start_time": "2025-01-28T19:34:13.178960Z"
    }
   },
   "cell_type": "code",
   "source": "coin_flip(0.5)",
   "id": "3ff322f81a8b33b0",
   "outputs": [
    {
     "data": {
      "text/plain": [
       "'Tails'"
      ]
     },
     "execution_count": 269,
     "metadata": {},
     "output_type": "execute_result"
    }
   ],
   "execution_count": 269
  },
  {
   "metadata": {
    "ExecuteTime": {
     "end_time": "2025-01-28T19:08:21.805045Z",
     "start_time": "2025-01-28T19:08:21.802366Z"
    }
   },
   "cell_type": "code",
   "source": [
    "def results(N):\n",
    "    fin = np.zeros(N)\n",
    "\n",
    "    for i in range(0,N):\n",
    "        if coin_flip(0.5) == 'Heads':\n",
    "            fin[i] += 1\n",
    "        else:\n",
    "            fin[i] += -1\n",
    "    return fin"
   ],
   "id": "7c346800bdfb7d36",
   "outputs": [],
   "execution_count": 60
  },
  {
   "metadata": {
    "ExecuteTime": {
     "end_time": "2025-01-28T19:08:23.343983Z",
     "start_time": "2025-01-28T19:08:23.340793Z"
    }
   },
   "cell_type": "code",
   "source": "results(100)",
   "id": "e43533dfc4f16d94",
   "outputs": [
    {
     "data": {
      "text/plain": [
       "array([ 1., -1.,  1.,  1.,  1., -1., -1., -1., -1.,  1.,  1., -1., -1.,\n",
       "        1., -1., -1., -1.,  1.,  1.,  1., -1.,  1.,  1.,  1.,  1.,  1.,\n",
       "        1.,  1., -1., -1.,  1., -1., -1.,  1., -1., -1., -1., -1.,  1.,\n",
       "       -1., -1., -1., -1., -1.,  1., -1., -1., -1.,  1.,  1.,  1.,  1.,\n",
       "        1.,  1.,  1., -1.,  1.,  1.,  1., -1.,  1.,  1.,  1.,  1., -1.,\n",
       "       -1., -1., -1., -1.,  1., -1.,  1.,  1.,  1., -1., -1.,  1.,  1.,\n",
       "        1.,  1.,  1., -1.,  1., -1., -1.,  1.,  1., -1.,  1., -1.,  1.,\n",
       "       -1., -1.,  1., -1., -1., -1., -1., -1., -1.])"
      ]
     },
     "execution_count": 61,
     "metadata": {},
     "output_type": "execute_result"
    }
   ],
   "execution_count": 61
  },
  {
   "metadata": {
    "ExecuteTime": {
     "end_time": "2025-01-28T19:31:16.473811Z",
     "start_time": "2025-01-28T19:31:16.470779Z"
    }
   },
   "cell_type": "code",
   "source": [
    "def do_you_wanna_play_a_game(p):\n",
    "    money = 50\n",
    "    count = 0\n",
    "    while 0<money<150:\n",
    "        count += 1\n",
    "        if coin_flip(p) == 'Heads':\n",
    "            money += 1\n",
    "        else:\n",
    "            money -= 1\n",
    "    return ('You Lost',money,count)if money < 150 else ('You Won',money,count)"
   ],
   "id": "64ce019a182c9ce0",
   "outputs": [],
   "execution_count": 261
  },
  {
   "metadata": {
    "ExecuteTime": {
     "end_time": "2025-01-28T19:31:32.647288Z",
     "start_time": "2025-01-28T19:31:32.628481Z"
    }
   },
   "cell_type": "code",
   "source": [
    "N = 0\n",
    "while N<10:\n",
    "    print(do_you_wanna_play_a_game(0.5))\n",
    "    N+=1"
   ],
   "id": "5cbedeba71fde3ee",
   "outputs": [
    {
     "name": "stdout",
     "output_type": "stream",
     "text": [
      "('You Won', 150, 1778)\n",
      "('You Won', 150, 2154)\n",
      "('You Lost', 0, 4188)\n",
      "('You Won', 150, 6030)\n",
      "('You Lost', 0, 538)\n",
      "('You Lost', 0, 11274)\n",
      "('You Won', 150, 15702)\n",
      "('You Lost', 0, 1060)\n",
      "('You Won', 150, 2594)\n",
      "('You Won', 150, 9366)\n"
     ]
    }
   ],
   "execution_count": 268
  },
  {
   "metadata": {},
   "cell_type": "markdown",
   "source": "# Problem 3",
   "id": "ab4f9fc5ffc189a8"
  },
  {
   "metadata": {
    "ExecuteTime": {
     "end_time": "2025-01-28T19:20:01.753955Z",
     "start_time": "2025-01-28T19:20:01.752058Z"
    }
   },
   "cell_type": "code",
   "source": "import time",
   "id": "ed6b45b7e43826f5",
   "outputs": [],
   "execution_count": 194
  },
  {
   "metadata": {
    "ExecuteTime": {
     "end_time": "2025-01-28T19:26:42.525931Z",
     "start_time": "2025-01-28T19:26:42.523624Z"
    }
   },
   "cell_type": "code",
   "source": [
    "def rand(a,b):\n",
    "    if a == 0 or b == 0:\n",
    "         raise TypeError('Cannot Multiply or divide by zero')\n",
    "    randomout = ((a*time.time())%b)\n",
    "    return randomout"
   ],
   "id": "b4f93f6d0969ca0e",
   "outputs": [],
   "execution_count": 200
  },
  {
   "metadata": {
    "ExecuteTime": {
     "end_time": "2025-01-28T19:27:15.812146Z",
     "start_time": "2025-01-28T19:27:15.810153Z"
    }
   },
   "cell_type": "code",
   "source": "rand(1,10)",
   "id": "ef842a60ad31dd29",
   "outputs": [
    {
     "data": {
      "text/plain": [
       "5.810650110244751"
      ]
     },
     "execution_count": 259,
     "metadata": {},
     "output_type": "execute_result"
    }
   ],
   "execution_count": 259
  },
  {
   "metadata": {},
   "cell_type": "code",
   "outputs": [],
   "execution_count": null,
   "source": "",
   "id": "2f094d1e314ed489"
  }
 ],
 "metadata": {
  "kernelspec": {
   "display_name": "Python 3",
   "language": "python",
   "name": "python3"
  },
  "language_info": {
   "codemirror_mode": {
    "name": "ipython",
    "version": 2
   },
   "file_extension": ".py",
   "mimetype": "text/x-python",
   "name": "python",
   "nbconvert_exporter": "python",
   "pygments_lexer": "ipython2",
   "version": "2.7.6"
  }
 },
 "nbformat": 4,
 "nbformat_minor": 5
}
