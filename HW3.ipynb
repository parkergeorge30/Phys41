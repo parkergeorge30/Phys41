{
 "cells": [
  {
   "metadata": {},
   "cell_type": "markdown",
   "source": [
    "# Homework 3\n",
    "## Parker George\n",
    "### Jan 31, 2025"
   ],
   "id": "650624521ed3aacc"
  },
  {
   "metadata": {},
   "cell_type": "markdown",
   "source": "# Problem 1",
   "id": "62b7cb3da0a0feb1"
  },
  {
   "metadata": {
    "ExecuteTime": {
     "end_time": "2025-01-27T03:44:09.237231Z",
     "start_time": "2025-01-27T03:44:09.096154Z"
    }
   },
   "cell_type": "code",
   "source": [
    "import numpy as np\n",
    "import matplotlib.pyplot as plt"
   ],
   "id": "403a1f8d0af496fd",
   "outputs": [],
   "execution_count": 1
  },
  {
   "metadata": {
    "ExecuteTime": {
     "end_time": "2025-01-27T03:43:32.740727Z",
     "start_time": "2025-01-26T22:56:32.542054Z"
    }
   },
   "cell_type": "code",
   "source": [
    "def func1(x):\n",
    "    if np.iterable(x): # checks wether or not the input is an array or a single number\n",
    "        for i in range(0,len(x)):\n",
    "            return np.max(x**2) # returns the max number in the array squared\n",
    "    else:\n",
    "        return x**2 # returns the number squared"
   ],
   "id": "2ef7380b4f467461",
   "outputs": [],
   "execution_count": 5
  },
  {
   "metadata": {
    "ExecuteTime": {
     "end_time": "2025-01-27T03:43:32.740845Z",
     "start_time": "2025-01-26T22:59:14.505395Z"
    }
   },
   "cell_type": "code",
   "source": [
    "x = np.array([13,1,2,3,4,5,15,6,7,8,9,12])\n",
    "print(func1(x))\n",
    "print(func1(10))"
   ],
   "id": "ac7acc46e5da91a5",
   "outputs": [
    {
     "name": "stdout",
     "output_type": "stream",
     "text": [
      "225\n",
      "100\n"
     ]
    }
   ],
   "execution_count": 9
  },
  {
   "metadata": {
    "ExecuteTime": {
     "end_time": "2025-01-27T03:43:32.741018Z",
     "start_time": "2025-01-26T23:32:57.786802Z"
    }
   },
   "cell_type": "code",
   "source": [
    "def func2(a,b,c):\n",
    "    result = np.where(np.logical_and(a+b>c,a+b<2*(c**2)),a+b,-c)\n",
    "    return result\n"
   ],
   "id": "9a8e39645f559b76",
   "outputs": [],
   "execution_count": 16
  },
  {
   "metadata": {
    "ExecuteTime": {
     "end_time": "2025-01-27T03:43:32.741178Z",
     "start_time": "2025-01-26T23:35:24.122631Z"
    }
   },
   "cell_type": "code",
   "source": [
    "A = np.array([1,2,3,4,5,6,7,8,9])\n",
    "B = np.array([2,4,6,8,10,12,14,16,18])\n",
    "C = np.array([0,9,1,8,2,7,3,6,4])\n",
    "print(func2(A,B,C))"
   ],
   "id": "237f500702628c5e",
   "outputs": [
    {
     "name": "stdout",
     "output_type": "stream",
     "text": [
      "[ 0 -9 -1 12 -2 18 -3 24 27]\n"
     ]
    }
   ],
   "execution_count": 23
  },
  {
   "metadata": {},
   "cell_type": "markdown",
   "source": "# Problem 2",
   "id": "7ac5a99a8803784c"
  },
  {
   "metadata": {
    "ExecuteTime": {
     "end_time": "2025-01-27T04:34:38.558201Z",
     "start_time": "2025-01-27T04:34:38.555277Z"
    }
   },
   "cell_type": "code",
   "source": [
    "def coin_flip(p):\n",
    "    if np.random.rand() > p:\n",
    "        return 'Heads'\n",
    "    else:\n",
    "        return 'Tails'\n"
   ],
   "id": "c7448ae8679752f3",
   "outputs": [],
   "execution_count": 317
  },
  {
   "metadata": {
    "ExecuteTime": {
     "end_time": "2025-01-27T04:22:55.529046Z",
     "start_time": "2025-01-27T04:22:55.526511Z"
    }
   },
   "cell_type": "code",
   "source": "coin_flip(0.45)",
   "id": "3ff322f81a8b33b0",
   "outputs": [
    {
     "data": {
      "text/plain": [
       "'Tails'"
      ]
     },
     "execution_count": 305,
     "metadata": {},
     "output_type": "execute_result"
    }
   ],
   "execution_count": 305
  },
  {
   "metadata": {
    "ExecuteTime": {
     "end_time": "2025-01-27T03:43:32.741576Z",
     "start_time": "2025-01-27T03:18:36.636776Z"
    }
   },
   "cell_type": "code",
   "source": [
    "def results(N):\n",
    "    fin = np.zeros(N)\n",
    "\n",
    "    for i in range(0,N):\n",
    "        if coin_flip(0.5) == 'Heads':\n",
    "            fin[i] += 1\n",
    "        else:\n",
    "            fin[i] += -1\n",
    "    return fin"
   ],
   "id": "7c346800bdfb7d36",
   "outputs": [],
   "execution_count": 48
  },
  {
   "metadata": {
    "ExecuteTime": {
     "end_time": "2025-01-27T03:43:32.741715Z",
     "start_time": "2025-01-27T03:25:31.412316Z"
    }
   },
   "cell_type": "code",
   "source": "results(100)",
   "id": "e43533dfc4f16d94",
   "outputs": [
    {
     "data": {
      "text/plain": [
       "array([ 1.,  1.,  1.,  1., -1.,  1., -1., -1.,  1., -1., -1.,  1., -1.,\n",
       "        1.,  1., -1., -1., -1.,  1., -1.,  1., -1., -1., -1.,  1., -1.,\n",
       "        1., -1., -1.,  1.,  1.,  1.,  1.,  1.,  1., -1., -1.,  1., -1.,\n",
       "        1., -1., -1., -1., -1., -1.,  1.,  1.,  1.,  1.,  1., -1.,  1.,\n",
       "       -1., -1.,  1.,  1., -1.,  1., -1., -1.,  1.,  1.,  1., -1.,  1.,\n",
       "       -1., -1., -1.,  1.,  1.,  1.,  1.,  1.,  1.,  1., -1., -1.,  1.,\n",
       "       -1.,  1., -1., -1., -1.,  1.,  1.,  1., -1., -1., -1.,  1., -1.,\n",
       "       -1., -1.,  1.,  1.,  1.,  1., -1.,  1., -1.])"
      ]
     },
     "execution_count": 51,
     "metadata": {},
     "output_type": "execute_result"
    }
   ],
   "execution_count": 51
  },
  {
   "metadata": {
    "ExecuteTime": {
     "end_time": "2025-01-27T04:34:42.627672Z",
     "start_time": "2025-01-27T04:34:42.624993Z"
    }
   },
   "cell_type": "code",
   "source": [
    "def do_you_wanna_play_a_game(p):\n",
    "    money = 50\n",
    "    count = 0\n",
    "    while 0<money<150:\n",
    "        count += 1\n",
    "        if coin_flip(p) == 'Heads':\n",
    "            money += 1\n",
    "        else:\n",
    "            money -= 1\n",
    "    if money == 0:\n",
    "        return 'Sorry, you lost all of your money, come again soon!',money, count\n",
    "    else:\n",
    "        return 'money money money', money ,count"
   ],
   "id": "64ce019a182c9ce0",
   "outputs": [],
   "execution_count": 318
  },
  {
   "metadata": {
    "ExecuteTime": {
     "end_time": "2025-01-27T04:36:39.184907Z",
     "start_time": "2025-01-27T04:36:39.154126Z"
    }
   },
   "cell_type": "code",
   "source": [
    "N = 0\n",
    "while N<10:\n",
    "    print(do_you_wanna_play_a_game(0.45))\n",
    "    N+=1"
   ],
   "id": "5cbedeba71fde3ee",
   "outputs": [
    {
     "name": "stdout",
     "output_type": "stream",
     "text": [
      "('Sorry, you lost all of your money, come again soon!', 0, 2900)\n",
      "('Sorry, you lost all of your money, come again soon!', 0, 932)\n",
      "('Sorry, you lost all of your money, come again soon!', 0, 1698)\n",
      "('Sorry, you lost all of your money, come again soon!', 0, 4852)\n",
      "('money money money', 150, 7698)\n",
      "('Sorry, you lost all of your money, come again soon!', 0, 1822)\n",
      "('Sorry, you lost all of your money, come again soon!', 0, 1148)\n",
      "('Sorry, you lost all of your money, come again soon!', 0, 2234)\n",
      "('money money money', 150, 3190)\n",
      "('Sorry, you lost all of your money, come again soon!', 0, 1282)\n"
     ]
    }
   ],
   "execution_count": 401
  },
  {
   "metadata": {},
   "cell_type": "code",
   "outputs": [],
   "execution_count": null,
   "source": "",
   "id": "11e379eb32f5d3d4"
  }
 ],
 "metadata": {
  "kernelspec": {
   "display_name": "Python 3",
   "language": "python",
   "name": "python3"
  },
  "language_info": {
   "codemirror_mode": {
    "name": "ipython",
    "version": 2
   },
   "file_extension": ".py",
   "mimetype": "text/x-python",
   "name": "python",
   "nbconvert_exporter": "python",
   "pygments_lexer": "ipython2",
   "version": "2.7.6"
  }
 },
 "nbformat": 4,
 "nbformat_minor": 5
}
