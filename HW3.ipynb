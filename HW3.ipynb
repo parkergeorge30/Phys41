{
 "cells": [
  {
   "metadata": {},
   "cell_type": "markdown",
   "source": [
    "# Homework 3\n",
    "## Parker George\n",
    "### Jan 31, 2025"
   ],
   "id": "650624521ed3aacc"
  },
  {
   "metadata": {},
   "cell_type": "markdown",
   "source": "# Problem 1",
   "id": "62b7cb3da0a0feb1"
  },
  {
   "metadata": {
    "ExecuteTime": {
     "end_time": "2025-01-31T23:43:07.720365Z",
     "start_time": "2025-01-31T23:43:07.440008Z"
    }
   },
   "cell_type": "code",
   "source": [
    "import numpy as np\n",
    "import matplotlib.pyplot as plt"
   ],
   "id": "403a1f8d0af496fd",
   "outputs": [],
   "execution_count": 3
  },
  {
   "metadata": {
    "ExecuteTime": {
     "end_time": "2025-01-31T23:43:07.724361Z",
     "start_time": "2025-01-31T23:43:07.722810Z"
    }
   },
   "cell_type": "code",
   "source": [
    "def func1(x):\n",
    "    if np.iterable(x): # checks wether or not the input is an array or a single number\n",
    "        for i in range(0,len(x)):\n",
    "            return np.max(x**2) # returns the max number in the array squared\n",
    "    else:\n",
    "        return x**2 # returns the number squared"
   ],
   "id": "2ef7380b4f467461",
   "outputs": [],
   "execution_count": 4
  },
  {
   "metadata": {
    "ExecuteTime": {
     "end_time": "2025-01-31T23:43:07.730114Z",
     "start_time": "2025-01-31T23:43:07.728254Z"
    }
   },
   "cell_type": "code",
   "source": [
    "x = np.array([13,1,2,3,4,5,15,6,7,8,9,12])\n",
    "print(func1(x))\n",
    "print(func1(10))"
   ],
   "id": "ac7acc46e5da91a5",
   "outputs": [
    {
     "name": "stdout",
     "output_type": "stream",
     "text": [
      "225\n",
      "100\n"
     ]
    }
   ],
   "execution_count": 5
  },
  {
   "metadata": {
    "ExecuteTime": {
     "end_time": "2025-01-31T23:43:07.737521Z",
     "start_time": "2025-01-31T23:43:07.735871Z"
    }
   },
   "cell_type": "code",
   "source": [
    "def func2(a,b,c):\n",
    "    result = np.where(np.logical_and(a+b>c,a+b<2*(c**2)),a+b,-c)\n",
    "    return result\n"
   ],
   "id": "9a8e39645f559b76",
   "outputs": [],
   "execution_count": 6
  },
  {
   "metadata": {
    "ExecuteTime": {
     "end_time": "2025-01-31T23:43:07.745527Z",
     "start_time": "2025-01-31T23:43:07.743793Z"
    }
   },
   "cell_type": "code",
   "source": [
    "A = np.array([1,2,3,4,5,6,7,8,9])\n",
    "B = np.array([2,4,6,8,10,12,14,16,18])\n",
    "C = np.array([0,9,1,8,2,7,3,6,4])\n",
    "print(func2(A,B,C))"
   ],
   "id": "237f500702628c5e",
   "outputs": [
    {
     "name": "stdout",
     "output_type": "stream",
     "text": [
      "[ 0 -9 -1 12 -2 18 -3 24 27]\n"
     ]
    }
   ],
   "execution_count": 7
  },
  {
   "metadata": {},
   "cell_type": "markdown",
   "source": "# Problem 2",
   "id": "7ac5a99a8803784c"
  },
  {
   "metadata": {
    "ExecuteTime": {
     "end_time": "2025-01-31T23:43:07.764528Z",
     "start_time": "2025-01-31T23:43:07.762803Z"
    }
   },
   "cell_type": "code",
   "source": [
    "def coin_flip(p):\n",
    "    #if np.random.rand() > p:\n",
    "      #  return 'Heads'\n",
    "   # else:\n",
    "     #   return 'Tails'\n",
    "    return 'Heads' if np.random.rand() <= p else 'Tails'\n"
   ],
   "id": "c7448ae8679752f3",
   "outputs": [],
   "execution_count": 8
  },
  {
   "metadata": {
    "ExecuteTime": {
     "end_time": "2025-01-31T23:43:07.814550Z",
     "start_time": "2025-01-31T23:43:07.770988Z"
    }
   },
   "cell_type": "code",
   "source": "coin_flip(0.5)",
   "id": "3ff322f81a8b33b0",
   "outputs": [
    {
     "data": {
      "text/plain": [
       "'Tails'"
      ]
     },
     "execution_count": 9,
     "metadata": {},
     "output_type": "execute_result"
    }
   ],
   "execution_count": 9
  },
  {
   "metadata": {
    "ExecuteTime": {
     "end_time": "2025-01-31T23:43:07.821823Z",
     "start_time": "2025-01-31T23:43:07.820189Z"
    }
   },
   "cell_type": "code",
   "source": [
    "def results(N):\n",
    "    fin = np.zeros(N)\n",
    "\n",
    "    for i in range(0,N):\n",
    "        if coin_flip(0.5) == 'Heads':\n",
    "            fin[i] += 1\n",
    "        else:\n",
    "            fin[i] += -1\n",
    "    return fin"
   ],
   "id": "7c346800bdfb7d36",
   "outputs": [],
   "execution_count": 10
  },
  {
   "metadata": {
    "ExecuteTime": {
     "end_time": "2025-01-31T23:43:07.831618Z",
     "start_time": "2025-01-31T23:43:07.829495Z"
    }
   },
   "cell_type": "code",
   "source": "results(100)",
   "id": "e43533dfc4f16d94",
   "outputs": [
    {
     "data": {
      "text/plain": [
       "array([-1., -1.,  1.,  1.,  1., -1.,  1.,  1., -1., -1.,  1.,  1., -1.,\n",
       "       -1., -1., -1.,  1., -1., -1., -1., -1.,  1.,  1., -1.,  1.,  1.,\n",
       "        1.,  1.,  1., -1.,  1.,  1.,  1., -1.,  1., -1., -1., -1.,  1.,\n",
       "        1., -1.,  1., -1., -1., -1., -1.,  1.,  1., -1.,  1.,  1., -1.,\n",
       "        1., -1.,  1., -1.,  1., -1.,  1.,  1., -1.,  1.,  1., -1.,  1.,\n",
       "       -1., -1., -1.,  1.,  1.,  1., -1., -1.,  1.,  1.,  1., -1.,  1.,\n",
       "       -1., -1., -1., -1.,  1.,  1.,  1., -1., -1.,  1.,  1.,  1.,  1.,\n",
       "       -1.,  1.,  1., -1.,  1., -1.,  1.,  1.,  1.])"
      ]
     },
     "execution_count": 11,
     "metadata": {},
     "output_type": "execute_result"
    }
   ],
   "execution_count": 11
  },
  {
   "metadata": {
    "ExecuteTime": {
     "end_time": "2025-01-31T23:43:07.840611Z",
     "start_time": "2025-01-31T23:43:07.838893Z"
    }
   },
   "cell_type": "code",
   "source": [
    "def do_you_wanna_play_a_game(p):\n",
    "    money = 50\n",
    "    count = 0\n",
    "    while 0<money<150:\n",
    "        count += 1\n",
    "        if coin_flip(p) == 'Heads':\n",
    "            money += 1\n",
    "        else:\n",
    "            money -= 1\n",
    "    return ('You Lost',money,count)if money < 150 else ('You Won',money,count)"
   ],
   "id": "64ce019a182c9ce0",
   "outputs": [],
   "execution_count": 12
  },
  {
   "metadata": {
    "ExecuteTime": {
     "end_time": "2025-01-31T23:54:04.478429Z",
     "start_time": "2025-01-31T23:54:04.473755Z"
    }
   },
   "cell_type": "code",
   "source": [
    "N = 0\n",
    "while N<10:\n",
    "    print(do_you_wanna_play_a_game(0.45))\n",
    "    N+=1"
   ],
   "id": "5cbedeba71fde3ee",
   "outputs": [
    {
     "name": "stdout",
     "output_type": "stream",
     "text": [
      "('You Lost', 0, 482)\n",
      "('You Lost', 0, 656)\n",
      "('You Lost', 0, 420)\n",
      "('You Lost', 0, 616)\n",
      "('You Lost', 0, 640)\n",
      "('You Lost', 0, 368)\n",
      "('You Lost', 0, 486)\n",
      "('You Lost', 0, 492)\n",
      "('You Lost', 0, 630)\n",
      "('You Lost', 0, 494)\n"
     ]
    }
   ],
   "execution_count": 51
  },
  {
   "metadata": {},
   "cell_type": "markdown",
   "source": "# Problem 3",
   "id": "ab4f9fc5ffc189a8"
  },
  {
   "metadata": {
    "ExecuteTime": {
     "end_time": "2025-01-31T23:43:07.859441Z",
     "start_time": "2025-01-31T23:43:07.858233Z"
    }
   },
   "cell_type": "code",
   "source": "import time",
   "id": "ed6b45b7e43826f5",
   "outputs": [],
   "execution_count": 14
  },
  {
   "metadata": {
    "ExecuteTime": {
     "end_time": "2025-01-31T23:43:07.868915Z",
     "start_time": "2025-01-31T23:43:07.866969Z"
    }
   },
   "cell_type": "code",
   "source": [
    "def rand_gen(a,b):\n",
    "    #randomout = np.zeros(N)\n",
    "    if a == 0 or b == 0:\n",
    "         raise TypeError('Cannot Multiply or divide by zero')\n",
    "    #for i in range(0,N):\n",
    "    randomout = (a*time.time())%b\n",
    "    return randomout / (b-1)\n",
    "\n",
    "rand_gen(123456789,987654321)"
   ],
   "id": "b4f93f6d0969ca0e",
   "outputs": [
    {
     "data": {
      "text/plain": [
       "0.5033147073158147"
      ]
     },
     "execution_count": 15,
     "metadata": {},
     "output_type": "execute_result"
    }
   ],
   "execution_count": 15
  },
  {
   "metadata": {
    "ExecuteTime": {
     "end_time": "2025-01-31T23:43:08.106490Z",
     "start_time": "2025-01-31T23:43:07.877259Z"
    }
   },
   "cell_type": "code",
   "source": [
    "# Very uniform\n",
    "n = 1000000\n",
    "dist1 = np.zeros(n)\n",
    "for i in range(0,n):\n",
    "    dist1[i] = rand_gen(87178291199,84673)\n",
    "plt.hist(dist1)\n",
    "plt.show()"
   ],
   "id": "2f094d1e314ed489",
   "outputs": [
    {
     "data": {
      "text/plain": [
       "<Figure size 640x480 with 1 Axes>"
      ],
      "image/png": "[encoded data removed]"
     },
     "metadata": {},
     "output_type": "display_data"
    }
   ],
   "execution_count": 16
  },
  {
   "metadata": {
    "ExecuteTime": {
     "end_time": "2025-01-31T23:43:08.153568Z",
     "start_time": "2025-01-31T23:43:08.110651Z"
    }
   },
   "cell_type": "code",
   "source": [
    "# Not Uniform\n",
    "n = 1000\n",
    "dist2 = np.zeros(n)\n",
    "for i in range(0,n):\n",
    "    dist2[i] = rand_gen(123456,182459876)\n",
    "plt.hist(dist2,bins=100)\n",
    "plt.show()"
   ],
   "id": "90d1d3ec596379fe",
   "outputs": [
    {
     "data": {
      "text/plain": [
       "<Figure size 640x480 with 1 Axes>"
      ],
      "image/png": "[encoded data removed]"
     },
     "metadata": {},
     "output_type": "display_data"
    }
   ],
   "execution_count": 17
  },
  {
   "metadata": {},
   "cell_type": "markdown",
   "source": [
    "## Quick note on challenge problem:\n",
    "So I tried to get it working with my random number generator, but I kept running into the issue that the numbers were too close together and I never really got a good distribution to show up. I also wasn't totally sure if you wanted the absolute value of the x values or to just have the negative x values be zero, one distribution looks good, the other is just over saturated at zero sadly."
   ],
   "id": "ba36028d19405f58"
  },
  {
   "metadata": {
    "ExecuteTime": {
     "end_time": "2025-01-31T23:49:27.025289Z",
     "start_time": "2025-01-31T23:49:27.022411Z"
    }
   },
   "cell_type": "code",
   "source": [
    "def poisson(N):\n",
    "    out = []\n",
    "    for i in range(0,N):\n",
    "        x = np.random.rand()*10-5\n",
    "        y = np.random.rand()\n",
    "        #x = rand_gen(np.arange(1,10000),100)*10-5\n",
    "        #y = rand_gen(np.arange(1,10000),100)\n",
    "\n",
    "        if x < 0:\n",
    "            x = 0\n",
    "        if np.exp(-x) > y:\n",
    "            out.append(x)\n",
    "\n",
    "    return np.array(out)\n",
    "\n",
    "def poisson_abs(N):\n",
    "    out = []\n",
    "    for i in range(0,N):\n",
    "        x = np.absolute(np.random.rand()*10-5)\n",
    "        y = np.random.rand()\n",
    "        #x = rand_gen(np.arange(1,10000),100)*10-5\n",
    "        #y = rand_gen(np.arange(1,10000),100)\n",
    "\n",
    "        if x < 0:\n",
    "            x = 0\n",
    "        if np.exp(-x) > y:\n",
    "            out.append(x)\n",
    "\n",
    "    return np.array(out)"
   ],
   "id": "3042c81060081184",
   "outputs": [],
   "execution_count": 33
  },
  {
   "metadata": {
    "ExecuteTime": {
     "end_time": "2025-01-31T23:50:43.594730Z",
     "start_time": "2025-01-31T23:50:43.493370Z"
    }
   },
   "cell_type": "code",
   "source": [
    "normal = poisson(10000)\n",
    "plt.hist(normal)\n",
    "plt.ylim(0,1000)\n",
    "plt.show()\n",
    "\n",
    "plt.hist(poisson_abs(10000), bins=100)\n",
    "plt.show()"
   ],
   "id": "d3921b348f9dc2ee",
   "outputs": [
    {
     "data": {
      "text/plain": [
       "<Figure size 640x480 with 1 Axes>"
      ],
      "image/png": "[encoded data removed]"
     },
     "metadata": {},
     "output_type": "display_data"
    },
    {
     "data": {
      "text/plain": [
       "<Figure size 640x480 with 1 Axes>"
      ],
      "image/png": "[encoded data removed]"
     },
     "metadata": {},
     "output_type": "display_data"
    }
   ],
   "execution_count": 37
  },
  {
   "metadata": {
    "ExecuteTime": {
     "end_time": "2025-01-30T20:01:01.753085Z",
     "start_time": "2025-01-30T20:01:01.751655Z"
    }
   },
   "cell_type": "code",
   "source": "",
   "id": "432b1149c49574e4",
   "outputs": [],
   "execution_count": null
  }
 ],
 "metadata": {
  "kernelspec": {
   "display_name": "Python 3",
   "language": "python",
   "name": "python3"
  },
  "language_info": {
   "codemirror_mode": {
    "name": "ipython",
    "version": 2
   },
   "file_extension": ".py",
   "mimetype": "text/x-python",
   "name": "python",
   "nbconvert_exporter": "python",
   "pygments_lexer": "ipython2",
   "version": "2.7.6"
  }
 },
 "nbformat": 4,
 "nbformat_minor": 5
}
